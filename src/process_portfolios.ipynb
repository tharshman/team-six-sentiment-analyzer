{
 "cells": [
  {
   "cell_type": "markdown",
   "id": "3a7b688596699b1e",
   "metadata": {
    "collapsed": false
   },
   "source": [
    "# Portfolio Analysis"
   ]
  },
  {
   "cell_type": "code",
   "execution_count": 134,
   "id": "initial_id",
   "metadata": {
    "collapsed": false,
    "ExecuteTime": {
     "end_time": "2023-11-28T06:50:51.547255100Z",
     "start_time": "2023-11-28T06:50:51.517259200Z"
    }
   },
   "outputs": [],
   "source": [
    "import numpy as np\n",
    "import pandas as pd\n",
    "from datetime import datetime \n",
    "import yfinance as yf\n",
    "import matplotlib.pyplot as plt\n",
    "import plotly.graph_objects as go"
   ]
  },
  {
   "cell_type": "code",
   "execution_count": 135,
   "id": "41920575debc75f5",
   "metadata": {
    "collapsed": false,
    "ExecuteTime": {
     "end_time": "2023-11-28T06:50:51.558268500Z",
     "start_time": "2023-11-28T06:50:51.521567Z"
    }
   },
   "outputs": [],
   "source": [
    "# Set up dates\n",
    "purchase_date = datetime(2023, 8, 21)\n",
    "sell_date = datetime(2023, 11, 20)\n",
    "month_one_end_date = datetime(2023, 9, 21)\n",
    "month_two_end_date = datetime(2023, 10, 21)\n",
    "month_three_end_date = datetime(2023, 11, 18)"
   ]
  },
  {
   "cell_type": "code",
   "execution_count": 136,
   "id": "c5e4fd5b329ca1d",
   "metadata": {
    "collapsed": false,
    "ExecuteTime": {
     "end_time": "2023-11-28T06:50:51.558268500Z",
     "start_time": "2023-11-28T06:50:51.534860Z"
    }
   },
   "outputs": [],
   "source": [
    "# Define methods\n",
    "def get_stock_data(df_portfolio: pd.DataFrame) -> pd.DataFrame:\n",
    "    \"\"\"Get stock data from Yahoo Finance API for a list of tickers and a date range\n",
    "    \n",
    "    Args:\n",
    "        df_portfolio: (pd.DataFrame): List of stock tickers\n",
    "        \n",
    "    Returns:\n",
    "        pd.DataFrame: Stock data for tickers and date range\n",
    "    \"\"\"\n",
    "    tickers = df_portfolio.index.to_list()\n",
    "    stock_data: pd.DataFrame = yf.download(tickers, start=purchase_date, end=sell_date, interval=\"1d\", auto_adjust=True, prepost=False, threads=True, proxy=None, group_by='ticker')\n",
    "    \n",
    "    # Set up date index for df_stock_data from Purchase_date to sell_date\n",
    "    stock_data = stock_data.reindex(pd.date_range(start=purchase_date, end=sell_date, freq='D'))\n",
    "    stock_data = stock_data.ffill()\n",
    "    stock_data = stock_data.dropna()\n",
    "    \n",
    "    if len(tickers) == 1:       \n",
    "        cols = pd.MultiIndex.from_tuples([\n",
    "            (tickers[0],   'Open'),\n",
    "            (tickers[0],   'High'),\n",
    "            (tickers[0],    'Low'),\n",
    "            (tickers[0],  'Close'),\n",
    "            (tickers[0], 'Volume')\n",
    "            ])\n",
    "        stock_data.columns = cols\n",
    "            \n",
    "    for ticker in tickers:        \n",
    "        # add new column for initial investment to df_stock_data for each group\n",
    "        stock_data[ticker, 'Initial Investment'] = df_portfolio.loc[ticker, 'AMOUNT_INVESTED']\n",
    "        stock_data[ticker, 'Purchase Price'] = stock_data.loc[purchase_date, (ticker, 'Close')]\n",
    "        stock_data[ticker, 'Shares'] = stock_data[ticker, 'Initial Investment'] / stock_data[ticker, 'Purchase Price']\n",
    "        stock_data[ticker, 'Current Value'] = stock_data[ticker, 'Shares'] * stock_data[ticker, 'Close']        \n",
    "        stock_data[ticker, 'Percent Change'] = (stock_data[ticker, 'Close'] - stock_data[ticker, 'Purchase Price']) / stock_data[ticker, 'Purchase Price']\n",
    "    \n",
    "        \n",
    "    return stock_data\n",
    "\n",
    "def extend_portfolio_data(df_portfolio: pd.DataFrame, df_stock_data: pd.DataFrame) -> None:\n",
    "    \"\"\"Extend portfolio data with stock data\n",
    "    \n",
    "    Args:\n",
    "        df_portfolio (pd.DataFrame): Portfolio data\n",
    "        df_stock_data (pd.DataFrame): Stock data\n",
    "        \n",
    "    Returns:\n",
    "        None\n",
    "    \"\"\"\n",
    "    if 'EXPECTED_RETURN_ARR' in df_portfolio.columns:\n",
    "        df_portfolio['ADJUSTED_EXPECTED_RETURN'] = df_portfolio['EXPECTED_RETURN_ARR'] / 4\n",
    "    else:\n",
    "        df_portfolio['EXPECTED_RETURN_ARR'] = np.NAN\n",
    "        df_portfolio['ADJUSTED_EXPECTED_RETURN'] = np.NAN\n",
    "    \n",
    "    \n",
    "    tickers = df_portfolio.index.to_list()\n",
    "    for ticker in tickers:\n",
    "        df_portfolio.loc[ticker, 'PURCHASE_PRICE'] = df_stock_data.loc[purchase_date, (ticker, 'Close')]\n",
    "        df_portfolio.loc[ticker, 'SHARES'] = df_stock_data.loc[purchase_date, (ticker, 'Shares')]\n",
    "        df_portfolio.loc[ticker, 'MONTH_1_PRICE'] = df_stock_data.loc[month_one_end_date, (ticker, 'Close')]\n",
    "        df_portfolio.loc[ticker, 'MONTH_1_VALUE'] = df_stock_data.loc[month_one_end_date, (ticker, 'Current Value')]\n",
    "        df_portfolio.loc[ticker, 'MONTH_1_RETURN'] = df_stock_data.loc[month_one_end_date, (ticker, 'Current Value')] - df_stock_data.loc[purchase_date, (ticker, 'Current Value')]\n",
    "        df_portfolio.loc[ticker, 'MONTH_2_PRICE'] = df_stock_data.loc[month_two_end_date, (ticker, 'Close')]\n",
    "        df_portfolio.loc[ticker, 'MONTH_2_VALUE'] = df_stock_data.loc[month_two_end_date, (ticker, 'Current Value')]\n",
    "        df_portfolio.loc[ticker, 'MONTH_2_RETURN'] = df_stock_data.loc[month_two_end_date, (ticker, 'Current Value')] - df_stock_data.loc[month_one_end_date, (ticker, 'Current Value')]\n",
    "        df_portfolio.loc[ticker, 'MONTH_3_PRICE'] = df_stock_data.loc[month_three_end_date, (ticker, 'Close')]\n",
    "        df_portfolio.loc[ticker, 'MONTH_3_VALUE'] = df_stock_data.loc[month_three_end_date, (ticker, 'Current Value')]\n",
    "        df_portfolio.loc[ticker, 'MONTH_3_RETURN'] = df_stock_data.loc[month_three_end_date, (ticker, 'Current Value')] - df_stock_data.loc[month_two_end_date, (ticker, 'Current Value')]\n",
    "        df_portfolio.loc[ticker, 'ACTUAL_RETURN'] = df_stock_data.loc[month_three_end_date, (ticker, 'Current Value')] - df_stock_data.loc[purchase_date, (ticker, 'Current Value')]\n",
    "        df_portfolio.loc[ticker, 'ACTUAL_RETURN_PCT'] = df_stock_data.loc[month_three_end_date, (ticker, 'Percent Change')]\n",
    "        \n",
    "# Function to calculate returns\n",
    "def calculate_returns(df: pd.DataFrame, start: str, end: str) -> float:\n",
    "    \"\"\"Calculate returns for a given date range\n",
    "    \n",
    "    Args:\n",
    "        df (pd.DataFrame): Stock data\n",
    "        start (str): Start date\n",
    "        end (str): End date\n",
    "        \n",
    "    Returns:\n",
    "        float: Return for the date range        \n",
    "    \"\"\"\n",
    "    subset = df.loc[start:end]\n",
    "    start_value = subset['Current Value'].iloc[0]\n",
    "    end_value = subset['Current Value'].iloc[-1]\n",
    "    return (end_value - start_value) / start_value\n",
    "\n",
    "def flatten_stock_data(df_stock_data: pd.DataFrame) -> pd.DataFrame:\n",
    "    \"\"\"Flatten stock data\n",
    "    \n",
    "    Args:\n",
    "        df_stock_data (pd.DataFrame): Stock data\n",
    "        \n",
    "    Returns:\n",
    "        pd.DataFrame: Flattened stock data\n",
    "    \"\"\"\n",
    "    df_tmp = df_stock_data.stack(level=0).rename_axis(['Date', 'Ticker']).reset_index(level=1)\n",
    "    df_flat_stock_data = df_tmp.groupby(level=0).sum()[['Current Value']]\n",
    "    return df_flat_stock_data\n",
    "    "
   ]
  },
  {
   "cell_type": "code",
   "execution_count": 137,
   "id": "cf282842dd176e6e",
   "metadata": {
    "collapsed": false,
    "ExecuteTime": {
     "end_time": "2023-11-28T06:50:51.707306Z",
     "start_time": "2023-11-28T06:50:51.546256700Z"
    }
   },
   "outputs": [
    {
     "name": "stdout",
     "output_type": "stream",
     "text": [
      "[*********************100%%**********************]  5 of 5 completed\n"
     ]
    },
    {
     "data": {
      "text/plain": "            Current Value\nDate                     \n2023-08-21   1.000000e+06\n2023-08-22   9.917681e+05\n2023-08-23   1.002502e+06\n2023-08-24   9.847366e+05\n2023-08-25   9.978638e+05\n...                   ...\n2023-11-16   9.661726e+05\n2023-11-17   9.692619e+05\n2023-11-18   9.692619e+05\n2023-11-19   9.692619e+05\n2023-11-20   9.692619e+05\n\n[92 rows x 1 columns]",
      "text/html": "<div>\n<style scoped>\n    .dataframe tbody tr th:only-of-type {\n        vertical-align: middle;\n    }\n\n    .dataframe tbody tr th {\n        vertical-align: top;\n    }\n\n    .dataframe thead th {\n        text-align: right;\n    }\n</style>\n<table border=\"1\" class=\"dataframe\">\n  <thead>\n    <tr style=\"text-align: right;\">\n      <th></th>\n      <th>Current Value</th>\n    </tr>\n    <tr>\n      <th>Date</th>\n      <th></th>\n    </tr>\n  </thead>\n  <tbody>\n    <tr>\n      <th>2023-08-21</th>\n      <td>1.000000e+06</td>\n    </tr>\n    <tr>\n      <th>2023-08-22</th>\n      <td>9.917681e+05</td>\n    </tr>\n    <tr>\n      <th>2023-08-23</th>\n      <td>1.002502e+06</td>\n    </tr>\n    <tr>\n      <th>2023-08-24</th>\n      <td>9.847366e+05</td>\n    </tr>\n    <tr>\n      <th>2023-08-25</th>\n      <td>9.978638e+05</td>\n    </tr>\n    <tr>\n      <th>...</th>\n      <td>...</td>\n    </tr>\n    <tr>\n      <th>2023-11-16</th>\n      <td>9.661726e+05</td>\n    </tr>\n    <tr>\n      <th>2023-11-17</th>\n      <td>9.692619e+05</td>\n    </tr>\n    <tr>\n      <th>2023-11-18</th>\n      <td>9.692619e+05</td>\n    </tr>\n    <tr>\n      <th>2023-11-19</th>\n      <td>9.692619e+05</td>\n    </tr>\n    <tr>\n      <th>2023-11-20</th>\n      <td>9.692619e+05</td>\n    </tr>\n  </tbody>\n</table>\n<p>92 rows × 1 columns</p>\n</div>"
     },
     "execution_count": 137,
     "metadata": {},
     "output_type": "execute_result"
    }
   ],
   "source": [
    "df_original_portfolio = pd.read_csv('../data/portfolio/original_portfolio.csv', index_col=0)\n",
    "df_original_stock_prices = get_stock_data(df_original_portfolio)\n",
    "extend_portfolio_data(df_original_portfolio, df_original_stock_prices)\n",
    "df_flat_original_stock_prices = flatten_stock_data(df_original_stock_prices)\n",
    "\n",
    "df_flat_original_stock_prices"
   ]
  },
  {
   "cell_type": "code",
   "execution_count": 138,
   "id": "55f2516a7ff5280d",
   "metadata": {
    "collapsed": false,
    "ExecuteTime": {
     "end_time": "2023-11-28T06:50:51.874039800Z",
     "start_time": "2023-11-28T06:50:51.706305800Z"
    }
   },
   "outputs": [
    {
     "name": "stdout",
     "output_type": "stream",
     "text": [
      "[*********************100%%**********************]  5 of 5 completed\n"
     ]
    },
    {
     "data": {
      "text/plain": "             Current Value\nDate                      \n2023-08-21  1000000.000000\n2023-08-22   994824.872475\n2023-08-23   998725.300346\n2023-08-24   991552.496414\n2023-08-25   999240.141714\n...                    ...\n2023-11-16   983353.375781\n2023-11-17   984111.915412\n2023-11-18   984111.915412\n2023-11-19   984111.915412\n2023-11-20   984111.915412\n\n[92 rows x 1 columns]",
      "text/html": "<div>\n<style scoped>\n    .dataframe tbody tr th:only-of-type {\n        vertical-align: middle;\n    }\n\n    .dataframe tbody tr th {\n        vertical-align: top;\n    }\n\n    .dataframe thead th {\n        text-align: right;\n    }\n</style>\n<table border=\"1\" class=\"dataframe\">\n  <thead>\n    <tr style=\"text-align: right;\">\n      <th></th>\n      <th>Current Value</th>\n    </tr>\n    <tr>\n      <th>Date</th>\n      <th></th>\n    </tr>\n  </thead>\n  <tbody>\n    <tr>\n      <th>2023-08-21</th>\n      <td>1000000.000000</td>\n    </tr>\n    <tr>\n      <th>2023-08-22</th>\n      <td>994824.872475</td>\n    </tr>\n    <tr>\n      <th>2023-08-23</th>\n      <td>998725.300346</td>\n    </tr>\n    <tr>\n      <th>2023-08-24</th>\n      <td>991552.496414</td>\n    </tr>\n    <tr>\n      <th>2023-08-25</th>\n      <td>999240.141714</td>\n    </tr>\n    <tr>\n      <th>...</th>\n      <td>...</td>\n    </tr>\n    <tr>\n      <th>2023-11-16</th>\n      <td>983353.375781</td>\n    </tr>\n    <tr>\n      <th>2023-11-17</th>\n      <td>984111.915412</td>\n    </tr>\n    <tr>\n      <th>2023-11-18</th>\n      <td>984111.915412</td>\n    </tr>\n    <tr>\n      <th>2023-11-19</th>\n      <td>984111.915412</td>\n    </tr>\n    <tr>\n      <th>2023-11-20</th>\n      <td>984111.915412</td>\n    </tr>\n  </tbody>\n</table>\n<p>92 rows × 1 columns</p>\n</div>"
     },
     "execution_count": 138,
     "metadata": {},
     "output_type": "execute_result"
    }
   ],
   "source": [
    "df_sentiment_portfolio = pd.read_csv('../data/portfolio/sentiment_portfolio.csv', index_col=0)\n",
    "df_sentiment_stock_prices = get_stock_data(df_sentiment_portfolio)\n",
    "extend_portfolio_data(df_sentiment_portfolio, df_sentiment_stock_prices)\n",
    "df_flat_sentiment_stock_prices = flatten_stock_data(df_sentiment_stock_prices)\n",
    "\n",
    "df_flat_sentiment_stock_prices"
   ]
  },
  {
   "cell_type": "markdown",
   "source": [],
   "metadata": {
    "collapsed": false
   },
   "id": "6e4e67ca3dfff13"
  },
  {
   "cell_type": "code",
   "execution_count": 139,
   "outputs": [
    {
     "name": "stdout",
     "output_type": "stream",
     "text": [
      "[*********************100%%**********************]  1 of 1 completed\n"
     ]
    },
    {
     "data": {
      "text/plain": "            Current Value\nDate                     \n2023-08-21   1.000000e+06\n2023-08-22   9.949262e+05\n2023-08-23   1.000270e+06\n2023-08-24   9.894303e+05\n2023-08-25   9.966111e+05\n...                   ...\n2023-11-16   1.013979e+06\n2023-11-17   1.014032e+06\n2023-11-18   1.014032e+06\n2023-11-19   1.014032e+06\n2023-11-20   1.014032e+06\n\n[92 rows x 1 columns]",
      "text/html": "<div>\n<style scoped>\n    .dataframe tbody tr th:only-of-type {\n        vertical-align: middle;\n    }\n\n    .dataframe tbody tr th {\n        vertical-align: top;\n    }\n\n    .dataframe thead th {\n        text-align: right;\n    }\n</style>\n<table border=\"1\" class=\"dataframe\">\n  <thead>\n    <tr style=\"text-align: right;\">\n      <th></th>\n      <th>Current Value</th>\n    </tr>\n    <tr>\n      <th>Date</th>\n      <th></th>\n    </tr>\n  </thead>\n  <tbody>\n    <tr>\n      <th>2023-08-21</th>\n      <td>1.000000e+06</td>\n    </tr>\n    <tr>\n      <th>2023-08-22</th>\n      <td>9.949262e+05</td>\n    </tr>\n    <tr>\n      <th>2023-08-23</th>\n      <td>1.000270e+06</td>\n    </tr>\n    <tr>\n      <th>2023-08-24</th>\n      <td>9.894303e+05</td>\n    </tr>\n    <tr>\n      <th>2023-08-25</th>\n      <td>9.966111e+05</td>\n    </tr>\n    <tr>\n      <th>...</th>\n      <td>...</td>\n    </tr>\n    <tr>\n      <th>2023-11-16</th>\n      <td>1.013979e+06</td>\n    </tr>\n    <tr>\n      <th>2023-11-17</th>\n      <td>1.014032e+06</td>\n    </tr>\n    <tr>\n      <th>2023-11-18</th>\n      <td>1.014032e+06</td>\n    </tr>\n    <tr>\n      <th>2023-11-19</th>\n      <td>1.014032e+06</td>\n    </tr>\n    <tr>\n      <th>2023-11-20</th>\n      <td>1.014032e+06</td>\n    </tr>\n  </tbody>\n</table>\n<p>92 rows × 1 columns</p>\n</div>"
     },
     "execution_count": 139,
     "metadata": {},
     "output_type": "execute_result"
    }
   ],
   "source": [
    "df_djia_portfolio = pd.read_csv('../data/portfolio/djia_portfolio.csv', index_col=0)\n",
    "df_djia_prices = get_stock_data(df_djia_portfolio)\n",
    "df_flat_djia_prices = flatten_stock_data(df_djia_prices)\n",
    "\n",
    "df_flat_djia_prices"
   ],
   "metadata": {
    "collapsed": false,
    "ExecuteTime": {
     "end_time": "2023-11-28T06:50:51.950811Z",
     "start_time": "2023-11-28T06:50:51.873034400Z"
    }
   },
   "id": "a33b90b90071c75a"
  },
  {
   "cell_type": "code",
   "execution_count": 140,
   "id": "f619c75ed5c39d06",
   "metadata": {
    "collapsed": false,
    "ExecuteTime": {
     "end_time": "2023-11-28T06:50:51.950811Z",
     "start_time": "2023-11-28T06:50:51.905812900Z"
    }
   },
   "outputs": [
    {
     "data": {
      "text/plain": "   Start Date    End Date  Your Portfolio Return  Sentiment Portfolio Return\n0  2023-08-22  2023-09-21              -0.018039                   -0.016522\n1  2023-09-22  2023-10-21              -0.032867                   -0.034882\n2  2023-10-21  2023-11-18               0.033438                    0.047325",
      "text/html": "<div>\n<style scoped>\n    .dataframe tbody tr th:only-of-type {\n        vertical-align: middle;\n    }\n\n    .dataframe tbody tr th {\n        vertical-align: top;\n    }\n\n    .dataframe thead th {\n        text-align: right;\n    }\n</style>\n<table border=\"1\" class=\"dataframe\">\n  <thead>\n    <tr style=\"text-align: right;\">\n      <th></th>\n      <th>Start Date</th>\n      <th>End Date</th>\n      <th>Your Portfolio Return</th>\n      <th>Sentiment Portfolio Return</th>\n    </tr>\n  </thead>\n  <tbody>\n    <tr>\n      <th>0</th>\n      <td>2023-08-22</td>\n      <td>2023-09-21</td>\n      <td>-0.018039</td>\n      <td>-0.016522</td>\n    </tr>\n    <tr>\n      <th>1</th>\n      <td>2023-09-22</td>\n      <td>2023-10-21</td>\n      <td>-0.032867</td>\n      <td>-0.034882</td>\n    </tr>\n    <tr>\n      <th>2</th>\n      <td>2023-10-21</td>\n      <td>2023-11-18</td>\n      <td>0.033438</td>\n      <td>0.047325</td>\n    </tr>\n  </tbody>\n</table>\n</div>"
     },
     "execution_count": 140,
     "metadata": {},
     "output_type": "execute_result"
    }
   ],
   "source": [
    "date_ranges = [('2023-08-22', '2023-09-21'), \n",
    "               ('2023-09-22', '2023-10-21'), \n",
    "               ('2023-10-21', '2023-11-18')]\n",
    "\n",
    "# Calculate returns for each period\n",
    "returns = []\n",
    "for start_date, end_date in date_ranges:\n",
    "    your_return = calculate_returns(df_flat_original_stock_prices, start_date, end_date)\n",
    "    sentiment_return = calculate_returns(df_flat_sentiment_stock_prices, start_date, end_date)\n",
    "    returns.append((start_date, end_date, your_return, sentiment_return))\n",
    "\n",
    "# Create DataFrame for the returns\n",
    "df_returns = pd.DataFrame(returns, columns=['Start Date', 'End Date', 'Your Portfolio Return', 'Sentiment Portfolio Return'])\n",
    "\n",
    "# Display the DataFrame\n",
    "df_returns"
   ]
  },
  {
   "cell_type": "markdown",
   "id": "338ba1aaed48bca7",
   "metadata": {
    "collapsed": false
   },
   "source": [
    "## Compare expected returns versus actual returns"
   ]
  },
  {
   "cell_type": "code",
   "execution_count": 141,
   "id": "136b652ec74b6efe",
   "metadata": {
    "collapsed": false,
    "ExecuteTime": {
     "end_time": "2023-11-28T06:50:52.066546400Z",
     "start_time": "2023-11-28T06:50:51.917724600Z"
    }
   },
   "outputs": [
    {
     "data": {
      "text/plain": "<Figure size 1000x600 with 1 Axes>",
      "image/png": "[encoded data removed]"
     },
     "metadata": {},
     "output_type": "display_data"
    }
   ],
   "source": [
    "df_original_portfolio_returns = df_original_portfolio[['NAME', 'ADJUSTED_EXPECTED_RETURN', 'ACTUAL_RETURN_PCT']]\n",
    "\n",
    "ind = np.arange(5)\n",
    "width = 0.25\n",
    "plt.figure(figsize=(10, 6))\n",
    "bar1 = plt.bar(ind, df_original_portfolio_returns['ADJUSTED_EXPECTED_RETURN'], width, label='Expected Return')\n",
    "bar2 = plt.bar(ind + width, df_original_portfolio_returns['ACTUAL_RETURN_PCT'], width, label='Actual Return')\n",
    "plt.xlabel('Company')\n",
    "plt.ylabel('% Return')\n",
    "plt.title('Expected vs Actual Returns')\n",
    "\n",
    "plt.xticks(ind + width / 2, df_original_portfolio_returns['NAME'])\n",
    "plt.legend()\n",
    "plt.show()"
   ]
  },
  {
   "cell_type": "markdown",
   "id": "b410eda102bce9cf",
   "metadata": {
    "collapsed": false
   },
   "source": [
    "## Compare Original Portfolio vs Sentiment Portfolio"
   ]
  },
  {
   "cell_type": "code",
   "execution_count": 142,
   "id": "a805890103efa49d",
   "metadata": {
    "collapsed": false,
    "ExecuteTime": {
     "end_time": "2023-11-28T06:50:52.082551700Z",
     "start_time": "2023-11-28T06:50:52.039289500Z"
    }
   },
   "outputs": [
    {
     "data": {
      "text/plain": "                       NAME  AMOUNT_INVESTED  EXPECTED_RETURN_ARR  \\\nTICKER                                                              \nCRM          Salesforce Inc         300000.0               0.1634   \nMRK          Merck & Co Inc         200000.0               0.1268   \nKO             Coca-Cola Co         200000.0               0.0776   \nBA       The Boeing Company         150000.0               0.0946   \nCVX     Chevron Corporation         150000.0               0.0752   \nWMT            Walmart Inc.         200000.0                  NaN   \nDOW                Dow Inc.         200000.0                  NaN   \nHD          Home Depot Inc.         200000.0                  NaN   \nKO        Coca-Cola Company         200000.0                  NaN   \nCRM         Salesforce Inc.         200000.0                  NaN   \n\n        ADJUSTED_EXPECTED_RETURN  PURCHASE_PRICE       SHARES  MONTH_1_PRICE  \\\nTICKER                                                                         \nCRM                      0.04085      209.029999  1435.200697     208.610001   \nMRK                      0.03170      108.897614  1836.587539     106.730003   \nKO                       0.01940       59.954334  3335.872251      57.540001   \nBA                       0.02365      227.220001   660.153152     199.949997   \nCVX                      0.01880      158.696472   945.200596     163.476364   \nWMT                          NaN      157.509995  1269.760694     161.919998   \nDOW                          NaN       53.483559  3739.466951      51.000000   \nHD                           NaN      322.003754   621.110772     306.760010   \nKO                           NaN       59.954334  3335.872251      57.540001   \nCRM                          NaN      209.029999   956.800465     208.610001   \n\n        MONTH_1_VALUE  MONTH_1_RETURN  MONTH_2_PRICE  MONTH_2_VALUE  \\\nTICKER                                                                \nCRM     299397.218335     -602.781665     203.729996  292393.431925   \nMRK     196018.994176    -3981.005824     102.669998  188562.439240   \nKO      191946.092394    -8053.907606      54.570000  182038.547736   \nBA      131997.620725   -18002.379275     180.039993  118853.969051   \nCVX     154517.956734     4517.956734     165.099350  156052.003917   \nWMT     205599.649312     5599.649312     158.759995  201587.200868   \nDOW     190712.814490    -9287.185510      48.990002  183196.492196   \nHD      190531.946461    -9468.053539     286.410004  177892.338462   \nKO      191946.092394    -8053.907606      54.570000  182038.547736   \nCRM     199598.145557     -401.854443     203.729996  194928.954616   \n\n        MONTH_2_RETURN  MONTH_3_PRICE  MONTH_3_VALUE  MONTH_3_RETURN  \\\nTICKER                                                                 \nCRM       -7003.786411     221.220001  317495.100004    25101.668079   \nMRK       -7456.554936     101.750000  186872.782067    -1689.657173   \nKO        -9907.544658      57.259998  191012.039510     8973.491775   \nBA       -13143.651674     208.039993  137338.257307    18484.288256   \nCVX        1534.047182     144.460007  136543.684375   -19508.319542   \nWMT       -4012.448444     155.350006  197257.331625    -4329.869243   \nDOW       -7516.322295      51.700001  193330.444209    10133.952013   \nHD       -12639.608000     307.269989  190848.700066    12956.361604   \nKO        -9907.544658      57.259998  191012.039510     8973.491775   \nCRM       -4669.190940     221.220001  211663.400002    16734.445386   \n\n        ACTUAL_RETURN  ACTUAL_RETURN_PCT  PORTFOLIO  \nTICKER                                               \nCRM      17495.100004           0.058317   ORIGINAL  \nMRK     -13127.217933          -0.065636   ORIGINAL  \nKO       -8987.960490          -0.044940   ORIGINAL  \nBA      -12661.742693          -0.084412   ORIGINAL  \nCVX     -13456.315625          -0.089709   ORIGINAL  \nWMT      -2742.668375          -0.013713  SENTIMENT  \nDOW      -6669.555791          -0.033348  SENTIMENT  \nHD       -9151.299934          -0.045756  SENTIMENT  \nKO       -8987.960490          -0.044940  SENTIMENT  \nCRM      11663.400002           0.058317  SENTIMENT  ",
      "text/html": "<div>\n<style scoped>\n    .dataframe tbody tr th:only-of-type {\n        vertical-align: middle;\n    }\n\n    .dataframe tbody tr th {\n        vertical-align: top;\n    }\n\n    .dataframe thead th {\n        text-align: right;\n    }\n</style>\n<table border=\"1\" class=\"dataframe\">\n  <thead>\n    <tr style=\"text-align: right;\">\n      <th></th>\n      <th>NAME</th>\n      <th>AMOUNT_INVESTED</th>\n      <th>EXPECTED_RETURN_ARR</th>\n      <th>ADJUSTED_EXPECTED_RETURN</th>\n      <th>PURCHASE_PRICE</th>\n      <th>SHARES</th>\n      <th>MONTH_1_PRICE</th>\n      <th>MONTH_1_VALUE</th>\n      <th>MONTH_1_RETURN</th>\n      <th>MONTH_2_PRICE</th>\n      <th>MONTH_2_VALUE</th>\n      <th>MONTH_2_RETURN</th>\n      <th>MONTH_3_PRICE</th>\n      <th>MONTH_3_VALUE</th>\n      <th>MONTH_3_RETURN</th>\n      <th>ACTUAL_RETURN</th>\n      <th>ACTUAL_RETURN_PCT</th>\n      <th>PORTFOLIO</th>\n    </tr>\n    <tr>\n      <th>TICKER</th>\n      <th></th>\n      <th></th>\n      <th></th>\n      <th></th>\n      <th></th>\n      <th></th>\n      <th></th>\n      <th></th>\n      <th></th>\n      <th></th>\n      <th></th>\n      <th></th>\n      <th></th>\n      <th></th>\n      <th></th>\n      <th></th>\n      <th></th>\n      <th></th>\n    </tr>\n  </thead>\n  <tbody>\n    <tr>\n      <th>CRM</th>\n      <td>Salesforce Inc</td>\n      <td>300000.0</td>\n      <td>0.1634</td>\n      <td>0.04085</td>\n      <td>209.029999</td>\n      <td>1435.200697</td>\n      <td>208.610001</td>\n      <td>299397.218335</td>\n      <td>-602.781665</td>\n      <td>203.729996</td>\n      <td>292393.431925</td>\n      <td>-7003.786411</td>\n      <td>221.220001</td>\n      <td>317495.100004</td>\n      <td>25101.668079</td>\n      <td>17495.100004</td>\n      <td>0.058317</td>\n      <td>ORIGINAL</td>\n    </tr>\n    <tr>\n      <th>MRK</th>\n      <td>Merck &amp; Co Inc</td>\n      <td>200000.0</td>\n      <td>0.1268</td>\n      <td>0.03170</td>\n      <td>108.897614</td>\n      <td>1836.587539</td>\n      <td>106.730003</td>\n      <td>196018.994176</td>\n      <td>-3981.005824</td>\n      <td>102.669998</td>\n      <td>188562.439240</td>\n      <td>-7456.554936</td>\n      <td>101.750000</td>\n      <td>186872.782067</td>\n      <td>-1689.657173</td>\n      <td>-13127.217933</td>\n      <td>-0.065636</td>\n      <td>ORIGINAL</td>\n    </tr>\n    <tr>\n      <th>KO</th>\n      <td>Coca-Cola Co</td>\n      <td>200000.0</td>\n      <td>0.0776</td>\n      <td>0.01940</td>\n      <td>59.954334</td>\n      <td>3335.872251</td>\n      <td>57.540001</td>\n      <td>191946.092394</td>\n      <td>-8053.907606</td>\n      <td>54.570000</td>\n      <td>182038.547736</td>\n      <td>-9907.544658</td>\n      <td>57.259998</td>\n      <td>191012.039510</td>\n      <td>8973.491775</td>\n      <td>-8987.960490</td>\n      <td>-0.044940</td>\n      <td>ORIGINAL</td>\n    </tr>\n    <tr>\n      <th>BA</th>\n      <td>The Boeing Company</td>\n      <td>150000.0</td>\n      <td>0.0946</td>\n      <td>0.02365</td>\n      <td>227.220001</td>\n      <td>660.153152</td>\n      <td>199.949997</td>\n      <td>131997.620725</td>\n      <td>-18002.379275</td>\n      <td>180.039993</td>\n      <td>118853.969051</td>\n      <td>-13143.651674</td>\n      <td>208.039993</td>\n      <td>137338.257307</td>\n      <td>18484.288256</td>\n      <td>-12661.742693</td>\n      <td>-0.084412</td>\n      <td>ORIGINAL</td>\n    </tr>\n    <tr>\n      <th>CVX</th>\n      <td>Chevron Corporation</td>\n      <td>150000.0</td>\n      <td>0.0752</td>\n      <td>0.01880</td>\n      <td>158.696472</td>\n      <td>945.200596</td>\n      <td>163.476364</td>\n      <td>154517.956734</td>\n      <td>4517.956734</td>\n      <td>165.099350</td>\n      <td>156052.003917</td>\n      <td>1534.047182</td>\n      <td>144.460007</td>\n      <td>136543.684375</td>\n      <td>-19508.319542</td>\n      <td>-13456.315625</td>\n      <td>-0.089709</td>\n      <td>ORIGINAL</td>\n    </tr>\n    <tr>\n      <th>WMT</th>\n      <td>Walmart Inc.</td>\n      <td>200000.0</td>\n      <td>NaN</td>\n      <td>NaN</td>\n      <td>157.509995</td>\n      <td>1269.760694</td>\n      <td>161.919998</td>\n      <td>205599.649312</td>\n      <td>5599.649312</td>\n      <td>158.759995</td>\n      <td>201587.200868</td>\n      <td>-4012.448444</td>\n      <td>155.350006</td>\n      <td>197257.331625</td>\n      <td>-4329.869243</td>\n      <td>-2742.668375</td>\n      <td>-0.013713</td>\n      <td>SENTIMENT</td>\n    </tr>\n    <tr>\n      <th>DOW</th>\n      <td>Dow Inc.</td>\n      <td>200000.0</td>\n      <td>NaN</td>\n      <td>NaN</td>\n      <td>53.483559</td>\n      <td>3739.466951</td>\n      <td>51.000000</td>\n      <td>190712.814490</td>\n      <td>-9287.185510</td>\n      <td>48.990002</td>\n      <td>183196.492196</td>\n      <td>-7516.322295</td>\n      <td>51.700001</td>\n      <td>193330.444209</td>\n      <td>10133.952013</td>\n      <td>-6669.555791</td>\n      <td>-0.033348</td>\n      <td>SENTIMENT</td>\n    </tr>\n    <tr>\n      <th>HD</th>\n      <td>Home Depot Inc.</td>\n      <td>200000.0</td>\n      <td>NaN</td>\n      <td>NaN</td>\n      <td>322.003754</td>\n      <td>621.110772</td>\n      <td>306.760010</td>\n      <td>190531.946461</td>\n      <td>-9468.053539</td>\n      <td>286.410004</td>\n      <td>177892.338462</td>\n      <td>-12639.608000</td>\n      <td>307.269989</td>\n      <td>190848.700066</td>\n      <td>12956.361604</td>\n      <td>-9151.299934</td>\n      <td>-0.045756</td>\n      <td>SENTIMENT</td>\n    </tr>\n    <tr>\n      <th>KO</th>\n      <td>Coca-Cola Company</td>\n      <td>200000.0</td>\n      <td>NaN</td>\n      <td>NaN</td>\n      <td>59.954334</td>\n      <td>3335.872251</td>\n      <td>57.540001</td>\n      <td>191946.092394</td>\n      <td>-8053.907606</td>\n      <td>54.570000</td>\n      <td>182038.547736</td>\n      <td>-9907.544658</td>\n      <td>57.259998</td>\n      <td>191012.039510</td>\n      <td>8973.491775</td>\n      <td>-8987.960490</td>\n      <td>-0.044940</td>\n      <td>SENTIMENT</td>\n    </tr>\n    <tr>\n      <th>CRM</th>\n      <td>Salesforce Inc.</td>\n      <td>200000.0</td>\n      <td>NaN</td>\n      <td>NaN</td>\n      <td>209.029999</td>\n      <td>956.800465</td>\n      <td>208.610001</td>\n      <td>199598.145557</td>\n      <td>-401.854443</td>\n      <td>203.729996</td>\n      <td>194928.954616</td>\n      <td>-4669.190940</td>\n      <td>221.220001</td>\n      <td>211663.400002</td>\n      <td>16734.445386</td>\n      <td>11663.400002</td>\n      <td>0.058317</td>\n      <td>SENTIMENT</td>\n    </tr>\n  </tbody>\n</table>\n</div>"
     },
     "execution_count": 142,
     "metadata": {},
     "output_type": "execute_result"
    }
   ],
   "source": [
    "df_original_portfolio[\"PORTFOLIO\"] = \"ORIGINAL\"\n",
    "df_sentiment_portfolio[\"PORTFOLIO\"] = \"SENTIMENT\"\n",
    "df_combined_portfolio = pd.concat([df_original_portfolio, df_sentiment_portfolio])\n",
    "df_combined_portfolio"
   ]
  },
  {
   "cell_type": "code",
   "execution_count": 143,
   "id": "43552ff14c8233bd",
   "metadata": {
    "collapsed": false,
    "ExecuteTime": {
     "end_time": "2023-11-28T06:50:52.083553Z",
     "start_time": "2023-11-28T06:50:52.056008700Z"
    }
   },
   "outputs": [
    {
     "data": {
      "text/plain": "           MONTH_1_RETURN  MONTH_2_RETURN  MONTH_3_RETURN  ACTUAL_RETURN  \\\nPORTFOLIO                                                                  \nORIGINAL    -26122.117636   -35977.490496    31361.471395  -30738.136737   \nSENTIMENT   -21611.351785   -38745.114337    44468.381535  -15888.084588   \n\n           ACTUAL_RETURN_PCT  \nPORTFOLIO                     \nORIGINAL           -0.226379  \nSENTIMENT          -0.079440  ",
      "text/html": "<div>\n<style scoped>\n    .dataframe tbody tr th:only-of-type {\n        vertical-align: middle;\n    }\n\n    .dataframe tbody tr th {\n        vertical-align: top;\n    }\n\n    .dataframe thead th {\n        text-align: right;\n    }\n</style>\n<table border=\"1\" class=\"dataframe\">\n  <thead>\n    <tr style=\"text-align: right;\">\n      <th></th>\n      <th>MONTH_1_RETURN</th>\n      <th>MONTH_2_RETURN</th>\n      <th>MONTH_3_RETURN</th>\n      <th>ACTUAL_RETURN</th>\n      <th>ACTUAL_RETURN_PCT</th>\n    </tr>\n    <tr>\n      <th>PORTFOLIO</th>\n      <th></th>\n      <th></th>\n      <th></th>\n      <th></th>\n      <th></th>\n    </tr>\n  </thead>\n  <tbody>\n    <tr>\n      <th>ORIGINAL</th>\n      <td>-26122.117636</td>\n      <td>-35977.490496</td>\n      <td>31361.471395</td>\n      <td>-30738.136737</td>\n      <td>-0.226379</td>\n    </tr>\n    <tr>\n      <th>SENTIMENT</th>\n      <td>-21611.351785</td>\n      <td>-38745.114337</td>\n      <td>44468.381535</td>\n      <td>-15888.084588</td>\n      <td>-0.079440</td>\n    </tr>\n  </tbody>\n</table>\n</div>"
     },
     "execution_count": 143,
     "metadata": {},
     "output_type": "execute_result"
    }
   ],
   "source": [
    "df_combined_portfolio.groupby('PORTFOLIO').sum()[['MONTH_1_RETURN','MONTH_2_RETURN','MONTH_3_RETURN','ACTUAL_RETURN', 'ACTUAL_RETURN_PCT']]"
   ]
  },
  {
   "cell_type": "code",
   "execution_count": 144,
   "id": "c5840a13309e3706",
   "metadata": {
    "collapsed": false,
    "ExecuteTime": {
     "end_time": "2023-11-28T06:50:52.262876400Z",
     "start_time": "2023-11-28T06:50:52.067546500Z"
    }
   },
   "outputs": [
    {
     "data": {
      "text/plain": "<Figure size 1000x600 with 1 Axes>",
      "image/png": "[encoded data removed]"
     },
     "metadata": {},
     "output_type": "display_data"
    }
   ],
   "source": [
    "# Plotting\n",
    "plt.figure(figsize=(10, 6))\n",
    "plt.plot(df_returns['End Date'], df_returns['Your Portfolio Return'], label='Your Portfolio')\n",
    "plt.plot(df_returns['End Date'], df_returns['Sentiment Portfolio Return'], label='Sentiment Portfolio')\n",
    "plt.xlabel('End Date')\n",
    "plt.ylabel('Return')\n",
    "plt.title('Month-by-Month Portfolio Returns Comparison')\n",
    "plt.legend()\n",
    "plt.show()"
   ]
  },
  {
   "cell_type": "code",
   "execution_count": 145,
   "id": "835eea1627727e5f",
   "metadata": {
    "collapsed": false,
    "ExecuteTime": {
     "end_time": "2023-11-28T06:50:52.262876400Z",
     "start_time": "2023-11-28T06:50:52.161555500Z"
    }
   },
   "outputs": [
    {
     "data": {
      "application/vnd.plotly.v1+json": {
       "data": [
        {
         "name": "Sentiment Portfolio",
         "x": [
          "2023-08-21T00:00:00",
          "2023-08-22T00:00:00",
          "2023-08-23T00:00:00",
          "2023-08-24T00:00:00",
          "2023-08-25T00:00:00",
          "2023-08-26T00:00:00",
          "2023-08-27T00:00:00",
          "2023-08-28T00:00:00",
          "2023-08-29T00:00:00",
          "2023-08-30T00:00:00",
          "2023-08-31T00:00:00",
          "2023-09-01T00:00:00",
          "2023-09-02T00:00:00",
          "2023-09-03T00:00:00",
          "2023-09-04T00:00:00",
          "2023-09-05T00:00:00",
          "2023-09-06T00:00:00",
          "2023-09-07T00:00:00",
          "2023-09-08T00:00:00",
          "2023-09-09T00:00:00",
          "2023-09-10T00:00:00",
          "2023-09-11T00:00:00",
          "2023-09-12T00:00:00",
          "2023-09-13T00:00:00",
          "2023-09-14T00:00:00",
          "2023-09-15T00:00:00",
          "2023-09-16T00:00:00",
          "2023-09-17T00:00:00",
          "2023-09-18T00:00:00",
          "2023-09-19T00:00:00",
          "2023-09-20T00:00:00",
          "2023-09-21T00:00:00",
          "2023-09-22T00:00:00",
          "2023-09-23T00:00:00",
          "2023-09-24T00:00:00",
          "2023-09-25T00:00:00",
          "2023-09-26T00:00:00",
          "2023-09-27T00:00:00",
          "2023-09-28T00:00:00",
          "2023-09-29T00:00:00",
          "2023-09-30T00:00:00",
          "2023-10-01T00:00:00",
          "2023-10-02T00:00:00",
          "2023-10-03T00:00:00",
          "2023-10-04T00:00:00",
          "2023-10-05T00:00:00",
          "2023-10-06T00:00:00",
          "2023-10-07T00:00:00",
          "2023-10-08T00:00:00",
          "2023-10-09T00:00:00",
          "2023-10-10T00:00:00",
          "2023-10-11T00:00:00",
          "2023-10-12T00:00:00",
          "2023-10-13T00:00:00",
          "2023-10-14T00:00:00",
          "2023-10-15T00:00:00",
          "2023-10-16T00:00:00",
          "2023-10-17T00:00:00",
          "2023-10-18T00:00:00",
          "2023-10-19T00:00:00",
          "2023-10-20T00:00:00",
          "2023-10-21T00:00:00",
          "2023-10-22T00:00:00",
          "2023-10-23T00:00:00",
          "2023-10-24T00:00:00",
          "2023-10-25T00:00:00",
          "2023-10-26T00:00:00",
          "2023-10-27T00:00:00",
          "2023-10-28T00:00:00",
          "2023-10-29T00:00:00",
          "2023-10-30T00:00:00",
          "2023-10-31T00:00:00",
          "2023-11-01T00:00:00",
          "2023-11-02T00:00:00",
          "2023-11-03T00:00:00",
          "2023-11-04T00:00:00",
          "2023-11-05T00:00:00",
          "2023-11-06T00:00:00",
          "2023-11-07T00:00:00",
          "2023-11-08T00:00:00",
          "2023-11-09T00:00:00",
          "2023-11-10T00:00:00",
          "2023-11-11T00:00:00",
          "2023-11-12T00:00:00",
          "2023-11-13T00:00:00",
          "2023-11-14T00:00:00",
          "2023-11-15T00:00:00",
          "2023-11-16T00:00:00",
          "2023-11-17T00:00:00",
          "2023-11-18T00:00:00",
          "2023-11-19T00:00:00",
          "2023-11-20T00:00:00"
         ],
         "y": [
          1000000.0,
          994824.8724753025,
          998725.3003460942,
          991552.4964138448,
          999240.1417144649,
          999240.1417144649,
          999240.1417144649,
          1007269.8338416704,
          1013494.2085930586,
          1020661.8531763195,
          1025561.2627304019,
          1027043.1841190706,
          1027043.1841190706,
          1027043.1841190706,
          1027043.1841190706,
          1013648.1748555445,
          1019354.9610046957,
          1019824.7779244927,
          1021061.0896045297,
          1021061.0896045297,
          1021061.0896045297,
          1023770.6127405495,
          1017139.597029613,
          1011639.8575906707,
          1020989.3922656617,
          1008630.6814630628,
          1008630.6814630628,
          1008630.6814630628,
          1004364.0993966695,
          1001141.8726582858,
          996152.9699906798,
          978388.6482145409,
          973604.623423839,
          973604.623423839,
          973604.623423839,
          976044.4099818947,
          965334.6467273531,
          964136.3824271772,
          965935.7362579715,
          964316.6969884855,
          964316.6969884855,
          964316.6969884855,
          961335.0011461645,
          948391.0213932273,
          953917.9345706488,
          937637.6265265511,
          944167.7237400967,
          944167.7237400967,
          944167.7237400967,
          946002.2130743104,
          956015.1720076319,
          953421.6356413721,
          944696.6751181285,
          942410.2936778679,
          942410.2936778679,
          942410.2936778679,
          954814.0838430575,
          959625.0666771978,
          948946.1637744651,
          947797.3366883508,
          939643.5338772489,
          939643.5338772489,
          939643.5338772489,
          935573.7780735084,
          948392.4056983836,
          934685.3949651872,
          931494.2335746842,
          928617.2279202255,
          928617.2279202255,
          928617.2279202255,
          940563.3584227428,
          945679.1280527832,
          951031.9329235954,
          965867.7353149209,
          966433.8272801847,
          966433.8272801847,
          966433.8272801847,
          965328.2509467799,
          968330.7765688368,
          965816.5876093167,
          957727.1312223838,
          970772.0097708337,
          970772.0097708337,
          970772.0097708337,
          971859.4186780568,
          994466.4446307044,
          1000481.2315593835,
          983353.3757811015,
          984111.9154124616,
          984111.9154124616,
          984111.9154124616,
          984111.9154124616
         ],
         "type": "scatter"
        },
        {
         "name": "Team 6 Original Portfolio",
         "x": [
          "2023-08-21T00:00:00",
          "2023-08-22T00:00:00",
          "2023-08-23T00:00:00",
          "2023-08-24T00:00:00",
          "2023-08-25T00:00:00",
          "2023-08-26T00:00:00",
          "2023-08-27T00:00:00",
          "2023-08-28T00:00:00",
          "2023-08-29T00:00:00",
          "2023-08-30T00:00:00",
          "2023-08-31T00:00:00",
          "2023-09-01T00:00:00",
          "2023-09-02T00:00:00",
          "2023-09-03T00:00:00",
          "2023-09-04T00:00:00",
          "2023-09-05T00:00:00",
          "2023-09-06T00:00:00",
          "2023-09-07T00:00:00",
          "2023-09-08T00:00:00",
          "2023-09-09T00:00:00",
          "2023-09-10T00:00:00",
          "2023-09-11T00:00:00",
          "2023-09-12T00:00:00",
          "2023-09-13T00:00:00",
          "2023-09-14T00:00:00",
          "2023-09-15T00:00:00",
          "2023-09-16T00:00:00",
          "2023-09-17T00:00:00",
          "2023-09-18T00:00:00",
          "2023-09-19T00:00:00",
          "2023-09-20T00:00:00",
          "2023-09-21T00:00:00",
          "2023-09-22T00:00:00",
          "2023-09-23T00:00:00",
          "2023-09-24T00:00:00",
          "2023-09-25T00:00:00",
          "2023-09-26T00:00:00",
          "2023-09-27T00:00:00",
          "2023-09-28T00:00:00",
          "2023-09-29T00:00:00",
          "2023-09-30T00:00:00",
          "2023-10-01T00:00:00",
          "2023-10-02T00:00:00",
          "2023-10-03T00:00:00",
          "2023-10-04T00:00:00",
          "2023-10-05T00:00:00",
          "2023-10-06T00:00:00",
          "2023-10-07T00:00:00",
          "2023-10-08T00:00:00",
          "2023-10-09T00:00:00",
          "2023-10-10T00:00:00",
          "2023-10-11T00:00:00",
          "2023-10-12T00:00:00",
          "2023-10-13T00:00:00",
          "2023-10-14T00:00:00",
          "2023-10-15T00:00:00",
          "2023-10-16T00:00:00",
          "2023-10-17T00:00:00",
          "2023-10-18T00:00:00",
          "2023-10-19T00:00:00",
          "2023-10-20T00:00:00",
          "2023-10-21T00:00:00",
          "2023-10-22T00:00:00",
          "2023-10-23T00:00:00",
          "2023-10-24T00:00:00",
          "2023-10-25T00:00:00",
          "2023-10-26T00:00:00",
          "2023-10-27T00:00:00",
          "2023-10-28T00:00:00",
          "2023-10-29T00:00:00",
          "2023-10-30T00:00:00",
          "2023-10-31T00:00:00",
          "2023-11-01T00:00:00",
          "2023-11-02T00:00:00",
          "2023-11-03T00:00:00",
          "2023-11-04T00:00:00",
          "2023-11-05T00:00:00",
          "2023-11-06T00:00:00",
          "2023-11-07T00:00:00",
          "2023-11-08T00:00:00",
          "2023-11-09T00:00:00",
          "2023-11-10T00:00:00",
          "2023-11-11T00:00:00",
          "2023-11-12T00:00:00",
          "2023-11-13T00:00:00",
          "2023-11-14T00:00:00",
          "2023-11-15T00:00:00",
          "2023-11-16T00:00:00",
          "2023-11-17T00:00:00",
          "2023-11-18T00:00:00",
          "2023-11-19T00:00:00",
          "2023-11-20T00:00:00"
         ],
         "y": [
          1000000.0,
          991768.0502626144,
          1002501.6146709556,
          984736.6400112372,
          997863.7967466286,
          997863.7967466286,
          997863.7967466286,
          1002749.8719292417,
          1004720.9243804829,
          1010705.3758251108,
          1013236.1572192204,
          1015761.7259712287,
          1015761.7259712287,
          1015761.7259712287,
          1015761.7259712287,
          1007286.34099152,
          1006607.5227617102,
          1007824.3503101736,
          1010427.2971785334,
          1010427.2971785334,
          1010427.2971785334,
          1008817.3134911142,
          1005040.6934921439,
          997136.2086329912,
          1002231.7006975467,
          991886.5461197256,
          991886.5461197256,
          991886.5461197256,
          992897.7883783826,
          992216.0910451971,
          987289.6279985674,
          973877.8823641652,
          969773.8370312755,
          969773.8370312755,
          969773.8370312755,
          969704.239613358,
          958860.3183526157,
          957518.7518319793,
          954645.9467828567,
          951113.3099020433,
          951113.3099020433,
          951113.3099020433,
          945558.3034484073,
          937640.0051816324,
          936751.7629038849,
          931219.558046785,
          941104.8655375495,
          941104.8655375495,
          941104.8655375495,
          946108.0004675337,
          950980.5189802952,
          946182.7460339413,
          938712.6796157012,
          936615.3487534979,
          936615.3487534979,
          936615.3487534979,
          945576.7905534733,
          952137.779364028,
          942180.4288083825,
          943578.9080425072,
          937900.3918684057,
          937900.3918684057,
          937900.3918684057,
          929932.6744942421,
          934843.4325340646,
          923484.4479416896,
          924564.1647789434,
          908876.17141808,
          908876.17141808,
          908876.17141808,
          918913.3186782894,
          924937.2970670428,
          929519.4573118393,
          943922.9980431125,
          943741.4842219229,
          943741.4842219229,
          943741.4842219229,
          944243.1780509383,
          947223.5603111037,
          945524.0538489447,
          938844.2702437398,
          945558.0931340617,
          945558.0931340617,
          945558.0931340617,
          956800.9872761017,
          968201.2070959796,
          965831.8445134076,
          966172.5911323124,
          969261.8632631972,
          969261.8632631972,
          969261.8632631972,
          969261.8632631972
         ],
         "type": "scatter"
        },
        {
         "name": "DJIA",
         "x": [
          "2023-08-21T00:00:00",
          "2023-08-22T00:00:00",
          "2023-08-23T00:00:00",
          "2023-08-24T00:00:00",
          "2023-08-25T00:00:00",
          "2023-08-26T00:00:00",
          "2023-08-27T00:00:00",
          "2023-08-28T00:00:00",
          "2023-08-29T00:00:00",
          "2023-08-30T00:00:00",
          "2023-08-31T00:00:00",
          "2023-09-01T00:00:00",
          "2023-09-02T00:00:00",
          "2023-09-03T00:00:00",
          "2023-09-04T00:00:00",
          "2023-09-05T00:00:00",
          "2023-09-06T00:00:00",
          "2023-09-07T00:00:00",
          "2023-09-08T00:00:00",
          "2023-09-09T00:00:00",
          "2023-09-10T00:00:00",
          "2023-09-11T00:00:00",
          "2023-09-12T00:00:00",
          "2023-09-13T00:00:00",
          "2023-09-14T00:00:00",
          "2023-09-15T00:00:00",
          "2023-09-16T00:00:00",
          "2023-09-17T00:00:00",
          "2023-09-18T00:00:00",
          "2023-09-19T00:00:00",
          "2023-09-20T00:00:00",
          "2023-09-21T00:00:00",
          "2023-09-22T00:00:00",
          "2023-09-23T00:00:00",
          "2023-09-24T00:00:00",
          "2023-09-25T00:00:00",
          "2023-09-26T00:00:00",
          "2023-09-27T00:00:00",
          "2023-09-28T00:00:00",
          "2023-09-29T00:00:00",
          "2023-09-30T00:00:00",
          "2023-10-01T00:00:00",
          "2023-10-02T00:00:00",
          "2023-10-03T00:00:00",
          "2023-10-04T00:00:00",
          "2023-10-05T00:00:00",
          "2023-10-06T00:00:00",
          "2023-10-07T00:00:00",
          "2023-10-08T00:00:00",
          "2023-10-09T00:00:00",
          "2023-10-10T00:00:00",
          "2023-10-11T00:00:00",
          "2023-10-12T00:00:00",
          "2023-10-13T00:00:00",
          "2023-10-14T00:00:00",
          "2023-10-15T00:00:00",
          "2023-10-16T00:00:00",
          "2023-10-17T00:00:00",
          "2023-10-18T00:00:00",
          "2023-10-19T00:00:00",
          "2023-10-20T00:00:00",
          "2023-10-21T00:00:00",
          "2023-10-22T00:00:00",
          "2023-10-23T00:00:00",
          "2023-10-24T00:00:00",
          "2023-10-25T00:00:00",
          "2023-10-26T00:00:00",
          "2023-10-27T00:00:00",
          "2023-10-28T00:00:00",
          "2023-10-29T00:00:00",
          "2023-10-30T00:00:00",
          "2023-10-31T00:00:00",
          "2023-11-01T00:00:00",
          "2023-11-02T00:00:00",
          "2023-11-03T00:00:00",
          "2023-11-04T00:00:00",
          "2023-11-05T00:00:00",
          "2023-11-06T00:00:00",
          "2023-11-07T00:00:00",
          "2023-11-08T00:00:00",
          "2023-11-09T00:00:00",
          "2023-11-10T00:00:00",
          "2023-11-11T00:00:00",
          "2023-11-12T00:00:00",
          "2023-11-13T00:00:00",
          "2023-11-14T00:00:00",
          "2023-11-15T00:00:00",
          "2023-11-16T00:00:00",
          "2023-11-17T00:00:00",
          "2023-11-18T00:00:00",
          "2023-11-19T00:00:00",
          "2023-11-20T00:00:00"
         ],
         "y": [
          1000000.0,
          994926.1592674808,
          1000269.5318499258,
          989430.3391080173,
          996611.1300332494,
          996611.1300332494,
          996611.1300332494,
          1002793.9277126458,
          1011286.6745516255,
          1012376.7030632895,
          1007492.4867146753,
          1010852.5673248736,
          1010852.5673248736,
          1010852.5673248736,
          1010852.5673248736,
          1005172.9033216003,
          999405.1710898188,
          1001074.7270820003,
          1003275.8660750869,
          1003275.8660750869,
          1003275.8660750869,
          1005804.0022872803,
          1005289.5342188138,
          1003245.1498718363,
          1012866.2354686005,
          1004484.3389867393,
          1004484.3389867393,
          1004484.3389867393,
          1004660.2487559087,
          1001567.9998367847,
          999338.0714871458,
          988588.8738204439,
          985496.2848695496,
          985496.2848695496,
          985496.2848695496,
          986745.1082179444,
          975486.8829911008,
          973496.1103199075,
          976864.0116608228,
          972255.1077022296,
          972255.1077022296,
          972255.1077022296,
          970103.6133476071,
          957598.4916190669,
          961288.5163903814,
          960998.9226660077,
          969355.7701407901,
          969355.7701407901,
          969355.7701407901,
          975073.971078031,
          978981.0494627215,
          980883.6405614831,
          975842.6695667598,
          976978.6023674145,
          976978.6023674145,
          976978.6023674145,
          986096.8943198259,
          986477.2765268701,
          976827.4015735537,
          969547.0946835466,
          961222.6635708662,
          961222.6635708662,
          961222.6635708662,
          955684.3394401149,
          961631.7217905392,
          958572.0025774408,
          951270.7270615984,
          940630.2262174695,
          940630.2262174695,
          940630.2262174695,
          955468.1925781264,
          959063.5751733737,
          965496.6362357122,
          981876.1932989939,
          988324.7824788429,
          988324.7824788429,
          988324.7824788429,
          989326.9694498455,
          990973.4032816465,
          989803.1272721915,
          983410.0766148249,
          994759.9970757267,
          994759.9970757267,
          994759.9970757267,
          996349.1922261936,
          1010562.0668491125,
          1015306.5301401326,
          1013979.2727967215,
          1014031.8643771949,
          1014031.8643771949,
          1014031.8643771949,
          1014031.8643771949
         ],
         "type": "scatter"
        }
       ],
       "layout": {
        "template": {
         "data": {
          "histogram2dcontour": [
           {
            "type": "histogram2dcontour",
            "colorbar": {
             "outlinewidth": 0,
             "ticks": ""
            },
            "colorscale": [
             [
              0.0,
              "#0d0887"
             ],
             [
              0.1111111111111111,
              "#46039f"
             ],
             [
              0.2222222222222222,
              "#7201a8"
             ],
             [
              0.3333333333333333,
              "#9c179e"
             ],
             [
              0.4444444444444444,
              "#bd3786"
             ],
             [
              0.5555555555555556,
              "#d8576b"
             ],
             [
              0.6666666666666666,
              "#ed7953"
             ],
             [
              0.7777777777777778,
              "#fb9f3a"
             ],
             [
              0.8888888888888888,
              "#fdca26"
             ],
             [
              1.0,
              "#f0f921"
             ]
            ]
           }
          ],
          "choropleth": [
           {
            "type": "choropleth",
            "colorbar": {
             "outlinewidth": 0,
             "ticks": ""
            }
           }
          ],
          "histogram2d": [
           {
            "type": "histogram2d",
            "colorbar": {
             "outlinewidth": 0,
             "ticks": ""
            },
            "colorscale": [
             [
              0.0,
              "#0d0887"
             ],
             [
              0.1111111111111111,
              "#46039f"
             ],
             [
              0.2222222222222222,
              "#7201a8"
             ],
             [
              0.3333333333333333,
              "#9c179e"
             ],
             [
              0.4444444444444444,
              "#bd3786"
             ],
             [
              0.5555555555555556,
              "#d8576b"
             ],
             [
              0.6666666666666666,
              "#ed7953"
             ],
             [
              0.7777777777777778,
              "#fb9f3a"
             ],
             [
              0.8888888888888888,
              "#fdca26"
             ],
             [
              1.0,
              "#f0f921"
             ]
            ]
           }
          ],
          "heatmap": [
           {
            "type": "heatmap",
            "colorbar": {
             "outlinewidth": 0,
             "ticks": ""
            },
            "colorscale": [
             [
              0.0,
              "#0d0887"
             ],
             [
              0.1111111111111111,
              "#46039f"
             ],
             [
              0.2222222222222222,
              "#7201a8"
             ],
             [
              0.3333333333333333,
              "#9c179e"
             ],
             [
              0.4444444444444444,
              "#bd3786"
             ],
             [
              0.5555555555555556,
              "#d8576b"
             ],
             [
              0.6666666666666666,
              "#ed7953"
             ],
             [
              0.7777777777777778,
              "#fb9f3a"
             ],
             [
              0.8888888888888888,
              "#fdca26"
             ],
             [
              1.0,
              "#f0f921"
             ]
            ]
           }
          ],
          "heatmapgl": [
           {
            "type": "heatmapgl",
            "colorbar": {
             "outlinewidth": 0,
             "ticks": ""
            },
            "colorscale": [
             [
              0.0,
              "#0d0887"
             ],
             [
              0.1111111111111111,
              "#46039f"
             ],
             [
              0.2222222222222222,
              "#7201a8"
             ],
             [
              0.3333333333333333,
              "#9c179e"
             ],
             [
              0.4444444444444444,
              "#bd3786"
             ],
             [
              0.5555555555555556,
              "#d8576b"
             ],
             [
              0.6666666666666666,
              "#ed7953"
             ],
             [
              0.7777777777777778,
              "#fb9f3a"
             ],
             [
              0.8888888888888888,
              "#fdca26"
             ],
             [
              1.0,
              "#f0f921"
             ]
            ]
           }
          ],
          "contourcarpet": [
           {
            "type": "contourcarpet",
            "colorbar": {
             "outlinewidth": 0,
             "ticks": ""
            }
           }
          ],
          "contour": [
           {
            "type": "contour",
            "colorbar": {
             "outlinewidth": 0,
             "ticks": ""
            },
            "colorscale": [
             [
              0.0,
              "#0d0887"
             ],
             [
              0.1111111111111111,
              "#46039f"
             ],
             [
              0.2222222222222222,
              "#7201a8"
             ],
             [
              0.3333333333333333,
              "#9c179e"
             ],
             [
              0.4444444444444444,
              "#bd3786"
             ],
             [
              0.5555555555555556,
              "#d8576b"
             ],
             [
              0.6666666666666666,
              "#ed7953"
             ],
             [
              0.7777777777777778,
              "#fb9f3a"
             ],
             [
              0.8888888888888888,
              "#fdca26"
             ],
             [
              1.0,
              "#f0f921"
             ]
            ]
           }
          ],
          "surface": [
           {
            "type": "surface",
            "colorbar": {
             "outlinewidth": 0,
             "ticks": ""
            },
            "colorscale": [
             [
              0.0,
              "#0d0887"
             ],
             [
              0.1111111111111111,
              "#46039f"
             ],
             [
              0.2222222222222222,
              "#7201a8"
             ],
             [
              0.3333333333333333,
              "#9c179e"
             ],
             [
              0.4444444444444444,
              "#bd3786"
             ],
             [
              0.5555555555555556,
              "#d8576b"
             ],
             [
              0.6666666666666666,
              "#ed7953"
             ],
             [
              0.7777777777777778,
              "#fb9f3a"
             ],
             [
              0.8888888888888888,
              "#fdca26"
             ],
             [
              1.0,
              "#f0f921"
             ]
            ]
           }
          ],
          "mesh3d": [
           {
            "type": "mesh3d",
            "colorbar": {
             "outlinewidth": 0,
             "ticks": ""
            }
           }
          ],
          "scatter": [
           {
            "fillpattern": {
             "fillmode": "overlay",
             "size": 10,
             "solidity": 0.2
            },
            "type": "scatter"
           }
          ],
          "parcoords": [
           {
            "type": "parcoords",
            "line": {
             "colorbar": {
              "outlinewidth": 0,
              "ticks": ""
             }
            }
           }
          ],
          "scatterpolargl": [
           {
            "type": "scatterpolargl",
            "marker": {
             "colorbar": {
              "outlinewidth": 0,
              "ticks": ""
             }
            }
           }
          ],
          "bar": [
           {
            "error_x": {
             "color": "#2a3f5f"
            },
            "error_y": {
             "color": "#2a3f5f"
            },
            "marker": {
             "line": {
              "color": "#E5ECF6",
              "width": 0.5
             },
             "pattern": {
              "fillmode": "overlay",
              "size": 10,
              "solidity": 0.2
             }
            },
            "type": "bar"
           }
          ],
          "scattergeo": [
           {
            "type": "scattergeo",
            "marker": {
             "colorbar": {
              "outlinewidth": 0,
              "ticks": ""
             }
            }
           }
          ],
          "scatterpolar": [
           {
            "type": "scatterpolar",
            "marker": {
             "colorbar": {
              "outlinewidth": 0,
              "ticks": ""
             }
            }
           }
          ],
          "histogram": [
           {
            "marker": {
             "pattern": {
              "fillmode": "overlay",
              "size": 10,
              "solidity": 0.2
             }
            },
            "type": "histogram"
           }
          ],
          "scattergl": [
           {
            "type": "scattergl",
            "marker": {
             "colorbar": {
              "outlinewidth": 0,
              "ticks": ""
             }
            }
           }
          ],
          "scatter3d": [
           {
            "type": "scatter3d",
            "line": {
             "colorbar": {
              "outlinewidth": 0,
              "ticks": ""
             }
            },
            "marker": {
             "colorbar": {
              "outlinewidth": 0,
              "ticks": ""
             }
            }
           }
          ],
          "scattermapbox": [
           {
            "type": "scattermapbox",
            "marker": {
             "colorbar": {
              "outlinewidth": 0,
              "ticks": ""
             }
            }
           }
          ],
          "scatterternary": [
           {
            "type": "scatterternary",
            "marker": {
             "colorbar": {
              "outlinewidth": 0,
              "ticks": ""
             }
            }
           }
          ],
          "scattercarpet": [
           {
            "type": "scattercarpet",
            "marker": {
             "colorbar": {
              "outlinewidth": 0,
              "ticks": ""
             }
            }
           }
          ],
          "carpet": [
           {
            "aaxis": {
             "endlinecolor": "#2a3f5f",
             "gridcolor": "white",
             "linecolor": "white",
             "minorgridcolor": "white",
             "startlinecolor": "#2a3f5f"
            },
            "baxis": {
             "endlinecolor": "#2a3f5f",
             "gridcolor": "white",
             "linecolor": "white",
             "minorgridcolor": "white",
             "startlinecolor": "#2a3f5f"
            },
            "type": "carpet"
           }
          ],
          "table": [
           {
            "cells": {
             "fill": {
              "color": "#EBF0F8"
             },
             "line": {
              "color": "white"
             }
            },
            "header": {
             "fill": {
              "color": "#C8D4E3"
             },
             "line": {
              "color": "white"
             }
            },
            "type": "table"
           }
          ],
          "barpolar": [
           {
            "marker": {
             "line": {
              "color": "#E5ECF6",
              "width": 0.5
             },
             "pattern": {
              "fillmode": "overlay",
              "size": 10,
              "solidity": 0.2
             }
            },
            "type": "barpolar"
           }
          ],
          "pie": [
           {
            "automargin": true,
            "type": "pie"
           }
          ]
         },
         "layout": {
          "autotypenumbers": "strict",
          "colorway": [
           "#636efa",
           "#EF553B",
           "#00cc96",
           "#ab63fa",
           "#FFA15A",
           "#19d3f3",
           "#FF6692",
           "#B6E880",
           "#FF97FF",
           "#FECB52"
          ],
          "font": {
           "color": "#2a3f5f"
          },
          "hovermode": "closest",
          "hoverlabel": {
           "align": "left"
          },
          "paper_bgcolor": "white",
          "plot_bgcolor": "#E5ECF6",
          "polar": {
           "bgcolor": "#E5ECF6",
           "angularaxis": {
            "gridcolor": "white",
            "linecolor": "white",
            "ticks": ""
           },
           "radialaxis": {
            "gridcolor": "white",
            "linecolor": "white",
            "ticks": ""
           }
          },
          "ternary": {
           "bgcolor": "#E5ECF6",
           "aaxis": {
            "gridcolor": "white",
            "linecolor": "white",
            "ticks": ""
           },
           "baxis": {
            "gridcolor": "white",
            "linecolor": "white",
            "ticks": ""
           },
           "caxis": {
            "gridcolor": "white",
            "linecolor": "white",
            "ticks": ""
           }
          },
          "coloraxis": {
           "colorbar": {
            "outlinewidth": 0,
            "ticks": ""
           }
          },
          "colorscale": {
           "sequential": [
            [
             0.0,
             "#0d0887"
            ],
            [
             0.1111111111111111,
             "#46039f"
            ],
            [
             0.2222222222222222,
             "#7201a8"
            ],
            [
             0.3333333333333333,
             "#9c179e"
            ],
            [
             0.4444444444444444,
             "#bd3786"
            ],
            [
             0.5555555555555556,
             "#d8576b"
            ],
            [
             0.6666666666666666,
             "#ed7953"
            ],
            [
             0.7777777777777778,
             "#fb9f3a"
            ],
            [
             0.8888888888888888,
             "#fdca26"
            ],
            [
             1.0,
             "#f0f921"
            ]
           ],
           "sequentialminus": [
            [
             0.0,
             "#0d0887"
            ],
            [
             0.1111111111111111,
             "#46039f"
            ],
            [
             0.2222222222222222,
             "#7201a8"
            ],
            [
             0.3333333333333333,
             "#9c179e"
            ],
            [
             0.4444444444444444,
             "#bd3786"
            ],
            [
             0.5555555555555556,
             "#d8576b"
            ],
            [
             0.6666666666666666,
             "#ed7953"
            ],
            [
             0.7777777777777778,
             "#fb9f3a"
            ],
            [
             0.8888888888888888,
             "#fdca26"
            ],
            [
             1.0,
             "#f0f921"
            ]
           ],
           "diverging": [
            [
             0,
             "#8e0152"
            ],
            [
             0.1,
             "#c51b7d"
            ],
            [
             0.2,
             "#de77ae"
            ],
            [
             0.3,
             "#f1b6da"
            ],
            [
             0.4,
             "#fde0ef"
            ],
            [
             0.5,
             "#f7f7f7"
            ],
            [
             0.6,
             "#e6f5d0"
            ],
            [
             0.7,
             "#b8e186"
            ],
            [
             0.8,
             "#7fbc41"
            ],
            [
             0.9,
             "#4d9221"
            ],
            [
             1,
             "#276419"
            ]
           ]
          },
          "xaxis": {
           "gridcolor": "white",
           "linecolor": "white",
           "ticks": "",
           "title": {
            "standoff": 15
           },
           "zerolinecolor": "white",
           "automargin": true,
           "zerolinewidth": 2
          },
          "yaxis": {
           "gridcolor": "white",
           "linecolor": "white",
           "ticks": "",
           "title": {
            "standoff": 15
           },
           "zerolinecolor": "white",
           "automargin": true,
           "zerolinewidth": 2
          },
          "scene": {
           "xaxis": {
            "backgroundcolor": "#E5ECF6",
            "gridcolor": "white",
            "linecolor": "white",
            "showbackground": true,
            "ticks": "",
            "zerolinecolor": "white",
            "gridwidth": 2
           },
           "yaxis": {
            "backgroundcolor": "#E5ECF6",
            "gridcolor": "white",
            "linecolor": "white",
            "showbackground": true,
            "ticks": "",
            "zerolinecolor": "white",
            "gridwidth": 2
           },
           "zaxis": {
            "backgroundcolor": "#E5ECF6",
            "gridcolor": "white",
            "linecolor": "white",
            "showbackground": true,
            "ticks": "",
            "zerolinecolor": "white",
            "gridwidth": 2
           }
          },
          "shapedefaults": {
           "line": {
            "color": "#2a3f5f"
           }
          },
          "annotationdefaults": {
           "arrowcolor": "#2a3f5f",
           "arrowhead": 0,
           "arrowwidth": 1
          },
          "geo": {
           "bgcolor": "white",
           "landcolor": "#E5ECF6",
           "subunitcolor": "white",
           "showland": true,
           "showlakes": true,
           "lakecolor": "white"
          },
          "title": {
           "x": 0.05
          },
          "mapbox": {
           "style": "light"
          }
         }
        },
        "xaxis": {
         "title": {
          "text": "Date"
         }
        },
        "yaxis": {
         "title": {
          "text": "Portfolio Value"
         }
        }
       },
       "config": {
        "plotlyServerURL": "https://plot.ly"
       }
      },
      "text/html": "<div>                            <div id=\"211dd284-5151-421b-8ff4-82b6d424f332\" class=\"plotly-graph-div\" style=\"height:525px; width:100%;\"></div>            <script type=\"text/javascript\">                require([\"plotly\"], function(Plotly) {                    window.PLOTLYENV=window.PLOTLYENV || {};                                    if (document.getElementById(\"211dd284-5151-421b-8ff4-82b6d424f332\")) {                    Plotly.newPlot(                        \"211dd284-5151-421b-8ff4-82b6d424f332\",                        [{\"name\":\"Sentiment Portfolio\",\"x\":[\"2023-08-21T00:00:00\",\"2023-08-22T00:00:00\",\"2023-08-23T00:00:00\",\"2023-08-24T00:00:00\",\"2023-08-25T00:00:00\",\"2023-08-26T00:00:00\",\"2023-08-27T00:00:00\",\"2023-08-28T00:00:00\",\"2023-08-29T00:00:00\",\"2023-08-30T00:00:00\",\"2023-08-31T00:00:00\",\"2023-09-01T00:00:00\",\"2023-09-02T00:00:00\",\"2023-09-03T00:00:00\",\"2023-09-04T00:00:00\",\"2023-09-05T00:00:00\",\"2023-09-06T00:00:00\",\"2023-09-07T00:00:00\",\"2023-09-08T00:00:00\",\"2023-09-09T00:00:00\",\"2023-09-10T00:00:00\",\"2023-09-11T00:00:00\",\"2023-09-12T00:00:00\",\"2023-09-13T00:00:00\",\"2023-09-14T00:00:00\",\"2023-09-15T00:00:00\",\"2023-09-16T00:00:00\",\"2023-09-17T00:00:00\",\"2023-09-18T00:00:00\",\"2023-09-19T00:00:00\",\"2023-09-20T00:00:00\",\"2023-09-21T00:00:00\",\"2023-09-22T00:00:00\",\"2023-09-23T00:00:00\",\"2023-09-24T00:00:00\",\"2023-09-25T00:00:00\",\"2023-09-26T00:00:00\",\"2023-09-27T00:00:00\",\"2023-09-28T00:00:00\",\"2023-09-29T00:00:00\",\"2023-09-30T00:00:00\",\"2023-10-01T00:00:00\",\"2023-10-02T00:00:00\",\"2023-10-03T00:00:00\",\"2023-10-04T00:00:00\",\"2023-10-05T00:00:00\",\"2023-10-06T00:00:00\",\"2023-10-07T00:00:00\",\"2023-10-08T00:00:00\",\"2023-10-09T00:00:00\",\"2023-10-10T00:00:00\",\"2023-10-11T00:00:00\",\"2023-10-12T00:00:00\",\"2023-10-13T00:00:00\",\"2023-10-14T00:00:00\",\"2023-10-15T00:00:00\",\"2023-10-16T00:00:00\",\"2023-10-17T00:00:00\",\"2023-10-18T00:00:00\",\"2023-10-19T00:00:00\",\"2023-10-20T00:00:00\",\"2023-10-21T00:00:00\",\"2023-10-22T00:00:00\",\"2023-10-23T00:00:00\",\"2023-10-24T00:00:00\",\"2023-10-25T00:00:00\",\"2023-10-26T00:00:00\",\"2023-10-27T00:00:00\",\"2023-10-28T00:00:00\",\"2023-10-29T00:00:00\",\"2023-10-30T00:00:00\",\"2023-10-31T00:00:00\",\"2023-11-01T00:00:00\",\"2023-11-02T00:00:00\",\"2023-11-03T00:00:00\",\"2023-11-04T00:00:00\",\"2023-11-05T00:00:00\",\"2023-11-06T00:00:00\",\"2023-11-07T00:00:00\",\"2023-11-08T00:00:00\",\"2023-11-09T00:00:00\",\"2023-11-10T00:00:00\",\"2023-11-11T00:00:00\",\"2023-11-12T00:00:00\",\"2023-11-13T00:00:00\",\"2023-11-14T00:00:00\",\"2023-11-15T00:00:00\",\"2023-11-16T00:00:00\",\"2023-11-17T00:00:00\",\"2023-11-18T00:00:00\",\"2023-11-19T00:00:00\",\"2023-11-20T00:00:00\"],\"y\":[1000000.0,994824.8724753025,998725.3003460942,991552.4964138448,999240.1417144649,999240.1417144649,999240.1417144649,1007269.8338416704,1013494.2085930586,1020661.8531763195,1025561.2627304019,1027043.1841190706,1027043.1841190706,1027043.1841190706,1027043.1841190706,1013648.1748555445,1019354.9610046957,1019824.7779244927,1021061.0896045297,1021061.0896045297,1021061.0896045297,1023770.6127405495,1017139.597029613,1011639.8575906707,1020989.3922656617,1008630.6814630628,1008630.6814630628,1008630.6814630628,1004364.0993966695,1001141.8726582858,996152.9699906798,978388.6482145409,973604.623423839,973604.623423839,973604.623423839,976044.4099818947,965334.6467273531,964136.3824271772,965935.7362579715,964316.6969884855,964316.6969884855,964316.6969884855,961335.0011461645,948391.0213932273,953917.9345706488,937637.6265265511,944167.7237400967,944167.7237400967,944167.7237400967,946002.2130743104,956015.1720076319,953421.6356413721,944696.6751181285,942410.2936778679,942410.2936778679,942410.2936778679,954814.0838430575,959625.0666771978,948946.1637744651,947797.3366883508,939643.5338772489,939643.5338772489,939643.5338772489,935573.7780735084,948392.4056983836,934685.3949651872,931494.2335746842,928617.2279202255,928617.2279202255,928617.2279202255,940563.3584227428,945679.1280527832,951031.9329235954,965867.7353149209,966433.8272801847,966433.8272801847,966433.8272801847,965328.2509467799,968330.7765688368,965816.5876093167,957727.1312223838,970772.0097708337,970772.0097708337,970772.0097708337,971859.4186780568,994466.4446307044,1000481.2315593835,983353.3757811015,984111.9154124616,984111.9154124616,984111.9154124616,984111.9154124616],\"type\":\"scatter\"},{\"name\":\"Team 6 Original Portfolio\",\"x\":[\"2023-08-21T00:00:00\",\"2023-08-22T00:00:00\",\"2023-08-23T00:00:00\",\"2023-08-24T00:00:00\",\"2023-08-25T00:00:00\",\"2023-08-26T00:00:00\",\"2023-08-27T00:00:00\",\"2023-08-28T00:00:00\",\"2023-08-29T00:00:00\",\"2023-08-30T00:00:00\",\"2023-08-31T00:00:00\",\"2023-09-01T00:00:00\",\"2023-09-02T00:00:00\",\"2023-09-03T00:00:00\",\"2023-09-04T00:00:00\",\"2023-09-05T00:00:00\",\"2023-09-06T00:00:00\",\"2023-09-07T00:00:00\",\"2023-09-08T00:00:00\",\"2023-09-09T00:00:00\",\"2023-09-10T00:00:00\",\"2023-09-11T00:00:00\",\"2023-09-12T00:00:00\",\"2023-09-13T00:00:00\",\"2023-09-14T00:00:00\",\"2023-09-15T00:00:00\",\"2023-09-16T00:00:00\",\"2023-09-17T00:00:00\",\"2023-09-18T00:00:00\",\"2023-09-19T00:00:00\",\"2023-09-20T00:00:00\",\"2023-09-21T00:00:00\",\"2023-09-22T00:00:00\",\"2023-09-23T00:00:00\",\"2023-09-24T00:00:00\",\"2023-09-25T00:00:00\",\"2023-09-26T00:00:00\",\"2023-09-27T00:00:00\",\"2023-09-28T00:00:00\",\"2023-09-29T00:00:00\",\"2023-09-30T00:00:00\",\"2023-10-01T00:00:00\",\"2023-10-02T00:00:00\",\"2023-10-03T00:00:00\",\"2023-10-04T00:00:00\",\"2023-10-05T00:00:00\",\"2023-10-06T00:00:00\",\"2023-10-07T00:00:00\",\"2023-10-08T00:00:00\",\"2023-10-09T00:00:00\",\"2023-10-10T00:00:00\",\"2023-10-11T00:00:00\",\"2023-10-12T00:00:00\",\"2023-10-13T00:00:00\",\"2023-10-14T00:00:00\",\"2023-10-15T00:00:00\",\"2023-10-16T00:00:00\",\"2023-10-17T00:00:00\",\"2023-10-18T00:00:00\",\"2023-10-19T00:00:00\",\"2023-10-20T00:00:00\",\"2023-10-21T00:00:00\",\"2023-10-22T00:00:00\",\"2023-10-23T00:00:00\",\"2023-10-24T00:00:00\",\"2023-10-25T00:00:00\",\"2023-10-26T00:00:00\",\"2023-10-27T00:00:00\",\"2023-10-28T00:00:00\",\"2023-10-29T00:00:00\",\"2023-10-30T00:00:00\",\"2023-10-31T00:00:00\",\"2023-11-01T00:00:00\",\"2023-11-02T00:00:00\",\"2023-11-03T00:00:00\",\"2023-11-04T00:00:00\",\"2023-11-05T00:00:00\",\"2023-11-06T00:00:00\",\"2023-11-07T00:00:00\",\"2023-11-08T00:00:00\",\"2023-11-09T00:00:00\",\"2023-11-10T00:00:00\",\"2023-11-11T00:00:00\",\"2023-11-12T00:00:00\",\"2023-11-13T00:00:00\",\"2023-11-14T00:00:00\",\"2023-11-15T00:00:00\",\"2023-11-16T00:00:00\",\"2023-11-17T00:00:00\",\"2023-11-18T00:00:00\",\"2023-11-19T00:00:00\",\"2023-11-20T00:00:00\"],\"y\":[1000000.0,991768.0502626144,1002501.6146709556,984736.6400112372,997863.7967466286,997863.7967466286,997863.7967466286,1002749.8719292417,1004720.9243804829,1010705.3758251108,1013236.1572192204,1015761.7259712287,1015761.7259712287,1015761.7259712287,1015761.7259712287,1007286.34099152,1006607.5227617102,1007824.3503101736,1010427.2971785334,1010427.2971785334,1010427.2971785334,1008817.3134911142,1005040.6934921439,997136.2086329912,1002231.7006975467,991886.5461197256,991886.5461197256,991886.5461197256,992897.7883783826,992216.0910451971,987289.6279985674,973877.8823641652,969773.8370312755,969773.8370312755,969773.8370312755,969704.239613358,958860.3183526157,957518.7518319793,954645.9467828567,951113.3099020433,951113.3099020433,951113.3099020433,945558.3034484073,937640.0051816324,936751.7629038849,931219.558046785,941104.8655375495,941104.8655375495,941104.8655375495,946108.0004675337,950980.5189802952,946182.7460339413,938712.6796157012,936615.3487534979,936615.3487534979,936615.3487534979,945576.7905534733,952137.779364028,942180.4288083825,943578.9080425072,937900.3918684057,937900.3918684057,937900.3918684057,929932.6744942421,934843.4325340646,923484.4479416896,924564.1647789434,908876.17141808,908876.17141808,908876.17141808,918913.3186782894,924937.2970670428,929519.4573118393,943922.9980431125,943741.4842219229,943741.4842219229,943741.4842219229,944243.1780509383,947223.5603111037,945524.0538489447,938844.2702437398,945558.0931340617,945558.0931340617,945558.0931340617,956800.9872761017,968201.2070959796,965831.8445134076,966172.5911323124,969261.8632631972,969261.8632631972,969261.8632631972,969261.8632631972],\"type\":\"scatter\"},{\"name\":\"DJIA\",\"x\":[\"2023-08-21T00:00:00\",\"2023-08-22T00:00:00\",\"2023-08-23T00:00:00\",\"2023-08-24T00:00:00\",\"2023-08-25T00:00:00\",\"2023-08-26T00:00:00\",\"2023-08-27T00:00:00\",\"2023-08-28T00:00:00\",\"2023-08-29T00:00:00\",\"2023-08-30T00:00:00\",\"2023-08-31T00:00:00\",\"2023-09-01T00:00:00\",\"2023-09-02T00:00:00\",\"2023-09-03T00:00:00\",\"2023-09-04T00:00:00\",\"2023-09-05T00:00:00\",\"2023-09-06T00:00:00\",\"2023-09-07T00:00:00\",\"2023-09-08T00:00:00\",\"2023-09-09T00:00:00\",\"2023-09-10T00:00:00\",\"2023-09-11T00:00:00\",\"2023-09-12T00:00:00\",\"2023-09-13T00:00:00\",\"2023-09-14T00:00:00\",\"2023-09-15T00:00:00\",\"2023-09-16T00:00:00\",\"2023-09-17T00:00:00\",\"2023-09-18T00:00:00\",\"2023-09-19T00:00:00\",\"2023-09-20T00:00:00\",\"2023-09-21T00:00:00\",\"2023-09-22T00:00:00\",\"2023-09-23T00:00:00\",\"2023-09-24T00:00:00\",\"2023-09-25T00:00:00\",\"2023-09-26T00:00:00\",\"2023-09-27T00:00:00\",\"2023-09-28T00:00:00\",\"2023-09-29T00:00:00\",\"2023-09-30T00:00:00\",\"2023-10-01T00:00:00\",\"2023-10-02T00:00:00\",\"2023-10-03T00:00:00\",\"2023-10-04T00:00:00\",\"2023-10-05T00:00:00\",\"2023-10-06T00:00:00\",\"2023-10-07T00:00:00\",\"2023-10-08T00:00:00\",\"2023-10-09T00:00:00\",\"2023-10-10T00:00:00\",\"2023-10-11T00:00:00\",\"2023-10-12T00:00:00\",\"2023-10-13T00:00:00\",\"2023-10-14T00:00:00\",\"2023-10-15T00:00:00\",\"2023-10-16T00:00:00\",\"2023-10-17T00:00:00\",\"2023-10-18T00:00:00\",\"2023-10-19T00:00:00\",\"2023-10-20T00:00:00\",\"2023-10-21T00:00:00\",\"2023-10-22T00:00:00\",\"2023-10-23T00:00:00\",\"2023-10-24T00:00:00\",\"2023-10-25T00:00:00\",\"2023-10-26T00:00:00\",\"2023-10-27T00:00:00\",\"2023-10-28T00:00:00\",\"2023-10-29T00:00:00\",\"2023-10-30T00:00:00\",\"2023-10-31T00:00:00\",\"2023-11-01T00:00:00\",\"2023-11-02T00:00:00\",\"2023-11-03T00:00:00\",\"2023-11-04T00:00:00\",\"2023-11-05T00:00:00\",\"2023-11-06T00:00:00\",\"2023-11-07T00:00:00\",\"2023-11-08T00:00:00\",\"2023-11-09T00:00:00\",\"2023-11-10T00:00:00\",\"2023-11-11T00:00:00\",\"2023-11-12T00:00:00\",\"2023-11-13T00:00:00\",\"2023-11-14T00:00:00\",\"2023-11-15T00:00:00\",\"2023-11-16T00:00:00\",\"2023-11-17T00:00:00\",\"2023-11-18T00:00:00\",\"2023-11-19T00:00:00\",\"2023-11-20T00:00:00\"],\"y\":[1000000.0,994926.1592674808,1000269.5318499258,989430.3391080173,996611.1300332494,996611.1300332494,996611.1300332494,1002793.9277126458,1011286.6745516255,1012376.7030632895,1007492.4867146753,1010852.5673248736,1010852.5673248736,1010852.5673248736,1010852.5673248736,1005172.9033216003,999405.1710898188,1001074.7270820003,1003275.8660750869,1003275.8660750869,1003275.8660750869,1005804.0022872803,1005289.5342188138,1003245.1498718363,1012866.2354686005,1004484.3389867393,1004484.3389867393,1004484.3389867393,1004660.2487559087,1001567.9998367847,999338.0714871458,988588.8738204439,985496.2848695496,985496.2848695496,985496.2848695496,986745.1082179444,975486.8829911008,973496.1103199075,976864.0116608228,972255.1077022296,972255.1077022296,972255.1077022296,970103.6133476071,957598.4916190669,961288.5163903814,960998.9226660077,969355.7701407901,969355.7701407901,969355.7701407901,975073.971078031,978981.0494627215,980883.6405614831,975842.6695667598,976978.6023674145,976978.6023674145,976978.6023674145,986096.8943198259,986477.2765268701,976827.4015735537,969547.0946835466,961222.6635708662,961222.6635708662,961222.6635708662,955684.3394401149,961631.7217905392,958572.0025774408,951270.7270615984,940630.2262174695,940630.2262174695,940630.2262174695,955468.1925781264,959063.5751733737,965496.6362357122,981876.1932989939,988324.7824788429,988324.7824788429,988324.7824788429,989326.9694498455,990973.4032816465,989803.1272721915,983410.0766148249,994759.9970757267,994759.9970757267,994759.9970757267,996349.1922261936,1010562.0668491125,1015306.5301401326,1013979.2727967215,1014031.8643771949,1014031.8643771949,1014031.8643771949,1014031.8643771949],\"type\":\"scatter\"}],                        {\"template\":{\"data\":{\"histogram2dcontour\":[{\"type\":\"histogram2dcontour\",\"colorbar\":{\"outlinewidth\":0,\"ticks\":\"\"},\"colorscale\":[[0.0,\"#0d0887\"],[0.1111111111111111,\"#46039f\"],[0.2222222222222222,\"#7201a8\"],[0.3333333333333333,\"#9c179e\"],[0.4444444444444444,\"#bd3786\"],[0.5555555555555556,\"#d8576b\"],[0.6666666666666666,\"#ed7953\"],[0.7777777777777778,\"#fb9f3a\"],[0.8888888888888888,\"#fdca26\"],[1.0,\"#f0f921\"]]}],\"choropleth\":[{\"type\":\"choropleth\",\"colorbar\":{\"outlinewidth\":0,\"ticks\":\"\"}}],\"histogram2d\":[{\"type\":\"histogram2d\",\"colorbar\":{\"outlinewidth\":0,\"ticks\":\"\"},\"colorscale\":[[0.0,\"#0d0887\"],[0.1111111111111111,\"#46039f\"],[0.2222222222222222,\"#7201a8\"],[0.3333333333333333,\"#9c179e\"],[0.4444444444444444,\"#bd3786\"],[0.5555555555555556,\"#d8576b\"],[0.6666666666666666,\"#ed7953\"],[0.7777777777777778,\"#fb9f3a\"],[0.8888888888888888,\"#fdca26\"],[1.0,\"#f0f921\"]]}],\"heatmap\":[{\"type\":\"heatmap\",\"colorbar\":{\"outlinewidth\":0,\"ticks\":\"\"},\"colorscale\":[[0.0,\"#0d0887\"],[0.1111111111111111,\"#46039f\"],[0.2222222222222222,\"#7201a8\"],[0.3333333333333333,\"#9c179e\"],[0.4444444444444444,\"#bd3786\"],[0.5555555555555556,\"#d8576b\"],[0.6666666666666666,\"#ed7953\"],[0.7777777777777778,\"#fb9f3a\"],[0.8888888888888888,\"#fdca26\"],[1.0,\"#f0f921\"]]}],\"heatmapgl\":[{\"type\":\"heatmapgl\",\"colorbar\":{\"outlinewidth\":0,\"ticks\":\"\"},\"colorscale\":[[0.0,\"#0d0887\"],[0.1111111111111111,\"#46039f\"],[0.2222222222222222,\"#7201a8\"],[0.3333333333333333,\"#9c179e\"],[0.4444444444444444,\"#bd3786\"],[0.5555555555555556,\"#d8576b\"],[0.6666666666666666,\"#ed7953\"],[0.7777777777777778,\"#fb9f3a\"],[0.8888888888888888,\"#fdca26\"],[1.0,\"#f0f921\"]]}],\"contourcarpet\":[{\"type\":\"contourcarpet\",\"colorbar\":{\"outlinewidth\":0,\"ticks\":\"\"}}],\"contour\":[{\"type\":\"contour\",\"colorbar\":{\"outlinewidth\":0,\"ticks\":\"\"},\"colorscale\":[[0.0,\"#0d0887\"],[0.1111111111111111,\"#46039f\"],[0.2222222222222222,\"#7201a8\"],[0.3333333333333333,\"#9c179e\"],[0.4444444444444444,\"#bd3786\"],[0.5555555555555556,\"#d8576b\"],[0.6666666666666666,\"#ed7953\"],[0.7777777777777778,\"#fb9f3a\"],[0.8888888888888888,\"#fdca26\"],[1.0,\"#f0f921\"]]}],\"surface\":[{\"type\":\"surface\",\"colorbar\":{\"outlinewidth\":0,\"ticks\":\"\"},\"colorscale\":[[0.0,\"#0d0887\"],[0.1111111111111111,\"#46039f\"],[0.2222222222222222,\"#7201a8\"],[0.3333333333333333,\"#9c179e\"],[0.4444444444444444,\"#bd3786\"],[0.5555555555555556,\"#d8576b\"],[0.6666666666666666,\"#ed7953\"],[0.7777777777777778,\"#fb9f3a\"],[0.8888888888888888,\"#fdca26\"],[1.0,\"#f0f921\"]]}],\"mesh3d\":[{\"type\":\"mesh3d\",\"colorbar\":{\"outlinewidth\":0,\"ticks\":\"\"}}],\"scatter\":[{\"fillpattern\":{\"fillmode\":\"overlay\",\"size\":10,\"solidity\":0.2},\"type\":\"scatter\"}],\"parcoords\":[{\"type\":\"parcoords\",\"line\":{\"colorbar\":{\"outlinewidth\":0,\"ticks\":\"\"}}}],\"scatterpolargl\":[{\"type\":\"scatterpolargl\",\"marker\":{\"colorbar\":{\"outlinewidth\":0,\"ticks\":\"\"}}}],\"bar\":[{\"error_x\":{\"color\":\"#2a3f5f\"},\"error_y\":{\"color\":\"#2a3f5f\"},\"marker\":{\"line\":{\"color\":\"#E5ECF6\",\"width\":0.5},\"pattern\":{\"fillmode\":\"overlay\",\"size\":10,\"solidity\":0.2}},\"type\":\"bar\"}],\"scattergeo\":[{\"type\":\"scattergeo\",\"marker\":{\"colorbar\":{\"outlinewidth\":0,\"ticks\":\"\"}}}],\"scatterpolar\":[{\"type\":\"scatterpolar\",\"marker\":{\"colorbar\":{\"outlinewidth\":0,\"ticks\":\"\"}}}],\"histogram\":[{\"marker\":{\"pattern\":{\"fillmode\":\"overlay\",\"size\":10,\"solidity\":0.2}},\"type\":\"histogram\"}],\"scattergl\":[{\"type\":\"scattergl\",\"marker\":{\"colorbar\":{\"outlinewidth\":0,\"ticks\":\"\"}}}],\"scatter3d\":[{\"type\":\"scatter3d\",\"line\":{\"colorbar\":{\"outlinewidth\":0,\"ticks\":\"\"}},\"marker\":{\"colorbar\":{\"outlinewidth\":0,\"ticks\":\"\"}}}],\"scattermapbox\":[{\"type\":\"scattermapbox\",\"marker\":{\"colorbar\":{\"outlinewidth\":0,\"ticks\":\"\"}}}],\"scatterternary\":[{\"type\":\"scatterternary\",\"marker\":{\"colorbar\":{\"outlinewidth\":0,\"ticks\":\"\"}}}],\"scattercarpet\":[{\"type\":\"scattercarpet\",\"marker\":{\"colorbar\":{\"outlinewidth\":0,\"ticks\":\"\"}}}],\"carpet\":[{\"aaxis\":{\"endlinecolor\":\"#2a3f5f\",\"gridcolor\":\"white\",\"linecolor\":\"white\",\"minorgridcolor\":\"white\",\"startlinecolor\":\"#2a3f5f\"},\"baxis\":{\"endlinecolor\":\"#2a3f5f\",\"gridcolor\":\"white\",\"linecolor\":\"white\",\"minorgridcolor\":\"white\",\"startlinecolor\":\"#2a3f5f\"},\"type\":\"carpet\"}],\"table\":[{\"cells\":{\"fill\":{\"color\":\"#EBF0F8\"},\"line\":{\"color\":\"white\"}},\"header\":{\"fill\":{\"color\":\"#C8D4E3\"},\"line\":{\"color\":\"white\"}},\"type\":\"table\"}],\"barpolar\":[{\"marker\":{\"line\":{\"color\":\"#E5ECF6\",\"width\":0.5},\"pattern\":{\"fillmode\":\"overlay\",\"size\":10,\"solidity\":0.2}},\"type\":\"barpolar\"}],\"pie\":[{\"automargin\":true,\"type\":\"pie\"}]},\"layout\":{\"autotypenumbers\":\"strict\",\"colorway\":[\"#636efa\",\"#EF553B\",\"#00cc96\",\"#ab63fa\",\"#FFA15A\",\"#19d3f3\",\"#FF6692\",\"#B6E880\",\"#FF97FF\",\"#FECB52\"],\"font\":{\"color\":\"#2a3f5f\"},\"hovermode\":\"closest\",\"hoverlabel\":{\"align\":\"left\"},\"paper_bgcolor\":\"white\",\"plot_bgcolor\":\"#E5ECF6\",\"polar\":{\"bgcolor\":\"#E5ECF6\",\"angularaxis\":{\"gridcolor\":\"white\",\"linecolor\":\"white\",\"ticks\":\"\"},\"radialaxis\":{\"gridcolor\":\"white\",\"linecolor\":\"white\",\"ticks\":\"\"}},\"ternary\":{\"bgcolor\":\"#E5ECF6\",\"aaxis\":{\"gridcolor\":\"white\",\"linecolor\":\"white\",\"ticks\":\"\"},\"baxis\":{\"gridcolor\":\"white\",\"linecolor\":\"white\",\"ticks\":\"\"},\"caxis\":{\"gridcolor\":\"white\",\"linecolor\":\"white\",\"ticks\":\"\"}},\"coloraxis\":{\"colorbar\":{\"outlinewidth\":0,\"ticks\":\"\"}},\"colorscale\":{\"sequential\":[[0.0,\"#0d0887\"],[0.1111111111111111,\"#46039f\"],[0.2222222222222222,\"#7201a8\"],[0.3333333333333333,\"#9c179e\"],[0.4444444444444444,\"#bd3786\"],[0.5555555555555556,\"#d8576b\"],[0.6666666666666666,\"#ed7953\"],[0.7777777777777778,\"#fb9f3a\"],[0.8888888888888888,\"#fdca26\"],[1.0,\"#f0f921\"]],\"sequentialminus\":[[0.0,\"#0d0887\"],[0.1111111111111111,\"#46039f\"],[0.2222222222222222,\"#7201a8\"],[0.3333333333333333,\"#9c179e\"],[0.4444444444444444,\"#bd3786\"],[0.5555555555555556,\"#d8576b\"],[0.6666666666666666,\"#ed7953\"],[0.7777777777777778,\"#fb9f3a\"],[0.8888888888888888,\"#fdca26\"],[1.0,\"#f0f921\"]],\"diverging\":[[0,\"#8e0152\"],[0.1,\"#c51b7d\"],[0.2,\"#de77ae\"],[0.3,\"#f1b6da\"],[0.4,\"#fde0ef\"],[0.5,\"#f7f7f7\"],[0.6,\"#e6f5d0\"],[0.7,\"#b8e186\"],[0.8,\"#7fbc41\"],[0.9,\"#4d9221\"],[1,\"#276419\"]]},\"xaxis\":{\"gridcolor\":\"white\",\"linecolor\":\"white\",\"ticks\":\"\",\"title\":{\"standoff\":15},\"zerolinecolor\":\"white\",\"automargin\":true,\"zerolinewidth\":2},\"yaxis\":{\"gridcolor\":\"white\",\"linecolor\":\"white\",\"ticks\":\"\",\"title\":{\"standoff\":15},\"zerolinecolor\":\"white\",\"automargin\":true,\"zerolinewidth\":2},\"scene\":{\"xaxis\":{\"backgroundcolor\":\"#E5ECF6\",\"gridcolor\":\"white\",\"linecolor\":\"white\",\"showbackground\":true,\"ticks\":\"\",\"zerolinecolor\":\"white\",\"gridwidth\":2},\"yaxis\":{\"backgroundcolor\":\"#E5ECF6\",\"gridcolor\":\"white\",\"linecolor\":\"white\",\"showbackground\":true,\"ticks\":\"\",\"zerolinecolor\":\"white\",\"gridwidth\":2},\"zaxis\":{\"backgroundcolor\":\"#E5ECF6\",\"gridcolor\":\"white\",\"linecolor\":\"white\",\"showbackground\":true,\"ticks\":\"\",\"zerolinecolor\":\"white\",\"gridwidth\":2}},\"shapedefaults\":{\"line\":{\"color\":\"#2a3f5f\"}},\"annotationdefaults\":{\"arrowcolor\":\"#2a3f5f\",\"arrowhead\":0,\"arrowwidth\":1},\"geo\":{\"bgcolor\":\"white\",\"landcolor\":\"#E5ECF6\",\"subunitcolor\":\"white\",\"showland\":true,\"showlakes\":true,\"lakecolor\":\"white\"},\"title\":{\"x\":0.05},\"mapbox\":{\"style\":\"light\"}}},\"xaxis\":{\"title\":{\"text\":\"Date\"}},\"yaxis\":{\"title\":{\"text\":\"Portfolio Value\"}}},                        {\"responsive\": true}                    ).then(function(){\n                            \nvar gd = document.getElementById('211dd284-5151-421b-8ff4-82b6d424f332');\nvar x = new MutationObserver(function (mutations, observer) {{\n        var display = window.getComputedStyle(gd).display;\n        if (!display || display === 'none') {{\n            console.log([gd, 'removed!']);\n            Plotly.purge(gd);\n            observer.disconnect();\n        }}\n}});\n\n// Listen for the removal of the full notebook cells\nvar notebookContainer = gd.closest('#notebook-container');\nif (notebookContainer) {{\n    x.observe(notebookContainer, {childList: true});\n}}\n\n// Listen for the clearing of the current output cell\nvar outputEl = gd.closest('.output');\nif (outputEl) {{\n    x.observe(outputEl, {childList: true});\n}}\n\n                        })                };                });            </script>        </div>"
     },
     "metadata": {},
     "output_type": "display_data"
    }
   ],
   "source": [
    "fig = go.Figure(\n",
    "    [go.Scatter(x=df_flat_sentiment_stock_prices.index, y=df_flat_sentiment_stock_prices['Current Value'], name='Sentiment Portfolio'),\n",
    "     go.Scatter(x=df_flat_original_stock_prices.index, y=df_flat_original_stock_prices['Current Value'], name='Team 6 Original Portfolio'),\n",
    "     go.Scatter(x=df_flat_djia_prices.index, y=df_flat_djia_prices['Current Value'], name='DJIA')]\n",
    ")\n",
    "fig.update_layout(    \n",
    "    xaxis_title='Date',\n",
    "    yaxis_title='Portfolio Value'\n",
    ")\n",
    "fig.show()"
   ]
  }
 ],
 "metadata": {
  "kernelspec": {
   "display_name": "Python 3 (ipykernel)",
   "language": "python",
   "name": "python3"
  },
  "language_info": {
   "codemirror_mode": {
    "name": "ipython",
    "version": 3
   },
   "file_extension": ".py",
   "mimetype": "text/x-python",
   "name": "python",
   "nbconvert_exporter": "python",
   "pygments_lexer": "ipython3",
   "version": "3.12.0"
  }
 },
 "nbformat": 4,
 "nbformat_minor": 5
}
