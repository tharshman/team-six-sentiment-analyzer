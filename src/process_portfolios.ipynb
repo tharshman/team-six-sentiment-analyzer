{
 "cells": [
  {
   "cell_type": "code",
   "execution_count": null,
   "id": "initial_id",
   "metadata": {
    "collapsed": true
   },
   "outputs": [],
   "source": [
    "import pandas as pd\n",
    "from datetime import datetime \n",
    "import yfinance as yf"
   ]
  },
  {
   "cell_type": "code",
   "execution_count": null,
   "outputs": [],
   "source": [
    "# Set up dates\n",
    "purchase_date = datetime(2023, 8, 21)\n",
    "sell_date = datetime(2023, 11, 20)\n",
    "month_one_end_date = datetime(2023, 9, 21)\n",
    "month_two_end_date = datetime(2023, 10, 21)\n",
    "month_three_end_date = datetime(2023, 11, 18)"
   ],
   "metadata": {
    "collapsed": false
   },
   "id": "41920575debc75f5"
  },
  {
   "cell_type": "code",
   "execution_count": null,
   "outputs": [],
   "source": [
    "# Define methods\n",
    "def get_stock_data(df_portfolio: pd.DataFrame) -> pd.DataFrame:\n",
    "    \"\"\"Get stock data from Yahoo Finance API for a list of tickers and a date range\n",
    "    \n",
    "    Args:\n",
    "        df_portfolio: (pd.DataFrame): List of stock tickers\n",
    "        \n",
    "    Returns:\n",
    "        pd.DataFrame: Stock data for tickers and date range\n",
    "    \"\"\"\n",
    "    tickers = df_portfolio.index.to_list()\n",
    "    stock_data = yf.download(tickers, start=purchase_date, end=sell_date, interval=\"1d\", auto_adjust=True, prepost=False, threads=True, proxy=None, group_by='ticker')\n",
    "\n",
    "    # Set up date index for df_stock_data from Purchase_date to sell_date\n",
    "    stock_data = stock_data.reindex(pd.date_range(start=purchase_date, end=sell_date, freq='D'))\n",
    "    stock_data = stock_data.ffill()\n",
    "    stock_data = stock_data.dropna()\n",
    "    \n",
    "    for ticker in tickers:\n",
    "        # add new column for initial investment to df_stock_data for each group\n",
    "        stock_data[ticker, 'Initial Investment'] = df_portfolio.loc[ticker, 'AMOUNT_INVESTED']\n",
    "        stock_data[ticker, 'Purchase Price'] = stock_data.loc[purchase_date, (ticker, 'Close')]\n",
    "        stock_data[ticker, 'Shares'] = stock_data[ticker, 'Initial Investment'] / stock_data[ticker, 'Purchase Price']\n",
    "        stock_data[ticker, 'Current Value'] = stock_data[ticker, 'Shares'] * stock_data[ticker, 'Close']        \n",
    "        stock_data[ticker, 'Percent Change'] = (stock_data[ticker, 'Close'] - stock_data[ticker, 'Purchase Price']) / stock_data[ticker, 'Purchase Price']\n",
    "        \n",
    "    return stock_data\n",
    "\n",
    "def extend_portfolio_data(df_portfolio: pd.DataFrame, df_stock_data: pd.DataFrame) -> None:\n",
    "    \"\"\"Extend portfolio data with stock data\n",
    "    \n",
    "    Args:\n",
    "        df_portfolio (pd.DataFrame): Portfolio data\n",
    "        df_stock_data (pd.DataFrame): Stock data\n",
    "        \n",
    "    Returns:\n",
    "        None\n",
    "    \"\"\"\n",
    "    tickers = df_portfolio.index.to_list()\n",
    "    for ticker in tickers:\n",
    "        if 'EXPECTED_RETURN_ARR' in df_portfolio.columns:\n",
    "            df_portfolio.loc[ticker, 'ADJUSTED_EXPECTED_RETURN'] = df_portfolio.loc[ticker, 'EXPECTED_RETURN_ARR'] / 4\n",
    "        else:\n",
    "            df_portfolio.loc[ticker, 'EXPECTED_RETURN_ARR'] = 0\n",
    "            df_portfolio.loc[ticker, 'ADJUSTED_EXPECTED_RETURN'] = 0\n",
    "        \n",
    "        df_portfolio.loc[ticker, 'PURCHASE_PRICE'] = df_stock_data.loc[purchase_date, (ticker, 'Close')]\n",
    "        df_portfolio.loc[ticker, 'SHARES'] = df_stock_data.loc[purchase_date, (ticker, 'Shares')]\n",
    "        df_portfolio.loc[ticker, 'MONTH_1_PRICE'] = df_stock_data.loc[month_one_end_date, (ticker, 'Close')]\n",
    "        df_portfolio.loc[ticker, 'MONTH_1_VALUE'] = df_stock_data.loc[month_one_end_date, (ticker, 'Current Value')]\n",
    "        df_portfolio.loc[ticker, 'MONTH_1_RETURN'] = df_stock_data.loc[month_one_end_date, (ticker, 'Current Value')] - df_stock_data.loc[purchase_date, (ticker, 'Current Value')]\n",
    "        df_portfolio.loc[ticker, 'MONTH_2_PRICE'] = df_stock_data.loc[month_two_end_date, (ticker, 'Close')]\n",
    "        df_portfolio.loc[ticker, 'MONTH_2_VALUE'] = df_stock_data.loc[month_two_end_date, (ticker, 'Current Value')]\n",
    "        df_portfolio.loc[ticker, 'MONTH_2_RETURN'] = df_stock_data.loc[month_two_end_date, (ticker, 'Current Value')] - df_stock_data.loc[month_one_end_date, (ticker, 'Current Value')]\n",
    "        df_portfolio.loc[ticker, 'MONTH_3_PRICE'] = df_stock_data.loc[month_three_end_date, (ticker, 'Close')]\n",
    "        df_portfolio.loc[ticker, 'MONTH_3_VALUE'] = df_stock_data.loc[month_three_end_date, (ticker, 'Current Value')]\n",
    "        df_portfolio.loc[ticker, 'MONTH_3_RETURN'] = df_stock_data.loc[month_three_end_date, (ticker, 'Current Value')] - df_stock_data.loc[month_two_end_date, (ticker, 'Current Value')]\n",
    "        df_portfolio.loc[ticker, 'ACTUAL_RETURN'] = df_stock_data.loc[month_three_end_date, (ticker, 'Current Value')] - df_stock_data.loc[purchase_date, (ticker, 'Current Value')]\n",
    "        df_portfolio.loc[ticker, 'ACTUAL_RETURN_PCT'] = df_stock_data.loc[month_three_end_date, (ticker, 'Percent Change')]\n",
    "    "
   ],
   "metadata": {
    "collapsed": false
   },
   "id": "c5e4fd5b329ca1d"
  },
  {
   "cell_type": "code",
   "execution_count": null,
   "outputs": [],
   "source": [
    "df_original_portfolio = pd.read_csv('../data/portfolio/original_portfolio.csv', index_col=0)\n",
    "original_stock_prices = get_stock_data(df_original_portfolio)\n",
    "extend_portfolio_data(df_original_portfolio, original_stock_prices)\n",
    "\n",
    "df_original_portfolio"
   ],
   "metadata": {
    "collapsed": false
   },
   "id": "cf282842dd176e6e"
  },
  {
   "cell_type": "code",
   "execution_count": null,
   "outputs": [],
   "source": [
    "df_sentiment_portfolio = pd.read_csv('../data/portfolio/sentiment_portfolio.csv', index_col=0)\n",
    "sentiment_stock_prices = get_stock_data(df_sentiment_portfolio)\n",
    "extend_portfolio_data(df_sentiment_portfolio, sentiment_stock_prices)\n",
    "\n",
    "df_sentiment_portfolio"
   ],
   "metadata": {
    "collapsed": false
   },
   "id": "55f2516a7ff5280d"
  },
  {
   "cell_type": "code",
   "execution_count": null,
   "outputs": [],
   "source": [
    "df_original_portfolio_returns = df_original_portfolio[['NAME', 'ADJUSTED_EXPECTED_RETURN', 'ACTUAL_RETURN_PCT']]\n",
    "df_original_portfolio_returns.plot.bar(x='NAME', y=['ADJUSTED_EXPECTED_RETURN', 'ACTUAL_RETURN_PCT'], rot=0, figsize=(20,10))"
   ],
   "metadata": {
    "collapsed": false
   },
   "id": "136b652ec74b6efe"
  }
 ],
 "metadata": {
  "kernelspec": {
   "display_name": "Python 3",
   "language": "python",
   "name": "python3"
  },
  "language_info": {
   "codemirror_mode": {
    "name": "ipython",
    "version": 2
   },
   "file_extension": ".py",
   "mimetype": "text/x-python",
   "name": "python",
   "nbconvert_exporter": "python",
   "pygments_lexer": "ipython2",
   "version": "2.7.6"
  }
 },
 "nbformat": 4,
 "nbformat_minor": 5
}
