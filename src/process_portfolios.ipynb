{
 "cells": [
  {
   "cell_type": "markdown",
   "id": "3a7b688596699b1e",
   "metadata": {
    "collapsed": false
   },
   "source": [
    "# Portfolio Analysis"
   ]
  },
  {
   "cell_type": "code",
   "execution_count": null,
   "id": "initial_id",
   "metadata": {
    "collapsed": false
   },
   "outputs": [],
   "source": [
    "import numpy as np\n",
    "import pandas as pd\n",
    "from datetime import datetime \n",
    "import yfinance as yf\n",
    "import matplotlib.pyplot as plt\n",
    "import plotly.graph_objects as go"
   ]
  },
  {
   "cell_type": "code",
   "execution_count": null,
   "id": "41920575debc75f5",
   "metadata": {
    "collapsed": false
   },
   "outputs": [],
   "source": [
    "# Set up dates\n",
    "purchase_date = datetime(2023, 8, 21)\n",
    "sell_date = datetime(2023, 11, 20)\n",
    "month_one_end_date = datetime(2023, 9, 21)\n",
    "month_two_end_date = datetime(2023, 10, 21)\n",
    "month_three_end_date = datetime(2023, 11, 18)"
   ]
  },
  {
   "cell_type": "code",
   "execution_count": null,
   "id": "c5e4fd5b329ca1d",
   "metadata": {
    "collapsed": false
   },
   "outputs": [],
   "source": [
    "# Define methods\n",
    "def get_stock_data(df_portfolio: pd.DataFrame) -> pd.DataFrame:\n",
    "    \"\"\"Get stock data from Yahoo Finance API for a list of tickers and a date range\n",
    "    \n",
    "    Args:\n",
    "        df_portfolio: (pd.DataFrame): List of stock tickers\n",
    "        \n",
    "    Returns:\n",
    "        pd.DataFrame: Stock data for tickers and date range\n",
    "    \"\"\"\n",
    "    tickers = df_portfolio.index.to_list()\n",
    "    stock_data: pd.DataFrame = yf.download(tickers, start=purchase_date, end=sell_date, interval=\"1d\", auto_adjust=True, prepost=False, threads=True, proxy=None, group_by='ticker')\n",
    "    \n",
    "    # Set up date index for df_stock_data from Purchase_date to sell_date\n",
    "    stock_data = stock_data.reindex(pd.date_range(start=purchase_date, end=sell_date, freq='D'))\n",
    "    stock_data = stock_data.ffill()\n",
    "    stock_data = stock_data.dropna()\n",
    "    \n",
    "    if len(tickers) == 1:       \n",
    "        cols = pd.MultiIndex.from_tuples([\n",
    "            (tickers[0],   'Open'),\n",
    "            (tickers[0],   'High'),\n",
    "            (tickers[0],    'Low'),\n",
    "            (tickers[0],  'Close'),\n",
    "            (tickers[0], 'Volume')\n",
    "            ])\n",
    "        stock_data.columns = cols\n",
    "            \n",
    "    for ticker in tickers:        \n",
    "        # add new column for initial investment to df_stock_data for each group\n",
    "        stock_data[ticker, 'Initial Investment'] = df_portfolio.loc[ticker, 'AMOUNT_INVESTED']\n",
    "        stock_data[ticker, 'Purchase Price'] = stock_data.loc[purchase_date, (ticker, 'Close')]\n",
    "        stock_data[ticker, 'Shares'] = stock_data[ticker, 'Initial Investment'] / stock_data[ticker, 'Purchase Price']\n",
    "        stock_data[ticker, 'Current Value'] = stock_data[ticker, 'Shares'] * stock_data[ticker, 'Close']        \n",
    "        stock_data[ticker, 'Percent Change'] = (stock_data[ticker, 'Close'] - stock_data[ticker, 'Purchase Price']) / stock_data[ticker, 'Purchase Price']\n",
    "    \n",
    "        \n",
    "    return stock_data\n",
    "\n",
    "def extend_portfolio_data(df_portfolio: pd.DataFrame, df_stock_data: pd.DataFrame) -> None:\n",
    "    \"\"\"Extend portfolio data with stock data\n",
    "    \n",
    "    Args:\n",
    "        df_portfolio (pd.DataFrame): Portfolio data\n",
    "        df_stock_data (pd.DataFrame): Stock data\n",
    "        \n",
    "    Returns:\n",
    "        None\n",
    "    \"\"\"\n",
    "    if 'EXPECTED_RETURN_ARR' in df_portfolio.columns:\n",
    "        df_portfolio['ADJUSTED_EXPECTED_RETURN'] = df_portfolio['EXPECTED_RETURN_ARR'] / 4\n",
    "    else:\n",
    "        df_portfolio['EXPECTED_RETURN_ARR'] = np.NAN\n",
    "        df_portfolio['ADJUSTED_EXPECTED_RETURN'] = np.NAN\n",
    "    \n",
    "    \n",
    "    tickers = df_portfolio.index.to_list()\n",
    "    for ticker in tickers:\n",
    "        df_portfolio.loc[ticker, 'PURCHASE_PRICE'] = df_stock_data.loc[purchase_date, (ticker, 'Close')]\n",
    "        df_portfolio.loc[ticker, 'SHARES'] = df_stock_data.loc[purchase_date, (ticker, 'Shares')]\n",
    "        df_portfolio.loc[ticker, 'MONTH_1_PRICE'] = df_stock_data.loc[month_one_end_date, (ticker, 'Close')]\n",
    "        df_portfolio.loc[ticker, 'MONTH_1_VALUE'] = df_stock_data.loc[month_one_end_date, (ticker, 'Current Value')]\n",
    "        df_portfolio.loc[ticker, 'MONTH_1_RETURN'] = df_stock_data.loc[month_one_end_date, (ticker, 'Current Value')] - df_stock_data.loc[purchase_date, (ticker, 'Current Value')]\n",
    "        df_portfolio.loc[ticker, 'MONTH_2_PRICE'] = df_stock_data.loc[month_two_end_date, (ticker, 'Close')]\n",
    "        df_portfolio.loc[ticker, 'MONTH_2_VALUE'] = df_stock_data.loc[month_two_end_date, (ticker, 'Current Value')]\n",
    "        df_portfolio.loc[ticker, 'MONTH_2_RETURN'] = df_stock_data.loc[month_two_end_date, (ticker, 'Current Value')] - df_stock_data.loc[month_one_end_date, (ticker, 'Current Value')]\n",
    "        df_portfolio.loc[ticker, 'MONTH_3_PRICE'] = df_stock_data.loc[month_three_end_date, (ticker, 'Close')]\n",
    "        df_portfolio.loc[ticker, 'MONTH_3_VALUE'] = df_stock_data.loc[month_three_end_date, (ticker, 'Current Value')]\n",
    "        df_portfolio.loc[ticker, 'MONTH_3_RETURN'] = df_stock_data.loc[month_three_end_date, (ticker, 'Current Value')] - df_stock_data.loc[month_two_end_date, (ticker, 'Current Value')]\n",
    "        df_portfolio.loc[ticker, 'ACTUAL_RETURN'] = df_stock_data.loc[month_three_end_date, (ticker, 'Current Value')] - df_stock_data.loc[purchase_date, (ticker, 'Current Value')]\n",
    "        df_portfolio.loc[ticker, 'ACTUAL_RETURN_PCT'] = df_stock_data.loc[month_three_end_date, (ticker, 'Percent Change')]\n",
    "        \n",
    "# Function to calculate returns\n",
    "def calculate_returns(df: pd.DataFrame, start: str, end: str) -> float:\n",
    "    \"\"\"Calculate returns for a given date range\n",
    "    \n",
    "    Args:\n",
    "        df (pd.DataFrame): Stock data\n",
    "        start (str): Start date\n",
    "        end (str): End date\n",
    "        \n",
    "    Returns:\n",
    "        float: Return for the date range        \n",
    "    \"\"\"\n",
    "    subset = df.loc[start:end]\n",
    "    start_value = subset['Current Value'].iloc[0]\n",
    "    end_value = subset['Current Value'].iloc[-1]\n",
    "    return (end_value - start_value) / start_value\n",
    "\n",
    "def flatten_stock_data(df_stock_data: pd.DataFrame) -> pd.DataFrame:\n",
    "    \"\"\"Flatten stock data\n",
    "    \n",
    "    Args:\n",
    "        df_stock_data (pd.DataFrame): Stock data\n",
    "        \n",
    "    Returns:\n",
    "        pd.DataFrame: Flattened stock data\n",
    "    \"\"\"\n",
    "    df_tmp = df_stock_data.stack(level=0).rename_axis(['Date', 'Ticker']).reset_index(level=1)\n",
    "    df_flat_stock_data = df_tmp.groupby(level=0).sum()[['Current Value']]\n",
    "    return df_flat_stock_data\n",
    "    "
   ]
  },
  {
   "cell_type": "code",
   "execution_count": null,
   "id": "cf282842dd176e6e",
   "metadata": {
    "collapsed": false
   },
   "outputs": [],
   "source": [
    "df_original_portfolio = pd.read_csv('../data/portfolio/original_portfolio.csv', index_col=0)\n",
    "df_original_stock_prices = get_stock_data(df_original_portfolio)\n",
    "extend_portfolio_data(df_original_portfolio, df_original_stock_prices)\n",
    "df_flat_original_stock_prices = flatten_stock_data(df_original_stock_prices)\n",
    "\n",
    "df_flat_original_stock_prices"
   ]
  },
  {
   "cell_type": "code",
   "execution_count": null,
   "id": "55f2516a7ff5280d",
   "metadata": {
    "collapsed": false
   },
   "outputs": [],
   "source": [
    "df_sentiment_portfolio = pd.read_csv('../data/portfolio/sentiment_portfolio.csv', index_col=0)\n",
    "df_sentiment_stock_prices = get_stock_data(df_sentiment_portfolio)\n",
    "extend_portfolio_data(df_sentiment_portfolio, df_sentiment_stock_prices)\n",
    "df_flat_sentiment_stock_prices = flatten_stock_data(df_sentiment_stock_prices)\n",
    "\n",
    "df_flat_sentiment_stock_prices"
   ]
  },
  {
   "cell_type": "markdown",
   "source": [],
   "metadata": {
    "collapsed": false
   },
   "id": "6e4e67ca3dfff13"
  },
  {
   "cell_type": "code",
   "execution_count": null,
   "outputs": [],
   "source": [
    "df_djia_portfolio = pd.read_csv('../data/portfolio/djia_portfolio.csv', index_col=0)\n",
    "df_djia_prices = get_stock_data(df_djia_portfolio)\n",
    "df_flat_djia_prices = flatten_stock_data(df_djia_prices)\n",
    "\n",
    "df_flat_djia_prices"
   ],
   "metadata": {
    "collapsed": false
   },
   "id": "a33b90b90071c75a"
  },
  {
   "cell_type": "code",
   "execution_count": null,
   "id": "f619c75ed5c39d06",
   "metadata": {
    "collapsed": false
   },
   "outputs": [],
   "source": [
    "date_ranges = [('2023-08-22', '2023-09-21'), \n",
    "               ('2023-09-22', '2023-10-21'), \n",
    "               ('2023-10-21', '2023-11-18')]\n",
    "\n",
    "# Calculate returns for each period\n",
    "returns = []\n",
    "for start_date, end_date in date_ranges:\n",
    "    your_return = calculate_returns(df_flat_original_stock_prices, start_date, end_date)\n",
    "    sentiment_return = calculate_returns(df_flat_sentiment_stock_prices, start_date, end_date)\n",
    "    returns.append((start_date, end_date, your_return, sentiment_return))\n",
    "\n",
    "# Create DataFrame for the returns\n",
    "df_returns = pd.DataFrame(returns, columns=['Start Date', 'End Date', 'Your Portfolio Return', 'Sentiment Portfolio Return'])\n",
    "\n",
    "# Display the DataFrame\n",
    "df_returns"
   ]
  },
  {
   "cell_type": "markdown",
   "id": "338ba1aaed48bca7",
   "metadata": {
    "collapsed": false
   },
   "source": [
    "## Compare expected returns versus actual returns"
   ]
  },
  {
   "cell_type": "code",
   "execution_count": null,
   "id": "136b652ec74b6efe",
   "metadata": {
    "collapsed": false
   },
   "outputs": [],
   "source": [
    "df_original_portfolio_returns = df_original_portfolio[['NAME', 'ADJUSTED_EXPECTED_RETURN', 'ACTUAL_RETURN_PCT']]\n",
    "\n",
    "ind = np.arange(5)\n",
    "width = 0.25\n",
    "plt.figure(figsize=(10, 6))\n",
    "bar1 = plt.bar(ind, df_original_portfolio_returns['ADJUSTED_EXPECTED_RETURN'], width, label='Expected Return')\n",
    "bar2 = plt.bar(ind + width, df_original_portfolio_returns['ACTUAL_RETURN_PCT'], width, label='Actual Return')\n",
    "plt.xlabel('Company')\n",
    "plt.ylabel('% Return')\n",
    "plt.title('Expected vs Actual Returns')\n",
    "\n",
    "plt.xticks(ind + width / 2, df_original_portfolio_returns['NAME'])\n",
    "plt.legend()\n",
    "plt.show()"
   ]
  },
  {
   "cell_type": "markdown",
   "id": "b410eda102bce9cf",
   "metadata": {
    "collapsed": false
   },
   "source": [
    "## Compare Original Portfolio vs Sentiment Portfolio"
   ]
  },
  {
   "cell_type": "code",
   "execution_count": null,
   "id": "a805890103efa49d",
   "metadata": {
    "collapsed": false
   },
   "outputs": [],
   "source": [
    "df_original_portfolio[\"PORTFOLIO\"] = \"ORIGINAL\"\n",
    "df_sentiment_portfolio[\"PORTFOLIO\"] = \"SENTIMENT\"\n",
    "df_combined_portfolio = pd.concat([df_original_portfolio, df_sentiment_portfolio])\n",
    "df_combined_portfolio"
   ]
  },
  {
   "cell_type": "code",
   "execution_count": null,
   "id": "43552ff14c8233bd",
   "metadata": {
    "collapsed": false
   },
   "outputs": [],
   "source": [
    "df_combined_portfolio.groupby('PORTFOLIO').sum()[['MONTH_1_RETURN','MONTH_2_RETURN','MONTH_3_RETURN','ACTUAL_RETURN', 'ACTUAL_RETURN_PCT']]"
   ]
  },
  {
   "cell_type": "code",
   "execution_count": null,
   "id": "c5840a13309e3706",
   "metadata": {
    "collapsed": false
   },
   "outputs": [],
   "source": [
    "# Plotting\n",
    "plt.figure(figsize=(10, 6))\n",
    "plt.plot(df_returns['End Date'], df_returns['Your Portfolio Return'], label='Your Portfolio')\n",
    "plt.plot(df_returns['End Date'], df_returns['Sentiment Portfolio Return'], label='Sentiment Portfolio')\n",
    "plt.xlabel('End Date')\n",
    "plt.ylabel('Return')\n",
    "plt.title('Month-by-Month Portfolio Returns Comparison')\n",
    "plt.legend()\n",
    "plt.show()"
   ]
  },
  {
   "cell_type": "code",
   "execution_count": null,
   "id": "835eea1627727e5f",
   "metadata": {
    "collapsed": false
   },
   "outputs": [],
   "source": [
    "fig = go.Figure(\n",
    "    [go.Scatter(x=df_flat_sentiment_stock_prices.index, y=df_flat_sentiment_stock_prices['Current Value'], name='Sentiment Portfolio'),\n",
    "     go.Scatter(x=df_flat_original_stock_prices.index, y=df_flat_original_stock_prices['Current Value'], name='Team 6 Original Portfolio'),\n",
    "     go.Scatter(x=df_flat_djia_prices.index, y=df_flat_djia_prices['Current Value'], name='DJIA')]\n",
    ")\n",
    "fig.update_layout(    \n",
    "    xaxis_title='Date',\n",
    "    yaxis_title='Portfolio Value'\n",
    ")\n",
    "fig.show()"
   ]
  }
 ],
 "metadata": {
  "kernelspec": {
   "display_name": "Python 3 (ipykernel)",
   "language": "python",
   "name": "python3"
  },
  "language_info": {
   "codemirror_mode": {
    "name": "ipython",
    "version": 3
   },
   "file_extension": ".py",
   "mimetype": "text/x-python",
   "name": "python",
   "nbconvert_exporter": "python",
   "pygments_lexer": "ipython3",
   "version": "3.12.0"
  }
 },
 "nbformat": 4,
 "nbformat_minor": 5
}
