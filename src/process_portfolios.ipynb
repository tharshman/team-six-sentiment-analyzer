{
 "cells": [
  {
   "cell_type": "markdown",
   "source": [
    "# Portfolio Analysis"
   ],
   "metadata": {
    "collapsed": false
   },
   "id": "3a7b688596699b1e"
  },
  {
   "cell_type": "code",
   "execution_count": 199,
   "outputs": [],
   "source": [
    "import numpy as np\n",
    "import pandas as pd\n",
    "from datetime import datetime \n",
    "import yfinance as yf\n",
    "import matplotlib.pyplot as plt\n",
    "import plotly.express as px\n",
    "import plotly.graph_objects as go"
   ],
   "metadata": {
    "collapsed": false,
    "ExecuteTime": {
     "end_time": "2023-11-27T06:49:35.831216300Z",
     "start_time": "2023-11-27T06:49:35.821778600Z"
    }
   },
   "id": "initial_id"
  },
  {
   "cell_type": "code",
   "execution_count": 200,
   "outputs": [],
   "source": [
    "# Set up dates\n",
    "purchase_date = datetime(2023, 8, 21)\n",
    "sell_date = datetime(2023, 11, 20)\n",
    "month_one_end_date = datetime(2023, 9, 21)\n",
    "month_two_end_date = datetime(2023, 10, 21)\n",
    "month_three_end_date = datetime(2023, 11, 18)"
   ],
   "metadata": {
    "collapsed": false,
    "ExecuteTime": {
     "end_time": "2023-11-27T06:49:35.840541900Z",
     "start_time": "2023-11-27T06:49:35.826207500Z"
    }
   },
   "id": "41920575debc75f5"
  },
  {
   "cell_type": "code",
   "execution_count": 201,
   "outputs": [],
   "source": [
    "# Define methods\n",
    "def get_stock_data(df_portfolio: pd.DataFrame) -> pd.DataFrame:\n",
    "    \"\"\"Get stock data from Yahoo Finance API for a list of tickers and a date range\n",
    "    \n",
    "    Args:\n",
    "        df_portfolio: (pd.DataFrame): List of stock tickers\n",
    "        \n",
    "    Returns:\n",
    "        pd.DataFrame: Stock data for tickers and date range\n",
    "    \"\"\"\n",
    "    tickers = df_portfolio.index.to_list()\n",
    "    stock_data = yf.download(tickers, start=purchase_date, end=sell_date, interval=\"1d\", auto_adjust=True, prepost=False, threads=True, proxy=None, group_by='ticker')\n",
    "\n",
    "    # Set up date index for df_stock_data from Purchase_date to sell_date\n",
    "    stock_data = stock_data.reindex(pd.date_range(start=purchase_date, end=sell_date, freq='D'))\n",
    "    stock_data = stock_data.ffill()\n",
    "    stock_data = stock_data.dropna()\n",
    "    \n",
    "    for ticker in tickers:\n",
    "        # add new column for initial investment to df_stock_data for each group\n",
    "        stock_data[ticker, 'Initial Investment'] = df_portfolio.loc[ticker, 'AMOUNT_INVESTED']\n",
    "        stock_data[ticker, 'Purchase Price'] = stock_data.loc[purchase_date, (ticker, 'Close')]\n",
    "        stock_data[ticker, 'Shares'] = stock_data[ticker, 'Initial Investment'] / stock_data[ticker, 'Purchase Price']\n",
    "        stock_data[ticker, 'Current Value'] = stock_data[ticker, 'Shares'] * stock_data[ticker, 'Close']        \n",
    "        stock_data[ticker, 'Percent Change'] = (stock_data[ticker, 'Close'] - stock_data[ticker, 'Purchase Price']) / stock_data[ticker, 'Purchase Price']\n",
    "        \n",
    "    return stock_data\n",
    "\n",
    "def extend_portfolio_data(df_portfolio: pd.DataFrame, df_stock_data: pd.DataFrame) -> None:\n",
    "    \"\"\"Extend portfolio data with stock data\n",
    "    \n",
    "    Args:\n",
    "        df_portfolio (pd.DataFrame): Portfolio data\n",
    "        df_stock_data (pd.DataFrame): Stock data\n",
    "        \n",
    "    Returns:\n",
    "        None\n",
    "    \"\"\"\n",
    "    if 'EXPECTED_RETURN_ARR' in df_portfolio.columns:\n",
    "        df_portfolio['ADJUSTED_EXPECTED_RETURN'] = df_portfolio['EXPECTED_RETURN_ARR'] / 4\n",
    "    else:\n",
    "        df_portfolio['EXPECTED_RETURN_ARR'] = np.NAN\n",
    "        df_portfolio['ADJUSTED_EXPECTED_RETURN'] = np.NAN\n",
    "    \n",
    "    \n",
    "    tickers = df_portfolio.index.to_list()\n",
    "    for ticker in tickers:\n",
    "        df_portfolio.loc[ticker, 'PURCHASE_PRICE'] = df_stock_data.loc[purchase_date, (ticker, 'Close')]\n",
    "        df_portfolio.loc[ticker, 'SHARES'] = df_stock_data.loc[purchase_date, (ticker, 'Shares')]\n",
    "        df_portfolio.loc[ticker, 'MONTH_1_PRICE'] = df_stock_data.loc[month_one_end_date, (ticker, 'Close')]\n",
    "        df_portfolio.loc[ticker, 'MONTH_1_VALUE'] = df_stock_data.loc[month_one_end_date, (ticker, 'Current Value')]\n",
    "        df_portfolio.loc[ticker, 'MONTH_1_RETURN'] = df_stock_data.loc[month_one_end_date, (ticker, 'Current Value')] - df_stock_data.loc[purchase_date, (ticker, 'Current Value')]\n",
    "        df_portfolio.loc[ticker, 'MONTH_2_PRICE'] = df_stock_data.loc[month_two_end_date, (ticker, 'Close')]\n",
    "        df_portfolio.loc[ticker, 'MONTH_2_VALUE'] = df_stock_data.loc[month_two_end_date, (ticker, 'Current Value')]\n",
    "        df_portfolio.loc[ticker, 'MONTH_2_RETURN'] = df_stock_data.loc[month_two_end_date, (ticker, 'Current Value')] - df_stock_data.loc[month_one_end_date, (ticker, 'Current Value')]\n",
    "        df_portfolio.loc[ticker, 'MONTH_3_PRICE'] = df_stock_data.loc[month_three_end_date, (ticker, 'Close')]\n",
    "        df_portfolio.loc[ticker, 'MONTH_3_VALUE'] = df_stock_data.loc[month_three_end_date, (ticker, 'Current Value')]\n",
    "        df_portfolio.loc[ticker, 'MONTH_3_RETURN'] = df_stock_data.loc[month_three_end_date, (ticker, 'Current Value')] - df_stock_data.loc[month_two_end_date, (ticker, 'Current Value')]\n",
    "        df_portfolio.loc[ticker, 'ACTUAL_RETURN'] = df_stock_data.loc[month_three_end_date, (ticker, 'Current Value')] - df_stock_data.loc[purchase_date, (ticker, 'Current Value')]\n",
    "        df_portfolio.loc[ticker, 'ACTUAL_RETURN_PCT'] = df_stock_data.loc[month_three_end_date, (ticker, 'Percent Change')]\n",
    "        \n",
    "# Function to calculate returns\n",
    "def calculate_returns(df: pd.DataFrame, start: str, end: str) -> float:\n",
    "    subset = df.loc[start:end]\n",
    "    start_value = subset['Current Value'].iloc[0]\n",
    "    end_value = subset['Current Value'].iloc[-1]\n",
    "    return (end_value - start_value) / start_value\n",
    "\n",
    "def flatten_stock_data(df_stock_data: pd.DataFrame) -> pd.DataFrame:\n",
    "    df_tmp = df_stock_data.stack(level=0).rename_axis(['Date', 'Ticker']).reset_index(level=1)\n",
    "    df_flat_stock_data = df_tmp.groupby(level=0).sum()[['Current Value']]\n",
    "    return df_flat_stock_data\n",
    "    "
   ],
   "metadata": {
    "collapsed": false,
    "ExecuteTime": {
     "end_time": "2023-11-27T06:49:35.848217300Z",
     "start_time": "2023-11-27T06:49:35.845687200Z"
    }
   },
   "id": "c5e4fd5b329ca1d"
  },
  {
   "cell_type": "code",
   "execution_count": 202,
   "outputs": [
    {
     "name": "stdout",
     "output_type": "stream",
     "text": [
      "[*********************100%%**********************]  5 of 5 completed\n"
     ]
    },
    {
     "data": {
      "text/plain": "            Current Value\nDate                     \n2023-08-21   1.000000e+06\n2023-08-22   9.917681e+05\n2023-08-23   1.002502e+06\n2023-08-24   9.847366e+05\n2023-08-25   9.978638e+05\n...                   ...\n2023-11-16   9.661726e+05\n2023-11-17   9.692619e+05\n2023-11-18   9.692619e+05\n2023-11-19   9.692619e+05\n2023-11-20   9.692619e+05\n\n[92 rows x 1 columns]",
      "text/html": "<div>\n<style scoped>\n    .dataframe tbody tr th:only-of-type {\n        vertical-align: middle;\n    }\n\n    .dataframe tbody tr th {\n        vertical-align: top;\n    }\n\n    .dataframe thead th {\n        text-align: right;\n    }\n</style>\n<table border=\"1\" class=\"dataframe\">\n  <thead>\n    <tr style=\"text-align: right;\">\n      <th></th>\n      <th>Current Value</th>\n    </tr>\n    <tr>\n      <th>Date</th>\n      <th></th>\n    </tr>\n  </thead>\n  <tbody>\n    <tr>\n      <th>2023-08-21</th>\n      <td>1.000000e+06</td>\n    </tr>\n    <tr>\n      <th>2023-08-22</th>\n      <td>9.917681e+05</td>\n    </tr>\n    <tr>\n      <th>2023-08-23</th>\n      <td>1.002502e+06</td>\n    </tr>\n    <tr>\n      <th>2023-08-24</th>\n      <td>9.847366e+05</td>\n    </tr>\n    <tr>\n      <th>2023-08-25</th>\n      <td>9.978638e+05</td>\n    </tr>\n    <tr>\n      <th>...</th>\n      <td>...</td>\n    </tr>\n    <tr>\n      <th>2023-11-16</th>\n      <td>9.661726e+05</td>\n    </tr>\n    <tr>\n      <th>2023-11-17</th>\n      <td>9.692619e+05</td>\n    </tr>\n    <tr>\n      <th>2023-11-18</th>\n      <td>9.692619e+05</td>\n    </tr>\n    <tr>\n      <th>2023-11-19</th>\n      <td>9.692619e+05</td>\n    </tr>\n    <tr>\n      <th>2023-11-20</th>\n      <td>9.692619e+05</td>\n    </tr>\n  </tbody>\n</table>\n<p>92 rows × 1 columns</p>\n</div>"
     },
     "execution_count": 202,
     "metadata": {},
     "output_type": "execute_result"
    }
   ],
   "source": [
    "df_original_portfolio = pd.read_csv('../data/portfolio/original_portfolio.csv', index_col=0)\n",
    "df_original_stock_prices = get_stock_data(df_original_portfolio)\n",
    "extend_portfolio_data(df_original_portfolio, df_original_stock_prices)\n",
    "df_flat_original_stock_prices = flatten_stock_data(df_original_stock_prices)\n",
    "\n",
    "df_flat_original_stock_prices"
   ],
   "metadata": {
    "collapsed": false,
    "ExecuteTime": {
     "end_time": "2023-11-27T06:49:36.001131Z",
     "start_time": "2023-11-27T06:49:35.849199800Z"
    }
   },
   "id": "cf282842dd176e6e"
  },
  {
   "cell_type": "code",
   "execution_count": 203,
   "outputs": [
    {
     "name": "stdout",
     "output_type": "stream",
     "text": [
      "[*********************100%%**********************]  5 of 5 completed\n"
     ]
    },
    {
     "data": {
      "text/plain": "            Current Value\nDate                     \n2023-08-21   1.000000e+06\n2023-08-22   9.937395e+05\n2023-08-23   1.002786e+06\n2023-08-24   9.897217e+05\n2023-08-25   9.960307e+05\n...                   ...\n2023-11-16   1.001553e+06\n2023-11-17   1.005945e+06\n2023-11-18   1.005945e+06\n2023-11-19   1.005945e+06\n2023-11-20   1.005945e+06\n\n[92 rows x 1 columns]",
      "text/html": "<div>\n<style scoped>\n    .dataframe tbody tr th:only-of-type {\n        vertical-align: middle;\n    }\n\n    .dataframe tbody tr th {\n        vertical-align: top;\n    }\n\n    .dataframe thead th {\n        text-align: right;\n    }\n</style>\n<table border=\"1\" class=\"dataframe\">\n  <thead>\n    <tr style=\"text-align: right;\">\n      <th></th>\n      <th>Current Value</th>\n    </tr>\n    <tr>\n      <th>Date</th>\n      <th></th>\n    </tr>\n  </thead>\n  <tbody>\n    <tr>\n      <th>2023-08-21</th>\n      <td>1.000000e+06</td>\n    </tr>\n    <tr>\n      <th>2023-08-22</th>\n      <td>9.937395e+05</td>\n    </tr>\n    <tr>\n      <th>2023-08-23</th>\n      <td>1.002786e+06</td>\n    </tr>\n    <tr>\n      <th>2023-08-24</th>\n      <td>9.897217e+05</td>\n    </tr>\n    <tr>\n      <th>2023-08-25</th>\n      <td>9.960307e+05</td>\n    </tr>\n    <tr>\n      <th>...</th>\n      <td>...</td>\n    </tr>\n    <tr>\n      <th>2023-11-16</th>\n      <td>1.001553e+06</td>\n    </tr>\n    <tr>\n      <th>2023-11-17</th>\n      <td>1.005945e+06</td>\n    </tr>\n    <tr>\n      <th>2023-11-18</th>\n      <td>1.005945e+06</td>\n    </tr>\n    <tr>\n      <th>2023-11-19</th>\n      <td>1.005945e+06</td>\n    </tr>\n    <tr>\n      <th>2023-11-20</th>\n      <td>1.005945e+06</td>\n    </tr>\n  </tbody>\n</table>\n<p>92 rows × 1 columns</p>\n</div>"
     },
     "execution_count": 203,
     "metadata": {},
     "output_type": "execute_result"
    }
   ],
   "source": [
    "df_sentiment_portfolio = pd.read_csv('../data/portfolio/sentiment_portfolio.csv', index_col=0)\n",
    "df_sentiment_stock_prices = get_stock_data(df_sentiment_portfolio)\n",
    "extend_portfolio_data(df_sentiment_portfolio, df_sentiment_stock_prices)\n",
    "df_flat_sentiment_stock_prices = flatten_stock_data(df_sentiment_stock_prices)\n",
    "\n",
    "df_flat_sentiment_stock_prices"
   ],
   "metadata": {
    "collapsed": false,
    "ExecuteTime": {
     "end_time": "2023-11-27T06:49:36.161425900Z",
     "start_time": "2023-11-27T06:49:36.003132300Z"
    }
   },
   "id": "55f2516a7ff5280d"
  },
  {
   "cell_type": "code",
   "execution_count": 204,
   "outputs": [
    {
     "data": {
      "text/plain": "   Start Date    End Date  Your Portfolio Return  Sentiment Portfolio Return\n0  2023-08-22  2023-09-21              -0.018039                   -0.000861\n1  2023-09-22  2023-10-21              -0.032867                   -0.045375\n2  2023-10-21  2023-11-18               0.033438                    0.064004",
      "text/html": "<div>\n<style scoped>\n    .dataframe tbody tr th:only-of-type {\n        vertical-align: middle;\n    }\n\n    .dataframe tbody tr th {\n        vertical-align: top;\n    }\n\n    .dataframe thead th {\n        text-align: right;\n    }\n</style>\n<table border=\"1\" class=\"dataframe\">\n  <thead>\n    <tr style=\"text-align: right;\">\n      <th></th>\n      <th>Start Date</th>\n      <th>End Date</th>\n      <th>Your Portfolio Return</th>\n      <th>Sentiment Portfolio Return</th>\n    </tr>\n  </thead>\n  <tbody>\n    <tr>\n      <th>0</th>\n      <td>2023-08-22</td>\n      <td>2023-09-21</td>\n      <td>-0.018039</td>\n      <td>-0.000861</td>\n    </tr>\n    <tr>\n      <th>1</th>\n      <td>2023-09-22</td>\n      <td>2023-10-21</td>\n      <td>-0.032867</td>\n      <td>-0.045375</td>\n    </tr>\n    <tr>\n      <th>2</th>\n      <td>2023-10-21</td>\n      <td>2023-11-18</td>\n      <td>0.033438</td>\n      <td>0.064004</td>\n    </tr>\n  </tbody>\n</table>\n</div>"
     },
     "execution_count": 204,
     "metadata": {},
     "output_type": "execute_result"
    }
   ],
   "source": [
    "date_ranges = [('2023-08-22', '2023-09-21'), \n",
    "               ('2023-09-22', '2023-10-21'), \n",
    "               ('2023-10-21', '2023-11-18')]\n",
    "\n",
    "# Calculate returns for each period\n",
    "returns = []\n",
    "for start_date, end_date in date_ranges:\n",
    "    your_return = calculate_returns(df_flat_original_stock_prices, start_date, end_date)\n",
    "    sentiment_return = calculate_returns(df_flat_sentiment_stock_prices, start_date, end_date)\n",
    "    returns.append((start_date, end_date, your_return, sentiment_return))\n",
    "\n",
    "# Create DataFrame for the returns\n",
    "df_returns = pd.DataFrame(returns, columns=['Start Date', 'End Date', 'Your Portfolio Return', 'Sentiment Portfolio Return'])\n",
    "\n",
    "# Display the DataFrame\n",
    "df_returns"
   ],
   "metadata": {
    "collapsed": false,
    "ExecuteTime": {
     "end_time": "2023-11-27T06:49:36.176291900Z",
     "start_time": "2023-11-27T06:49:36.160429Z"
    }
   },
   "id": "f619c75ed5c39d06"
  },
  {
   "cell_type": "markdown",
   "source": [
    "## Compare expected returns versus actual returns"
   ],
   "metadata": {
    "collapsed": false
   },
   "id": "338ba1aaed48bca7"
  },
  {
   "cell_type": "code",
   "execution_count": 205,
   "outputs": [
    {
     "data": {
      "text/plain": "<Axes: xlabel='NAME'>"
     },
     "execution_count": 205,
     "metadata": {},
     "output_type": "execute_result"
    },
    {
     "data": {
      "text/plain": "<Figure size 1000x600 with 1 Axes>",
      "image/png": "[encoded data removed]"
     },
     "metadata": {},
     "output_type": "display_data"
    }
   ],
   "source": [
    "df_original_portfolio_returns = df_original_portfolio[['NAME', 'ADJUSTED_EXPECTED_RETURN', 'ACTUAL_RETURN_PCT']]\n",
    "df_original_portfolio_returns.plot.bar(x='NAME', y=['ADJUSTED_EXPECTED_RETURN', 'ACTUAL_RETURN_PCT'], rot=0, figsize=(10, 6))"
   ],
   "metadata": {
    "collapsed": false,
    "ExecuteTime": {
     "end_time": "2023-11-27T06:49:36.347215100Z",
     "start_time": "2023-11-27T06:49:36.173293900Z"
    }
   },
   "id": "136b652ec74b6efe"
  },
  {
   "cell_type": "markdown",
   "source": [
    "## Compare Original Portfolio vs Sentiment Portfolio"
   ],
   "metadata": {
    "collapsed": false
   },
   "id": "b410eda102bce9cf"
  },
  {
   "cell_type": "code",
   "execution_count": 206,
   "outputs": [
    {
     "data": {
      "text/plain": "                            NAME  AMOUNT_INVESTED  EXPECTED_RETURN_ARR  \\\nTICKER                                                                   \nCRM               Salesforce Inc         300000.0               0.1634   \nMRK               Merck & Co Inc         200000.0               0.1268   \nKO                  Coca-Cola Co         200000.0               0.0776   \nBA            The Boeing Company         150000.0               0.0946   \nCVX          Chevron Corporation         150000.0               0.0752   \nMMM                   3M Company         200000.0                  NaN   \nAXP     American Express Company         200000.0                  NaN   \nAMGN                  Amgen Inc.         200000.0                  NaN   \nAAPL                  Apple Inc.         200000.0                  NaN   \nCAT             Caterpillar Inc.         200000.0                  NaN   \n\n        ADJUSTED_EXPECTED_RETURN  PURCHASE_PRICE       SHARES  MONTH_1_PRICE  \\\nTICKER                                                                         \nCRM                      0.04085      209.029999  1435.200697     208.610001   \nMRK                      0.03170      108.897614  1836.587539     106.730003   \nKO                       0.01940       59.954334  3335.872251      57.540001   \nBA                       0.02365      227.220001   660.153152     199.949997   \nCVX                      0.01880      158.696472   945.200596     163.476364   \nMMM                          NaN       97.653282  2048.062242      95.979614   \nAXP                          NaN      160.221695  1248.270405     154.076950   \nAMGN                         NaN      258.666199   773.197275     267.308228   \nAAPL                         NaN      175.608643  1138.896110     173.701157   \nCAT                          NaN      271.347900   737.061167     270.631592   \n\n        MONTH_1_VALUE  MONTH_1_RETURN  MONTH_2_PRICE  MONTH_2_VALUE  \\\nTICKER                                                                \nCRM     299397.218335     -602.781665     203.729996  292393.431925   \nMRK     196018.994176    -3981.005824     102.669998  188562.439240   \nKO      191946.092394    -8053.907606      54.570000  182038.547736   \nBA      131997.620725   -18002.379275     180.039993  118853.969051   \nCVX     154517.956734     4517.956734     165.099350  156052.003917   \nMMM     196572.223953    -3427.776047      85.209114  174513.569201   \nAXP     192329.696830    -7670.303170     141.570007  176717.650343   \nAMGN    206681.993126     6681.993126     276.634888  213893.341343   \nAAPL    197827.571657    -2172.428343     172.652542  196633.308679   \nCAT     199472.036752     -527.963248     249.199997  183675.640452   \n\n        MONTH_2_RETURN  MONTH_3_PRICE  MONTH_3_VALUE  MONTH_3_RETURN  \\\nTICKER                                                                 \nCRM       -7003.786411     221.220001  317495.100004    25101.668079   \nMRK       -7456.554936     101.750000  186872.782067    -1689.657173   \nKO        -9907.544658      57.259998  191012.039510     8973.491775   \nBA       -13143.651674     208.039993  137338.257307    18484.288256   \nCVX        1534.047182     144.460007  136543.684375   -19508.319542   \nMMM      -22058.654751      95.339996  195262.246642    20748.677440   \nAXP      -15612.046487     162.559998  202918.833948    26201.183606   \nAMGN       7211.348218     265.390015  205198.836146    -8694.505198   \nAAPL      -1194.262978     189.690002  216037.205979    19403.897299   \nCAT      -15796.396300     253.070007  186528.074815     2852.434362   \n\n        ACTUAL_RETURN  ACTUAL_RETURN_PCT  PORTFOLIO  \nTICKER                                               \nCRM      17495.100004           0.058317   ORIGINAL  \nMRK     -13127.217933          -0.065636   ORIGINAL  \nKO       -8987.960490          -0.044940   ORIGINAL  \nBA      -12661.742693          -0.084412   ORIGINAL  \nCVX     -13456.315625          -0.089709   ORIGINAL  \nMMM      -4737.753358          -0.023689  SENTIMENT  \nAXP       2918.833948           0.014594  SENTIMENT  \nAMGN      5198.836146           0.025994  SENTIMENT  \nAAPL     16037.205979           0.080186  SENTIMENT  \nCAT     -13471.925185          -0.067360  SENTIMENT  ",
      "text/html": "<div>\n<style scoped>\n    .dataframe tbody tr th:only-of-type {\n        vertical-align: middle;\n    }\n\n    .dataframe tbody tr th {\n        vertical-align: top;\n    }\n\n    .dataframe thead th {\n        text-align: right;\n    }\n</style>\n<table border=\"1\" class=\"dataframe\">\n  <thead>\n    <tr style=\"text-align: right;\">\n      <th></th>\n      <th>NAME</th>\n      <th>AMOUNT_INVESTED</th>\n      <th>EXPECTED_RETURN_ARR</th>\n      <th>ADJUSTED_EXPECTED_RETURN</th>\n      <th>PURCHASE_PRICE</th>\n      <th>SHARES</th>\n      <th>MONTH_1_PRICE</th>\n      <th>MONTH_1_VALUE</th>\n      <th>MONTH_1_RETURN</th>\n      <th>MONTH_2_PRICE</th>\n      <th>MONTH_2_VALUE</th>\n      <th>MONTH_2_RETURN</th>\n      <th>MONTH_3_PRICE</th>\n      <th>MONTH_3_VALUE</th>\n      <th>MONTH_3_RETURN</th>\n      <th>ACTUAL_RETURN</th>\n      <th>ACTUAL_RETURN_PCT</th>\n      <th>PORTFOLIO</th>\n    </tr>\n    <tr>\n      <th>TICKER</th>\n      <th></th>\n      <th></th>\n      <th></th>\n      <th></th>\n      <th></th>\n      <th></th>\n      <th></th>\n      <th></th>\n      <th></th>\n      <th></th>\n      <th></th>\n      <th></th>\n      <th></th>\n      <th></th>\n      <th></th>\n      <th></th>\n      <th></th>\n      <th></th>\n    </tr>\n  </thead>\n  <tbody>\n    <tr>\n      <th>CRM</th>\n      <td>Salesforce Inc</td>\n      <td>300000.0</td>\n      <td>0.1634</td>\n      <td>0.04085</td>\n      <td>209.029999</td>\n      <td>1435.200697</td>\n      <td>208.610001</td>\n      <td>299397.218335</td>\n      <td>-602.781665</td>\n      <td>203.729996</td>\n      <td>292393.431925</td>\n      <td>-7003.786411</td>\n      <td>221.220001</td>\n      <td>317495.100004</td>\n      <td>25101.668079</td>\n      <td>17495.100004</td>\n      <td>0.058317</td>\n      <td>ORIGINAL</td>\n    </tr>\n    <tr>\n      <th>MRK</th>\n      <td>Merck &amp; Co Inc</td>\n      <td>200000.0</td>\n      <td>0.1268</td>\n      <td>0.03170</td>\n      <td>108.897614</td>\n      <td>1836.587539</td>\n      <td>106.730003</td>\n      <td>196018.994176</td>\n      <td>-3981.005824</td>\n      <td>102.669998</td>\n      <td>188562.439240</td>\n      <td>-7456.554936</td>\n      <td>101.750000</td>\n      <td>186872.782067</td>\n      <td>-1689.657173</td>\n      <td>-13127.217933</td>\n      <td>-0.065636</td>\n      <td>ORIGINAL</td>\n    </tr>\n    <tr>\n      <th>KO</th>\n      <td>Coca-Cola Co</td>\n      <td>200000.0</td>\n      <td>0.0776</td>\n      <td>0.01940</td>\n      <td>59.954334</td>\n      <td>3335.872251</td>\n      <td>57.540001</td>\n      <td>191946.092394</td>\n      <td>-8053.907606</td>\n      <td>54.570000</td>\n      <td>182038.547736</td>\n      <td>-9907.544658</td>\n      <td>57.259998</td>\n      <td>191012.039510</td>\n      <td>8973.491775</td>\n      <td>-8987.960490</td>\n      <td>-0.044940</td>\n      <td>ORIGINAL</td>\n    </tr>\n    <tr>\n      <th>BA</th>\n      <td>The Boeing Company</td>\n      <td>150000.0</td>\n      <td>0.0946</td>\n      <td>0.02365</td>\n      <td>227.220001</td>\n      <td>660.153152</td>\n      <td>199.949997</td>\n      <td>131997.620725</td>\n      <td>-18002.379275</td>\n      <td>180.039993</td>\n      <td>118853.969051</td>\n      <td>-13143.651674</td>\n      <td>208.039993</td>\n      <td>137338.257307</td>\n      <td>18484.288256</td>\n      <td>-12661.742693</td>\n      <td>-0.084412</td>\n      <td>ORIGINAL</td>\n    </tr>\n    <tr>\n      <th>CVX</th>\n      <td>Chevron Corporation</td>\n      <td>150000.0</td>\n      <td>0.0752</td>\n      <td>0.01880</td>\n      <td>158.696472</td>\n      <td>945.200596</td>\n      <td>163.476364</td>\n      <td>154517.956734</td>\n      <td>4517.956734</td>\n      <td>165.099350</td>\n      <td>156052.003917</td>\n      <td>1534.047182</td>\n      <td>144.460007</td>\n      <td>136543.684375</td>\n      <td>-19508.319542</td>\n      <td>-13456.315625</td>\n      <td>-0.089709</td>\n      <td>ORIGINAL</td>\n    </tr>\n    <tr>\n      <th>MMM</th>\n      <td>3M Company</td>\n      <td>200000.0</td>\n      <td>NaN</td>\n      <td>NaN</td>\n      <td>97.653282</td>\n      <td>2048.062242</td>\n      <td>95.979614</td>\n      <td>196572.223953</td>\n      <td>-3427.776047</td>\n      <td>85.209114</td>\n      <td>174513.569201</td>\n      <td>-22058.654751</td>\n      <td>95.339996</td>\n      <td>195262.246642</td>\n      <td>20748.677440</td>\n      <td>-4737.753358</td>\n      <td>-0.023689</td>\n      <td>SENTIMENT</td>\n    </tr>\n    <tr>\n      <th>AXP</th>\n      <td>American Express Company</td>\n      <td>200000.0</td>\n      <td>NaN</td>\n      <td>NaN</td>\n      <td>160.221695</td>\n      <td>1248.270405</td>\n      <td>154.076950</td>\n      <td>192329.696830</td>\n      <td>-7670.303170</td>\n      <td>141.570007</td>\n      <td>176717.650343</td>\n      <td>-15612.046487</td>\n      <td>162.559998</td>\n      <td>202918.833948</td>\n      <td>26201.183606</td>\n      <td>2918.833948</td>\n      <td>0.014594</td>\n      <td>SENTIMENT</td>\n    </tr>\n    <tr>\n      <th>AMGN</th>\n      <td>Amgen Inc.</td>\n      <td>200000.0</td>\n      <td>NaN</td>\n      <td>NaN</td>\n      <td>258.666199</td>\n      <td>773.197275</td>\n      <td>267.308228</td>\n      <td>206681.993126</td>\n      <td>6681.993126</td>\n      <td>276.634888</td>\n      <td>213893.341343</td>\n      <td>7211.348218</td>\n      <td>265.390015</td>\n      <td>205198.836146</td>\n      <td>-8694.505198</td>\n      <td>5198.836146</td>\n      <td>0.025994</td>\n      <td>SENTIMENT</td>\n    </tr>\n    <tr>\n      <th>AAPL</th>\n      <td>Apple Inc.</td>\n      <td>200000.0</td>\n      <td>NaN</td>\n      <td>NaN</td>\n      <td>175.608643</td>\n      <td>1138.896110</td>\n      <td>173.701157</td>\n      <td>197827.571657</td>\n      <td>-2172.428343</td>\n      <td>172.652542</td>\n      <td>196633.308679</td>\n      <td>-1194.262978</td>\n      <td>189.690002</td>\n      <td>216037.205979</td>\n      <td>19403.897299</td>\n      <td>16037.205979</td>\n      <td>0.080186</td>\n      <td>SENTIMENT</td>\n    </tr>\n    <tr>\n      <th>CAT</th>\n      <td>Caterpillar Inc.</td>\n      <td>200000.0</td>\n      <td>NaN</td>\n      <td>NaN</td>\n      <td>271.347900</td>\n      <td>737.061167</td>\n      <td>270.631592</td>\n      <td>199472.036752</td>\n      <td>-527.963248</td>\n      <td>249.199997</td>\n      <td>183675.640452</td>\n      <td>-15796.396300</td>\n      <td>253.070007</td>\n      <td>186528.074815</td>\n      <td>2852.434362</td>\n      <td>-13471.925185</td>\n      <td>-0.067360</td>\n      <td>SENTIMENT</td>\n    </tr>\n  </tbody>\n</table>\n</div>"
     },
     "execution_count": 206,
     "metadata": {},
     "output_type": "execute_result"
    }
   ],
   "source": [
    "df_original_portfolio[\"PORTFOLIO\"] = \"ORIGINAL\"\n",
    "df_sentiment_portfolio[\"PORTFOLIO\"] = \"SENTIMENT\"\n",
    "df_combined_portfolio = pd.concat([df_original_portfolio, df_sentiment_portfolio])\n",
    "df_combined_portfolio"
   ],
   "metadata": {
    "collapsed": false,
    "ExecuteTime": {
     "end_time": "2023-11-27T06:49:36.365520900Z",
     "start_time": "2023-11-27T06:49:36.344212100Z"
    }
   },
   "id": "a805890103efa49d"
  },
  {
   "cell_type": "code",
   "execution_count": 207,
   "outputs": [
    {
     "data": {
      "text/plain": "           MONTH_1_RETURN  MONTH_2_RETURN  MONTH_3_RETURN  ACTUAL_RETURN  \\\nPORTFOLIO                                                                  \nORIGINAL    -26122.117636   -35977.490496    31361.471395  -30738.136737   \nSENTIMENT    -7116.477682   -47450.012298    60511.687509    5945.197529   \n\n           ACTUAL_RETURN_PCT  \nPORTFOLIO                     \nORIGINAL           -0.226379  \nSENTIMENT           0.029726  ",
      "text/html": "<div>\n<style scoped>\n    .dataframe tbody tr th:only-of-type {\n        vertical-align: middle;\n    }\n\n    .dataframe tbody tr th {\n        vertical-align: top;\n    }\n\n    .dataframe thead th {\n        text-align: right;\n    }\n</style>\n<table border=\"1\" class=\"dataframe\">\n  <thead>\n    <tr style=\"text-align: right;\">\n      <th></th>\n      <th>MONTH_1_RETURN</th>\n      <th>MONTH_2_RETURN</th>\n      <th>MONTH_3_RETURN</th>\n      <th>ACTUAL_RETURN</th>\n      <th>ACTUAL_RETURN_PCT</th>\n    </tr>\n    <tr>\n      <th>PORTFOLIO</th>\n      <th></th>\n      <th></th>\n      <th></th>\n      <th></th>\n      <th></th>\n    </tr>\n  </thead>\n  <tbody>\n    <tr>\n      <th>ORIGINAL</th>\n      <td>-26122.117636</td>\n      <td>-35977.490496</td>\n      <td>31361.471395</td>\n      <td>-30738.136737</td>\n      <td>-0.226379</td>\n    </tr>\n    <tr>\n      <th>SENTIMENT</th>\n      <td>-7116.477682</td>\n      <td>-47450.012298</td>\n      <td>60511.687509</td>\n      <td>5945.197529</td>\n      <td>0.029726</td>\n    </tr>\n  </tbody>\n</table>\n</div>"
     },
     "execution_count": 207,
     "metadata": {},
     "output_type": "execute_result"
    }
   ],
   "source": [
    "df_combined_portfolio.groupby('PORTFOLIO').sum()[['MONTH_1_RETURN','MONTH_2_RETURN','MONTH_3_RETURN','ACTUAL_RETURN', 'ACTUAL_RETURN_PCT']]"
   ],
   "metadata": {
    "collapsed": false,
    "ExecuteTime": {
     "end_time": "2023-11-27T06:49:36.374243Z",
     "start_time": "2023-11-27T06:49:36.362511400Z"
    }
   },
   "id": "43552ff14c8233bd"
  },
  {
   "cell_type": "code",
   "execution_count": 208,
   "outputs": [
    {
     "data": {
      "text/plain": "<Figure size 1000x600 with 1 Axes>",
      "image/png": "[encoded data removed]"
     },
     "metadata": {},
     "output_type": "display_data"
    }
   ],
   "source": [
    "# Plotting\n",
    "plt.figure(figsize=(10, 6))\n",
    "plt.plot(df_returns['End Date'], df_returns['Your Portfolio Return'], label='Your Portfolio')\n",
    "plt.plot(df_returns['End Date'], df_returns['Sentiment Portfolio Return'], label='Sentiment Portfolio')\n",
    "plt.xlabel('End Date')\n",
    "plt.ylabel('Return')\n",
    "plt.title('Month-by-Month Portfolio Returns Comparison')\n",
    "plt.legend()\n",
    "plt.show()"
   ],
   "metadata": {
    "collapsed": false,
    "ExecuteTime": {
     "end_time": "2023-11-27T06:49:36.524280700Z",
     "start_time": "2023-11-27T06:49:36.375240100Z"
    }
   },
   "id": "c5840a13309e3706"
  },
  {
   "cell_type": "code",
   "execution_count": 212,
   "outputs": [
    {
     "data": {
      "application/vnd.plotly.v1+json": {
       "data": [
        {
         "name": "Sentiment Portfolio",
         "x": [
          "2023-08-21T00:00:00",
          "2023-08-22T00:00:00",
          "2023-08-23T00:00:00",
          "2023-08-24T00:00:00",
          "2023-08-25T00:00:00",
          "2023-08-26T00:00:00",
          "2023-08-27T00:00:00",
          "2023-08-28T00:00:00",
          "2023-08-29T00:00:00",
          "2023-08-30T00:00:00",
          "2023-08-31T00:00:00",
          "2023-09-01T00:00:00",
          "2023-09-02T00:00:00",
          "2023-09-03T00:00:00",
          "2023-09-04T00:00:00",
          "2023-09-05T00:00:00",
          "2023-09-06T00:00:00",
          "2023-09-07T00:00:00",
          "2023-09-08T00:00:00",
          "2023-09-09T00:00:00",
          "2023-09-10T00:00:00",
          "2023-09-11T00:00:00",
          "2023-09-12T00:00:00",
          "2023-09-13T00:00:00",
          "2023-09-14T00:00:00",
          "2023-09-15T00:00:00",
          "2023-09-16T00:00:00",
          "2023-09-17T00:00:00",
          "2023-09-18T00:00:00",
          "2023-09-19T00:00:00",
          "2023-09-20T00:00:00",
          "2023-09-21T00:00:00",
          "2023-09-22T00:00:00",
          "2023-09-23T00:00:00",
          "2023-09-24T00:00:00",
          "2023-09-25T00:00:00",
          "2023-09-26T00:00:00",
          "2023-09-27T00:00:00",
          "2023-09-28T00:00:00",
          "2023-09-29T00:00:00",
          "2023-09-30T00:00:00",
          "2023-10-01T00:00:00",
          "2023-10-02T00:00:00",
          "2023-10-03T00:00:00",
          "2023-10-04T00:00:00",
          "2023-10-05T00:00:00",
          "2023-10-06T00:00:00",
          "2023-10-07T00:00:00",
          "2023-10-08T00:00:00",
          "2023-10-09T00:00:00",
          "2023-10-10T00:00:00",
          "2023-10-11T00:00:00",
          "2023-10-12T00:00:00",
          "2023-10-13T00:00:00",
          "2023-10-14T00:00:00",
          "2023-10-15T00:00:00",
          "2023-10-16T00:00:00",
          "2023-10-17T00:00:00",
          "2023-10-18T00:00:00",
          "2023-10-19T00:00:00",
          "2023-10-20T00:00:00",
          "2023-10-21T00:00:00",
          "2023-10-22T00:00:00",
          "2023-10-23T00:00:00",
          "2023-10-24T00:00:00",
          "2023-10-25T00:00:00",
          "2023-10-26T00:00:00",
          "2023-10-27T00:00:00",
          "2023-10-28T00:00:00",
          "2023-10-29T00:00:00",
          "2023-10-30T00:00:00",
          "2023-10-31T00:00:00",
          "2023-11-01T00:00:00",
          "2023-11-02T00:00:00",
          "2023-11-03T00:00:00",
          "2023-11-04T00:00:00",
          "2023-11-05T00:00:00",
          "2023-11-06T00:00:00",
          "2023-11-07T00:00:00",
          "2023-11-08T00:00:00",
          "2023-11-09T00:00:00",
          "2023-11-10T00:00:00",
          "2023-11-11T00:00:00",
          "2023-11-12T00:00:00",
          "2023-11-13T00:00:00",
          "2023-11-14T00:00:00",
          "2023-11-15T00:00:00",
          "2023-11-16T00:00:00",
          "2023-11-17T00:00:00",
          "2023-11-18T00:00:00",
          "2023-11-19T00:00:00",
          "2023-11-20T00:00:00"
         ],
         "y": [
          1000000.0,
          993739.4808228354,
          1002785.7857682152,
          989721.6914585565,
          996030.7092923983,
          996030.7092923983,
          996030.7092923983,
          1011099.3786448898,
          1026011.2725433151,
          1028017.2500461339,
          1027972.281000627,
          1036409.8761879806,
          1036409.8761879806,
          1036409.8761879806,
          1036409.8761879806,
          1031494.5419538426,
          1017412.8806505015,
          1012013.7409652312,
          1018601.4912271915,
          1018601.4912271915,
          1018601.4912271915,
          1025355.9751368758,
          1019978.8919088522,
          999395.737956088,
          1015737.0915203835,
          1011102.6247976194,
          1011102.6247976194,
          1011102.6247976194,
          1012483.9465480288,
          1011712.4387404422,
          1007212.7294235836,
          992883.5223179597,
          990371.4220750964,
          990371.4220750964,
          990371.4220750964,
          987731.1947877342,
          976776.5587323513,
          974965.939782437,
          979268.6871210855,
          975336.9997028722,
          975336.9997028722,
          975336.9997028722,
          968912.7998164546,
          952904.2951163017,
          955258.4694379771,
          954242.3203340294,
          966785.6791207783,
          966785.6791207783,
          966785.6791207783,
          976157.6228541499,
          982493.0524429079,
          993512.5521756534,
          990241.694744164,
          985270.1929883204,
          985270.1929883204,
          985270.1929883204,
          993995.0359673537,
          994913.1721324234,
          975025.7350138805,
          962579.7021824552,
          945433.5100194761,
          945433.5100194761,
          945433.5100194761,
          941627.3687566838,
          955020.6184913471,
          943327.932908764,
          933093.1113887057,
          920696.2663810998,
          920696.2663810998,
          920696.2663810998,
          933426.1575275614,
          922680.5792469628,
          934261.5914629273,
          957161.5833801421,
          965334.7014431912,
          965334.7014431912,
          965334.7014431912,
          968328.6911592613,
          966719.9754510587,
          967876.5979786004,
          957729.8539764733,
          973863.7760089267,
          973863.7760089267,
          973863.7760089267,
          972740.7797144444,
          990669.8445978625,
          1002884.7079276645,
          1001553.459825317,
          1005945.1975287918,
          1005945.1975287918,
          1005945.1975287918,
          1005945.1975287918
         ],
         "type": "scatter"
        },
        {
         "name": "Your Portfolio",
         "x": [
          "2023-08-21T00:00:00",
          "2023-08-22T00:00:00",
          "2023-08-23T00:00:00",
          "2023-08-24T00:00:00",
          "2023-08-25T00:00:00",
          "2023-08-26T00:00:00",
          "2023-08-27T00:00:00",
          "2023-08-28T00:00:00",
          "2023-08-29T00:00:00",
          "2023-08-30T00:00:00",
          "2023-08-31T00:00:00",
          "2023-09-01T00:00:00",
          "2023-09-02T00:00:00",
          "2023-09-03T00:00:00",
          "2023-09-04T00:00:00",
          "2023-09-05T00:00:00",
          "2023-09-06T00:00:00",
          "2023-09-07T00:00:00",
          "2023-09-08T00:00:00",
          "2023-09-09T00:00:00",
          "2023-09-10T00:00:00",
          "2023-09-11T00:00:00",
          "2023-09-12T00:00:00",
          "2023-09-13T00:00:00",
          "2023-09-14T00:00:00",
          "2023-09-15T00:00:00",
          "2023-09-16T00:00:00",
          "2023-09-17T00:00:00",
          "2023-09-18T00:00:00",
          "2023-09-19T00:00:00",
          "2023-09-20T00:00:00",
          "2023-09-21T00:00:00",
          "2023-09-22T00:00:00",
          "2023-09-23T00:00:00",
          "2023-09-24T00:00:00",
          "2023-09-25T00:00:00",
          "2023-09-26T00:00:00",
          "2023-09-27T00:00:00",
          "2023-09-28T00:00:00",
          "2023-09-29T00:00:00",
          "2023-09-30T00:00:00",
          "2023-10-01T00:00:00",
          "2023-10-02T00:00:00",
          "2023-10-03T00:00:00",
          "2023-10-04T00:00:00",
          "2023-10-05T00:00:00",
          "2023-10-06T00:00:00",
          "2023-10-07T00:00:00",
          "2023-10-08T00:00:00",
          "2023-10-09T00:00:00",
          "2023-10-10T00:00:00",
          "2023-10-11T00:00:00",
          "2023-10-12T00:00:00",
          "2023-10-13T00:00:00",
          "2023-10-14T00:00:00",
          "2023-10-15T00:00:00",
          "2023-10-16T00:00:00",
          "2023-10-17T00:00:00",
          "2023-10-18T00:00:00",
          "2023-10-19T00:00:00",
          "2023-10-20T00:00:00",
          "2023-10-21T00:00:00",
          "2023-10-22T00:00:00",
          "2023-10-23T00:00:00",
          "2023-10-24T00:00:00",
          "2023-10-25T00:00:00",
          "2023-10-26T00:00:00",
          "2023-10-27T00:00:00",
          "2023-10-28T00:00:00",
          "2023-10-29T00:00:00",
          "2023-10-30T00:00:00",
          "2023-10-31T00:00:00",
          "2023-11-01T00:00:00",
          "2023-11-02T00:00:00",
          "2023-11-03T00:00:00",
          "2023-11-04T00:00:00",
          "2023-11-05T00:00:00",
          "2023-11-06T00:00:00",
          "2023-11-07T00:00:00",
          "2023-11-08T00:00:00",
          "2023-11-09T00:00:00",
          "2023-11-10T00:00:00",
          "2023-11-11T00:00:00",
          "2023-11-12T00:00:00",
          "2023-11-13T00:00:00",
          "2023-11-14T00:00:00",
          "2023-11-15T00:00:00",
          "2023-11-16T00:00:00",
          "2023-11-17T00:00:00",
          "2023-11-18T00:00:00",
          "2023-11-19T00:00:00",
          "2023-11-20T00:00:00"
         ],
         "y": [
          1000000.0,
          991768.0502626144,
          1002501.6146709556,
          984736.6400112372,
          997863.7967466286,
          997863.7967466286,
          997863.7967466286,
          1002749.8719292417,
          1004720.9243804829,
          1010705.3758251108,
          1013236.1572192204,
          1015761.7259712287,
          1015761.7259712287,
          1015761.7259712287,
          1015761.7259712287,
          1007286.34099152,
          1006607.5227617102,
          1007824.3503101736,
          1010427.2971785334,
          1010427.2971785334,
          1010427.2971785334,
          1008817.3134911142,
          1005040.6934921439,
          997136.2086329912,
          1002231.7006975467,
          991886.5461197256,
          991886.5461197256,
          991886.5461197256,
          992897.7883783826,
          992216.0910451971,
          987289.6279985674,
          973877.8823641652,
          969773.8370312755,
          969773.8370312755,
          969773.8370312755,
          969704.239613358,
          958860.3183526157,
          957518.7518319793,
          954645.9467828567,
          951113.3099020433,
          951113.3099020433,
          951113.3099020433,
          945558.3034484073,
          937640.0051816324,
          936751.7629038849,
          931219.558046785,
          941104.8655375495,
          941104.8655375495,
          941104.8655375495,
          946108.0004675337,
          950980.5189802952,
          946182.7460339413,
          938712.6796157012,
          936615.3487534979,
          936615.3487534979,
          936615.3487534979,
          945576.7905534733,
          952137.779364028,
          942180.4288083825,
          943578.9080425072,
          937900.3918684057,
          937900.3918684057,
          937900.3918684057,
          929932.6744942421,
          934843.4325340646,
          923484.4479416896,
          924564.1647789434,
          908876.17141808,
          908876.17141808,
          908876.17141808,
          918913.3186782894,
          924937.2970670428,
          929519.4573118393,
          943922.9980431125,
          943741.4842219229,
          943741.4842219229,
          943741.4842219229,
          944243.1780509383,
          947223.5603111037,
          945524.0538489447,
          938844.2702437398,
          945558.0931340617,
          945558.0931340617,
          945558.0931340617,
          956800.9872761017,
          968201.2070959796,
          965831.8445134076,
          966172.5911323124,
          969261.8632631972,
          969261.8632631972,
          969261.8632631972,
          969261.8632631972
         ],
         "type": "scatter"
        }
       ],
       "layout": {
        "template": {
         "data": {
          "histogram2dcontour": [
           {
            "type": "histogram2dcontour",
            "colorbar": {
             "outlinewidth": 0,
             "ticks": ""
            },
            "colorscale": [
             [
              0.0,
              "#0d0887"
             ],
             [
              0.1111111111111111,
              "#46039f"
             ],
             [
              0.2222222222222222,
              "#7201a8"
             ],
             [
              0.3333333333333333,
              "#9c179e"
             ],
             [
              0.4444444444444444,
              "#bd3786"
             ],
             [
              0.5555555555555556,
              "#d8576b"
             ],
             [
              0.6666666666666666,
              "#ed7953"
             ],
             [
              0.7777777777777778,
              "#fb9f3a"
             ],
             [
              0.8888888888888888,
              "#fdca26"
             ],
             [
              1.0,
              "#f0f921"
             ]
            ]
           }
          ],
          "choropleth": [
           {
            "type": "choropleth",
            "colorbar": {
             "outlinewidth": 0,
             "ticks": ""
            }
           }
          ],
          "histogram2d": [
           {
            "type": "histogram2d",
            "colorbar": {
             "outlinewidth": 0,
             "ticks": ""
            },
            "colorscale": [
             [
              0.0,
              "#0d0887"
             ],
             [
              0.1111111111111111,
              "#46039f"
             ],
             [
              0.2222222222222222,
              "#7201a8"
             ],
             [
              0.3333333333333333,
              "#9c179e"
             ],
             [
              0.4444444444444444,
              "#bd3786"
             ],
             [
              0.5555555555555556,
              "#d8576b"
             ],
             [
              0.6666666666666666,
              "#ed7953"
             ],
             [
              0.7777777777777778,
              "#fb9f3a"
             ],
             [
              0.8888888888888888,
              "#fdca26"
             ],
             [
              1.0,
              "#f0f921"
             ]
            ]
           }
          ],
          "heatmap": [
           {
            "type": "heatmap",
            "colorbar": {
             "outlinewidth": 0,
             "ticks": ""
            },
            "colorscale": [
             [
              0.0,
              "#0d0887"
             ],
             [
              0.1111111111111111,
              "#46039f"
             ],
             [
              0.2222222222222222,
              "#7201a8"
             ],
             [
              0.3333333333333333,
              "#9c179e"
             ],
             [
              0.4444444444444444,
              "#bd3786"
             ],
             [
              0.5555555555555556,
              "#d8576b"
             ],
             [
              0.6666666666666666,
              "#ed7953"
             ],
             [
              0.7777777777777778,
              "#fb9f3a"
             ],
             [
              0.8888888888888888,
              "#fdca26"
             ],
             [
              1.0,
              "#f0f921"
             ]
            ]
           }
          ],
          "heatmapgl": [
           {
            "type": "heatmapgl",
            "colorbar": {
             "outlinewidth": 0,
             "ticks": ""
            },
            "colorscale": [
             [
              0.0,
              "#0d0887"
             ],
             [
              0.1111111111111111,
              "#46039f"
             ],
             [
              0.2222222222222222,
              "#7201a8"
             ],
             [
              0.3333333333333333,
              "#9c179e"
             ],
             [
              0.4444444444444444,
              "#bd3786"
             ],
             [
              0.5555555555555556,
              "#d8576b"
             ],
             [
              0.6666666666666666,
              "#ed7953"
             ],
             [
              0.7777777777777778,
              "#fb9f3a"
             ],
             [
              0.8888888888888888,
              "#fdca26"
             ],
             [
              1.0,
              "#f0f921"
             ]
            ]
           }
          ],
          "contourcarpet": [
           {
            "type": "contourcarpet",
            "colorbar": {
             "outlinewidth": 0,
             "ticks": ""
            }
           }
          ],
          "contour": [
           {
            "type": "contour",
            "colorbar": {
             "outlinewidth": 0,
             "ticks": ""
            },
            "colorscale": [
             [
              0.0,
              "#0d0887"
             ],
             [
              0.1111111111111111,
              "#46039f"
             ],
             [
              0.2222222222222222,
              "#7201a8"
             ],
             [
              0.3333333333333333,
              "#9c179e"
             ],
             [
              0.4444444444444444,
              "#bd3786"
             ],
             [
              0.5555555555555556,
              "#d8576b"
             ],
             [
              0.6666666666666666,
              "#ed7953"
             ],
             [
              0.7777777777777778,
              "#fb9f3a"
             ],
             [
              0.8888888888888888,
              "#fdca26"
             ],
             [
              1.0,
              "#f0f921"
             ]
            ]
           }
          ],
          "surface": [
           {
            "type": "surface",
            "colorbar": {
             "outlinewidth": 0,
             "ticks": ""
            },
            "colorscale": [
             [
              0.0,
              "#0d0887"
             ],
             [
              0.1111111111111111,
              "#46039f"
             ],
             [
              0.2222222222222222,
              "#7201a8"
             ],
             [
              0.3333333333333333,
              "#9c179e"
             ],
             [
              0.4444444444444444,
              "#bd3786"
             ],
             [
              0.5555555555555556,
              "#d8576b"
             ],
             [
              0.6666666666666666,
              "#ed7953"
             ],
             [
              0.7777777777777778,
              "#fb9f3a"
             ],
             [
              0.8888888888888888,
              "#fdca26"
             ],
             [
              1.0,
              "#f0f921"
             ]
            ]
           }
          ],
          "mesh3d": [
           {
            "type": "mesh3d",
            "colorbar": {
             "outlinewidth": 0,
             "ticks": ""
            }
           }
          ],
          "scatter": [
           {
            "fillpattern": {
             "fillmode": "overlay",
             "size": 10,
             "solidity": 0.2
            },
            "type": "scatter"
           }
          ],
          "parcoords": [
           {
            "type": "parcoords",
            "line": {
             "colorbar": {
              "outlinewidth": 0,
              "ticks": ""
             }
            }
           }
          ],
          "scatterpolargl": [
           {
            "type": "scatterpolargl",
            "marker": {
             "colorbar": {
              "outlinewidth": 0,
              "ticks": ""
             }
            }
           }
          ],
          "bar": [
           {
            "error_x": {
             "color": "#2a3f5f"
            },
            "error_y": {
             "color": "#2a3f5f"
            },
            "marker": {
             "line": {
              "color": "#E5ECF6",
              "width": 0.5
             },
             "pattern": {
              "fillmode": "overlay",
              "size": 10,
              "solidity": 0.2
             }
            },
            "type": "bar"
           }
          ],
          "scattergeo": [
           {
            "type": "scattergeo",
            "marker": {
             "colorbar": {
              "outlinewidth": 0,
              "ticks": ""
             }
            }
           }
          ],
          "scatterpolar": [
           {
            "type": "scatterpolar",
            "marker": {
             "colorbar": {
              "outlinewidth": 0,
              "ticks": ""
             }
            }
           }
          ],
          "histogram": [
           {
            "marker": {
             "pattern": {
              "fillmode": "overlay",
              "size": 10,
              "solidity": 0.2
             }
            },
            "type": "histogram"
           }
          ],
          "scattergl": [
           {
            "type": "scattergl",
            "marker": {
             "colorbar": {
              "outlinewidth": 0,
              "ticks": ""
             }
            }
           }
          ],
          "scatter3d": [
           {
            "type": "scatter3d",
            "line": {
             "colorbar": {
              "outlinewidth": 0,
              "ticks": ""
             }
            },
            "marker": {
             "colorbar": {
              "outlinewidth": 0,
              "ticks": ""
             }
            }
           }
          ],
          "scattermapbox": [
           {
            "type": "scattermapbox",
            "marker": {
             "colorbar": {
              "outlinewidth": 0,
              "ticks": ""
             }
            }
           }
          ],
          "scatterternary": [
           {
            "type": "scatterternary",
            "marker": {
             "colorbar": {
              "outlinewidth": 0,
              "ticks": ""
             }
            }
           }
          ],
          "scattercarpet": [
           {
            "type": "scattercarpet",
            "marker": {
             "colorbar": {
              "outlinewidth": 0,
              "ticks": ""
             }
            }
           }
          ],
          "carpet": [
           {
            "aaxis": {
             "endlinecolor": "#2a3f5f",
             "gridcolor": "white",
             "linecolor": "white",
             "minorgridcolor": "white",
             "startlinecolor": "#2a3f5f"
            },
            "baxis": {
             "endlinecolor": "#2a3f5f",
             "gridcolor": "white",
             "linecolor": "white",
             "minorgridcolor": "white",
             "startlinecolor": "#2a3f5f"
            },
            "type": "carpet"
           }
          ],
          "table": [
           {
            "cells": {
             "fill": {
              "color": "#EBF0F8"
             },
             "line": {
              "color": "white"
             }
            },
            "header": {
             "fill": {
              "color": "#C8D4E3"
             },
             "line": {
              "color": "white"
             }
            },
            "type": "table"
           }
          ],
          "barpolar": [
           {
            "marker": {
             "line": {
              "color": "#E5ECF6",
              "width": 0.5
             },
             "pattern": {
              "fillmode": "overlay",
              "size": 10,
              "solidity": 0.2
             }
            },
            "type": "barpolar"
           }
          ],
          "pie": [
           {
            "automargin": true,
            "type": "pie"
           }
          ]
         },
         "layout": {
          "autotypenumbers": "strict",
          "colorway": [
           "#636efa",
           "#EF553B",
           "#00cc96",
           "#ab63fa",
           "#FFA15A",
           "#19d3f3",
           "#FF6692",
           "#B6E880",
           "#FF97FF",
           "#FECB52"
          ],
          "font": {
           "color": "#2a3f5f"
          },
          "hovermode": "closest",
          "hoverlabel": {
           "align": "left"
          },
          "paper_bgcolor": "white",
          "plot_bgcolor": "#E5ECF6",
          "polar": {
           "bgcolor": "#E5ECF6",
           "angularaxis": {
            "gridcolor": "white",
            "linecolor": "white",
            "ticks": ""
           },
           "radialaxis": {
            "gridcolor": "white",
            "linecolor": "white",
            "ticks": ""
           }
          },
          "ternary": {
           "bgcolor": "#E5ECF6",
           "aaxis": {
            "gridcolor": "white",
            "linecolor": "white",
            "ticks": ""
           },
           "baxis": {
            "gridcolor": "white",
            "linecolor": "white",
            "ticks": ""
           },
           "caxis": {
            "gridcolor": "white",
            "linecolor": "white",
            "ticks": ""
           }
          },
          "coloraxis": {
           "colorbar": {
            "outlinewidth": 0,
            "ticks": ""
           }
          },
          "colorscale": {
           "sequential": [
            [
             0.0,
             "#0d0887"
            ],
            [
             0.1111111111111111,
             "#46039f"
            ],
            [
             0.2222222222222222,
             "#7201a8"
            ],
            [
             0.3333333333333333,
             "#9c179e"
            ],
            [
             0.4444444444444444,
             "#bd3786"
            ],
            [
             0.5555555555555556,
             "#d8576b"
            ],
            [
             0.6666666666666666,
             "#ed7953"
            ],
            [
             0.7777777777777778,
             "#fb9f3a"
            ],
            [
             0.8888888888888888,
             "#fdca26"
            ],
            [
             1.0,
             "#f0f921"
            ]
           ],
           "sequentialminus": [
            [
             0.0,
             "#0d0887"
            ],
            [
             0.1111111111111111,
             "#46039f"
            ],
            [
             0.2222222222222222,
             "#7201a8"
            ],
            [
             0.3333333333333333,
             "#9c179e"
            ],
            [
             0.4444444444444444,
             "#bd3786"
            ],
            [
             0.5555555555555556,
             "#d8576b"
            ],
            [
             0.6666666666666666,
             "#ed7953"
            ],
            [
             0.7777777777777778,
             "#fb9f3a"
            ],
            [
             0.8888888888888888,
             "#fdca26"
            ],
            [
             1.0,
             "#f0f921"
            ]
           ],
           "diverging": [
            [
             0,
             "#8e0152"
            ],
            [
             0.1,
             "#c51b7d"
            ],
            [
             0.2,
             "#de77ae"
            ],
            [
             0.3,
             "#f1b6da"
            ],
            [
             0.4,
             "#fde0ef"
            ],
            [
             0.5,
             "#f7f7f7"
            ],
            [
             0.6,
             "#e6f5d0"
            ],
            [
             0.7,
             "#b8e186"
            ],
            [
             0.8,
             "#7fbc41"
            ],
            [
             0.9,
             "#4d9221"
            ],
            [
             1,
             "#276419"
            ]
           ]
          },
          "xaxis": {
           "gridcolor": "white",
           "linecolor": "white",
           "ticks": "",
           "title": {
            "standoff": 15
           },
           "zerolinecolor": "white",
           "automargin": true,
           "zerolinewidth": 2
          },
          "yaxis": {
           "gridcolor": "white",
           "linecolor": "white",
           "ticks": "",
           "title": {
            "standoff": 15
           },
           "zerolinecolor": "white",
           "automargin": true,
           "zerolinewidth": 2
          },
          "scene": {
           "xaxis": {
            "backgroundcolor": "#E5ECF6",
            "gridcolor": "white",
            "linecolor": "white",
            "showbackground": true,
            "ticks": "",
            "zerolinecolor": "white",
            "gridwidth": 2
           },
           "yaxis": {
            "backgroundcolor": "#E5ECF6",
            "gridcolor": "white",
            "linecolor": "white",
            "showbackground": true,
            "ticks": "",
            "zerolinecolor": "white",
            "gridwidth": 2
           },
           "zaxis": {
            "backgroundcolor": "#E5ECF6",
            "gridcolor": "white",
            "linecolor": "white",
            "showbackground": true,
            "ticks": "",
            "zerolinecolor": "white",
            "gridwidth": 2
           }
          },
          "shapedefaults": {
           "line": {
            "color": "#2a3f5f"
           }
          },
          "annotationdefaults": {
           "arrowcolor": "#2a3f5f",
           "arrowhead": 0,
           "arrowwidth": 1
          },
          "geo": {
           "bgcolor": "white",
           "landcolor": "#E5ECF6",
           "subunitcolor": "white",
           "showland": true,
           "showlakes": true,
           "lakecolor": "white"
          },
          "title": {
           "x": 0.05
          },
          "mapbox": {
           "style": "light"
          }
         }
        },
        "xaxis": {
         "title": {
          "text": "Date"
         }
        },
        "yaxis": {
         "title": {
          "text": "Portfolio Value"
         }
        }
       },
       "config": {
        "plotlyServerURL": "https://plot.ly"
       }
      },
      "text/html": "<div>                            <div id=\"e735ff5d-4dc4-4d6b-9dcd-93f391e93d55\" class=\"plotly-graph-div\" style=\"height:525px; width:100%;\"></div>            <script type=\"text/javascript\">                require([\"plotly\"], function(Plotly) {                    window.PLOTLYENV=window.PLOTLYENV || {};                                    if (document.getElementById(\"e735ff5d-4dc4-4d6b-9dcd-93f391e93d55\")) {                    Plotly.newPlot(                        \"e735ff5d-4dc4-4d6b-9dcd-93f391e93d55\",                        [{\"name\":\"Sentiment Portfolio\",\"x\":[\"2023-08-21T00:00:00\",\"2023-08-22T00:00:00\",\"2023-08-23T00:00:00\",\"2023-08-24T00:00:00\",\"2023-08-25T00:00:00\",\"2023-08-26T00:00:00\",\"2023-08-27T00:00:00\",\"2023-08-28T00:00:00\",\"2023-08-29T00:00:00\",\"2023-08-30T00:00:00\",\"2023-08-31T00:00:00\",\"2023-09-01T00:00:00\",\"2023-09-02T00:00:00\",\"2023-09-03T00:00:00\",\"2023-09-04T00:00:00\",\"2023-09-05T00:00:00\",\"2023-09-06T00:00:00\",\"2023-09-07T00:00:00\",\"2023-09-08T00:00:00\",\"2023-09-09T00:00:00\",\"2023-09-10T00:00:00\",\"2023-09-11T00:00:00\",\"2023-09-12T00:00:00\",\"2023-09-13T00:00:00\",\"2023-09-14T00:00:00\",\"2023-09-15T00:00:00\",\"2023-09-16T00:00:00\",\"2023-09-17T00:00:00\",\"2023-09-18T00:00:00\",\"2023-09-19T00:00:00\",\"2023-09-20T00:00:00\",\"2023-09-21T00:00:00\",\"2023-09-22T00:00:00\",\"2023-09-23T00:00:00\",\"2023-09-24T00:00:00\",\"2023-09-25T00:00:00\",\"2023-09-26T00:00:00\",\"2023-09-27T00:00:00\",\"2023-09-28T00:00:00\",\"2023-09-29T00:00:00\",\"2023-09-30T00:00:00\",\"2023-10-01T00:00:00\",\"2023-10-02T00:00:00\",\"2023-10-03T00:00:00\",\"2023-10-04T00:00:00\",\"2023-10-05T00:00:00\",\"2023-10-06T00:00:00\",\"2023-10-07T00:00:00\",\"2023-10-08T00:00:00\",\"2023-10-09T00:00:00\",\"2023-10-10T00:00:00\",\"2023-10-11T00:00:00\",\"2023-10-12T00:00:00\",\"2023-10-13T00:00:00\",\"2023-10-14T00:00:00\",\"2023-10-15T00:00:00\",\"2023-10-16T00:00:00\",\"2023-10-17T00:00:00\",\"2023-10-18T00:00:00\",\"2023-10-19T00:00:00\",\"2023-10-20T00:00:00\",\"2023-10-21T00:00:00\",\"2023-10-22T00:00:00\",\"2023-10-23T00:00:00\",\"2023-10-24T00:00:00\",\"2023-10-25T00:00:00\",\"2023-10-26T00:00:00\",\"2023-10-27T00:00:00\",\"2023-10-28T00:00:00\",\"2023-10-29T00:00:00\",\"2023-10-30T00:00:00\",\"2023-10-31T00:00:00\",\"2023-11-01T00:00:00\",\"2023-11-02T00:00:00\",\"2023-11-03T00:00:00\",\"2023-11-04T00:00:00\",\"2023-11-05T00:00:00\",\"2023-11-06T00:00:00\",\"2023-11-07T00:00:00\",\"2023-11-08T00:00:00\",\"2023-11-09T00:00:00\",\"2023-11-10T00:00:00\",\"2023-11-11T00:00:00\",\"2023-11-12T00:00:00\",\"2023-11-13T00:00:00\",\"2023-11-14T00:00:00\",\"2023-11-15T00:00:00\",\"2023-11-16T00:00:00\",\"2023-11-17T00:00:00\",\"2023-11-18T00:00:00\",\"2023-11-19T00:00:00\",\"2023-11-20T00:00:00\"],\"y\":[1000000.0,993739.4808228354,1002785.7857682152,989721.6914585565,996030.7092923983,996030.7092923983,996030.7092923983,1011099.3786448898,1026011.2725433151,1028017.2500461339,1027972.281000627,1036409.8761879806,1036409.8761879806,1036409.8761879806,1036409.8761879806,1031494.5419538426,1017412.8806505015,1012013.7409652312,1018601.4912271915,1018601.4912271915,1018601.4912271915,1025355.9751368758,1019978.8919088522,999395.737956088,1015737.0915203835,1011102.6247976194,1011102.6247976194,1011102.6247976194,1012483.9465480288,1011712.4387404422,1007212.7294235836,992883.5223179597,990371.4220750964,990371.4220750964,990371.4220750964,987731.1947877342,976776.5587323513,974965.939782437,979268.6871210855,975336.9997028722,975336.9997028722,975336.9997028722,968912.7998164546,952904.2951163017,955258.4694379771,954242.3203340294,966785.6791207783,966785.6791207783,966785.6791207783,976157.6228541499,982493.0524429079,993512.5521756534,990241.694744164,985270.1929883204,985270.1929883204,985270.1929883204,993995.0359673537,994913.1721324234,975025.7350138805,962579.7021824552,945433.5100194761,945433.5100194761,945433.5100194761,941627.3687566838,955020.6184913471,943327.932908764,933093.1113887057,920696.2663810998,920696.2663810998,920696.2663810998,933426.1575275614,922680.5792469628,934261.5914629273,957161.5833801421,965334.7014431912,965334.7014431912,965334.7014431912,968328.6911592613,966719.9754510587,967876.5979786004,957729.8539764733,973863.7760089267,973863.7760089267,973863.7760089267,972740.7797144444,990669.8445978625,1002884.7079276645,1001553.459825317,1005945.1975287918,1005945.1975287918,1005945.1975287918,1005945.1975287918],\"type\":\"scatter\"},{\"name\":\"Your Portfolio\",\"x\":[\"2023-08-21T00:00:00\",\"2023-08-22T00:00:00\",\"2023-08-23T00:00:00\",\"2023-08-24T00:00:00\",\"2023-08-25T00:00:00\",\"2023-08-26T00:00:00\",\"2023-08-27T00:00:00\",\"2023-08-28T00:00:00\",\"2023-08-29T00:00:00\",\"2023-08-30T00:00:00\",\"2023-08-31T00:00:00\",\"2023-09-01T00:00:00\",\"2023-09-02T00:00:00\",\"2023-09-03T00:00:00\",\"2023-09-04T00:00:00\",\"2023-09-05T00:00:00\",\"2023-09-06T00:00:00\",\"2023-09-07T00:00:00\",\"2023-09-08T00:00:00\",\"2023-09-09T00:00:00\",\"2023-09-10T00:00:00\",\"2023-09-11T00:00:00\",\"2023-09-12T00:00:00\",\"2023-09-13T00:00:00\",\"2023-09-14T00:00:00\",\"2023-09-15T00:00:00\",\"2023-09-16T00:00:00\",\"2023-09-17T00:00:00\",\"2023-09-18T00:00:00\",\"2023-09-19T00:00:00\",\"2023-09-20T00:00:00\",\"2023-09-21T00:00:00\",\"2023-09-22T00:00:00\",\"2023-09-23T00:00:00\",\"2023-09-24T00:00:00\",\"2023-09-25T00:00:00\",\"2023-09-26T00:00:00\",\"2023-09-27T00:00:00\",\"2023-09-28T00:00:00\",\"2023-09-29T00:00:00\",\"2023-09-30T00:00:00\",\"2023-10-01T00:00:00\",\"2023-10-02T00:00:00\",\"2023-10-03T00:00:00\",\"2023-10-04T00:00:00\",\"2023-10-05T00:00:00\",\"2023-10-06T00:00:00\",\"2023-10-07T00:00:00\",\"2023-10-08T00:00:00\",\"2023-10-09T00:00:00\",\"2023-10-10T00:00:00\",\"2023-10-11T00:00:00\",\"2023-10-12T00:00:00\",\"2023-10-13T00:00:00\",\"2023-10-14T00:00:00\",\"2023-10-15T00:00:00\",\"2023-10-16T00:00:00\",\"2023-10-17T00:00:00\",\"2023-10-18T00:00:00\",\"2023-10-19T00:00:00\",\"2023-10-20T00:00:00\",\"2023-10-21T00:00:00\",\"2023-10-22T00:00:00\",\"2023-10-23T00:00:00\",\"2023-10-24T00:00:00\",\"2023-10-25T00:00:00\",\"2023-10-26T00:00:00\",\"2023-10-27T00:00:00\",\"2023-10-28T00:00:00\",\"2023-10-29T00:00:00\",\"2023-10-30T00:00:00\",\"2023-10-31T00:00:00\",\"2023-11-01T00:00:00\",\"2023-11-02T00:00:00\",\"2023-11-03T00:00:00\",\"2023-11-04T00:00:00\",\"2023-11-05T00:00:00\",\"2023-11-06T00:00:00\",\"2023-11-07T00:00:00\",\"2023-11-08T00:00:00\",\"2023-11-09T00:00:00\",\"2023-11-10T00:00:00\",\"2023-11-11T00:00:00\",\"2023-11-12T00:00:00\",\"2023-11-13T00:00:00\",\"2023-11-14T00:00:00\",\"2023-11-15T00:00:00\",\"2023-11-16T00:00:00\",\"2023-11-17T00:00:00\",\"2023-11-18T00:00:00\",\"2023-11-19T00:00:00\",\"2023-11-20T00:00:00\"],\"y\":[1000000.0,991768.0502626144,1002501.6146709556,984736.6400112372,997863.7967466286,997863.7967466286,997863.7967466286,1002749.8719292417,1004720.9243804829,1010705.3758251108,1013236.1572192204,1015761.7259712287,1015761.7259712287,1015761.7259712287,1015761.7259712287,1007286.34099152,1006607.5227617102,1007824.3503101736,1010427.2971785334,1010427.2971785334,1010427.2971785334,1008817.3134911142,1005040.6934921439,997136.2086329912,1002231.7006975467,991886.5461197256,991886.5461197256,991886.5461197256,992897.7883783826,992216.0910451971,987289.6279985674,973877.8823641652,969773.8370312755,969773.8370312755,969773.8370312755,969704.239613358,958860.3183526157,957518.7518319793,954645.9467828567,951113.3099020433,951113.3099020433,951113.3099020433,945558.3034484073,937640.0051816324,936751.7629038849,931219.558046785,941104.8655375495,941104.8655375495,941104.8655375495,946108.0004675337,950980.5189802952,946182.7460339413,938712.6796157012,936615.3487534979,936615.3487534979,936615.3487534979,945576.7905534733,952137.779364028,942180.4288083825,943578.9080425072,937900.3918684057,937900.3918684057,937900.3918684057,929932.6744942421,934843.4325340646,923484.4479416896,924564.1647789434,908876.17141808,908876.17141808,908876.17141808,918913.3186782894,924937.2970670428,929519.4573118393,943922.9980431125,943741.4842219229,943741.4842219229,943741.4842219229,944243.1780509383,947223.5603111037,945524.0538489447,938844.2702437398,945558.0931340617,945558.0931340617,945558.0931340617,956800.9872761017,968201.2070959796,965831.8445134076,966172.5911323124,969261.8632631972,969261.8632631972,969261.8632631972,969261.8632631972],\"type\":\"scatter\"}],                        {\"template\":{\"data\":{\"histogram2dcontour\":[{\"type\":\"histogram2dcontour\",\"colorbar\":{\"outlinewidth\":0,\"ticks\":\"\"},\"colorscale\":[[0.0,\"#0d0887\"],[0.1111111111111111,\"#46039f\"],[0.2222222222222222,\"#7201a8\"],[0.3333333333333333,\"#9c179e\"],[0.4444444444444444,\"#bd3786\"],[0.5555555555555556,\"#d8576b\"],[0.6666666666666666,\"#ed7953\"],[0.7777777777777778,\"#fb9f3a\"],[0.8888888888888888,\"#fdca26\"],[1.0,\"#f0f921\"]]}],\"choropleth\":[{\"type\":\"choropleth\",\"colorbar\":{\"outlinewidth\":0,\"ticks\":\"\"}}],\"histogram2d\":[{\"type\":\"histogram2d\",\"colorbar\":{\"outlinewidth\":0,\"ticks\":\"\"},\"colorscale\":[[0.0,\"#0d0887\"],[0.1111111111111111,\"#46039f\"],[0.2222222222222222,\"#7201a8\"],[0.3333333333333333,\"#9c179e\"],[0.4444444444444444,\"#bd3786\"],[0.5555555555555556,\"#d8576b\"],[0.6666666666666666,\"#ed7953\"],[0.7777777777777778,\"#fb9f3a\"],[0.8888888888888888,\"#fdca26\"],[1.0,\"#f0f921\"]]}],\"heatmap\":[{\"type\":\"heatmap\",\"colorbar\":{\"outlinewidth\":0,\"ticks\":\"\"},\"colorscale\":[[0.0,\"#0d0887\"],[0.1111111111111111,\"#46039f\"],[0.2222222222222222,\"#7201a8\"],[0.3333333333333333,\"#9c179e\"],[0.4444444444444444,\"#bd3786\"],[0.5555555555555556,\"#d8576b\"],[0.6666666666666666,\"#ed7953\"],[0.7777777777777778,\"#fb9f3a\"],[0.8888888888888888,\"#fdca26\"],[1.0,\"#f0f921\"]]}],\"heatmapgl\":[{\"type\":\"heatmapgl\",\"colorbar\":{\"outlinewidth\":0,\"ticks\":\"\"},\"colorscale\":[[0.0,\"#0d0887\"],[0.1111111111111111,\"#46039f\"],[0.2222222222222222,\"#7201a8\"],[0.3333333333333333,\"#9c179e\"],[0.4444444444444444,\"#bd3786\"],[0.5555555555555556,\"#d8576b\"],[0.6666666666666666,\"#ed7953\"],[0.7777777777777778,\"#fb9f3a\"],[0.8888888888888888,\"#fdca26\"],[1.0,\"#f0f921\"]]}],\"contourcarpet\":[{\"type\":\"contourcarpet\",\"colorbar\":{\"outlinewidth\":0,\"ticks\":\"\"}}],\"contour\":[{\"type\":\"contour\",\"colorbar\":{\"outlinewidth\":0,\"ticks\":\"\"},\"colorscale\":[[0.0,\"#0d0887\"],[0.1111111111111111,\"#46039f\"],[0.2222222222222222,\"#7201a8\"],[0.3333333333333333,\"#9c179e\"],[0.4444444444444444,\"#bd3786\"],[0.5555555555555556,\"#d8576b\"],[0.6666666666666666,\"#ed7953\"],[0.7777777777777778,\"#fb9f3a\"],[0.8888888888888888,\"#fdca26\"],[1.0,\"#f0f921\"]]}],\"surface\":[{\"type\":\"surface\",\"colorbar\":{\"outlinewidth\":0,\"ticks\":\"\"},\"colorscale\":[[0.0,\"#0d0887\"],[0.1111111111111111,\"#46039f\"],[0.2222222222222222,\"#7201a8\"],[0.3333333333333333,\"#9c179e\"],[0.4444444444444444,\"#bd3786\"],[0.5555555555555556,\"#d8576b\"],[0.6666666666666666,\"#ed7953\"],[0.7777777777777778,\"#fb9f3a\"],[0.8888888888888888,\"#fdca26\"],[1.0,\"#f0f921\"]]}],\"mesh3d\":[{\"type\":\"mesh3d\",\"colorbar\":{\"outlinewidth\":0,\"ticks\":\"\"}}],\"scatter\":[{\"fillpattern\":{\"fillmode\":\"overlay\",\"size\":10,\"solidity\":0.2},\"type\":\"scatter\"}],\"parcoords\":[{\"type\":\"parcoords\",\"line\":{\"colorbar\":{\"outlinewidth\":0,\"ticks\":\"\"}}}],\"scatterpolargl\":[{\"type\":\"scatterpolargl\",\"marker\":{\"colorbar\":{\"outlinewidth\":0,\"ticks\":\"\"}}}],\"bar\":[{\"error_x\":{\"color\":\"#2a3f5f\"},\"error_y\":{\"color\":\"#2a3f5f\"},\"marker\":{\"line\":{\"color\":\"#E5ECF6\",\"width\":0.5},\"pattern\":{\"fillmode\":\"overlay\",\"size\":10,\"solidity\":0.2}},\"type\":\"bar\"}],\"scattergeo\":[{\"type\":\"scattergeo\",\"marker\":{\"colorbar\":{\"outlinewidth\":0,\"ticks\":\"\"}}}],\"scatterpolar\":[{\"type\":\"scatterpolar\",\"marker\":{\"colorbar\":{\"outlinewidth\":0,\"ticks\":\"\"}}}],\"histogram\":[{\"marker\":{\"pattern\":{\"fillmode\":\"overlay\",\"size\":10,\"solidity\":0.2}},\"type\":\"histogram\"}],\"scattergl\":[{\"type\":\"scattergl\",\"marker\":{\"colorbar\":{\"outlinewidth\":0,\"ticks\":\"\"}}}],\"scatter3d\":[{\"type\":\"scatter3d\",\"line\":{\"colorbar\":{\"outlinewidth\":0,\"ticks\":\"\"}},\"marker\":{\"colorbar\":{\"outlinewidth\":0,\"ticks\":\"\"}}}],\"scattermapbox\":[{\"type\":\"scattermapbox\",\"marker\":{\"colorbar\":{\"outlinewidth\":0,\"ticks\":\"\"}}}],\"scatterternary\":[{\"type\":\"scatterternary\",\"marker\":{\"colorbar\":{\"outlinewidth\":0,\"ticks\":\"\"}}}],\"scattercarpet\":[{\"type\":\"scattercarpet\",\"marker\":{\"colorbar\":{\"outlinewidth\":0,\"ticks\":\"\"}}}],\"carpet\":[{\"aaxis\":{\"endlinecolor\":\"#2a3f5f\",\"gridcolor\":\"white\",\"linecolor\":\"white\",\"minorgridcolor\":\"white\",\"startlinecolor\":\"#2a3f5f\"},\"baxis\":{\"endlinecolor\":\"#2a3f5f\",\"gridcolor\":\"white\",\"linecolor\":\"white\",\"minorgridcolor\":\"white\",\"startlinecolor\":\"#2a3f5f\"},\"type\":\"carpet\"}],\"table\":[{\"cells\":{\"fill\":{\"color\":\"#EBF0F8\"},\"line\":{\"color\":\"white\"}},\"header\":{\"fill\":{\"color\":\"#C8D4E3\"},\"line\":{\"color\":\"white\"}},\"type\":\"table\"}],\"barpolar\":[{\"marker\":{\"line\":{\"color\":\"#E5ECF6\",\"width\":0.5},\"pattern\":{\"fillmode\":\"overlay\",\"size\":10,\"solidity\":0.2}},\"type\":\"barpolar\"}],\"pie\":[{\"automargin\":true,\"type\":\"pie\"}]},\"layout\":{\"autotypenumbers\":\"strict\",\"colorway\":[\"#636efa\",\"#EF553B\",\"#00cc96\",\"#ab63fa\",\"#FFA15A\",\"#19d3f3\",\"#FF6692\",\"#B6E880\",\"#FF97FF\",\"#FECB52\"],\"font\":{\"color\":\"#2a3f5f\"},\"hovermode\":\"closest\",\"hoverlabel\":{\"align\":\"left\"},\"paper_bgcolor\":\"white\",\"plot_bgcolor\":\"#E5ECF6\",\"polar\":{\"bgcolor\":\"#E5ECF6\",\"angularaxis\":{\"gridcolor\":\"white\",\"linecolor\":\"white\",\"ticks\":\"\"},\"radialaxis\":{\"gridcolor\":\"white\",\"linecolor\":\"white\",\"ticks\":\"\"}},\"ternary\":{\"bgcolor\":\"#E5ECF6\",\"aaxis\":{\"gridcolor\":\"white\",\"linecolor\":\"white\",\"ticks\":\"\"},\"baxis\":{\"gridcolor\":\"white\",\"linecolor\":\"white\",\"ticks\":\"\"},\"caxis\":{\"gridcolor\":\"white\",\"linecolor\":\"white\",\"ticks\":\"\"}},\"coloraxis\":{\"colorbar\":{\"outlinewidth\":0,\"ticks\":\"\"}},\"colorscale\":{\"sequential\":[[0.0,\"#0d0887\"],[0.1111111111111111,\"#46039f\"],[0.2222222222222222,\"#7201a8\"],[0.3333333333333333,\"#9c179e\"],[0.4444444444444444,\"#bd3786\"],[0.5555555555555556,\"#d8576b\"],[0.6666666666666666,\"#ed7953\"],[0.7777777777777778,\"#fb9f3a\"],[0.8888888888888888,\"#fdca26\"],[1.0,\"#f0f921\"]],\"sequentialminus\":[[0.0,\"#0d0887\"],[0.1111111111111111,\"#46039f\"],[0.2222222222222222,\"#7201a8\"],[0.3333333333333333,\"#9c179e\"],[0.4444444444444444,\"#bd3786\"],[0.5555555555555556,\"#d8576b\"],[0.6666666666666666,\"#ed7953\"],[0.7777777777777778,\"#fb9f3a\"],[0.8888888888888888,\"#fdca26\"],[1.0,\"#f0f921\"]],\"diverging\":[[0,\"#8e0152\"],[0.1,\"#c51b7d\"],[0.2,\"#de77ae\"],[0.3,\"#f1b6da\"],[0.4,\"#fde0ef\"],[0.5,\"#f7f7f7\"],[0.6,\"#e6f5d0\"],[0.7,\"#b8e186\"],[0.8,\"#7fbc41\"],[0.9,\"#4d9221\"],[1,\"#276419\"]]},\"xaxis\":{\"gridcolor\":\"white\",\"linecolor\":\"white\",\"ticks\":\"\",\"title\":{\"standoff\":15},\"zerolinecolor\":\"white\",\"automargin\":true,\"zerolinewidth\":2},\"yaxis\":{\"gridcolor\":\"white\",\"linecolor\":\"white\",\"ticks\":\"\",\"title\":{\"standoff\":15},\"zerolinecolor\":\"white\",\"automargin\":true,\"zerolinewidth\":2},\"scene\":{\"xaxis\":{\"backgroundcolor\":\"#E5ECF6\",\"gridcolor\":\"white\",\"linecolor\":\"white\",\"showbackground\":true,\"ticks\":\"\",\"zerolinecolor\":\"white\",\"gridwidth\":2},\"yaxis\":{\"backgroundcolor\":\"#E5ECF6\",\"gridcolor\":\"white\",\"linecolor\":\"white\",\"showbackground\":true,\"ticks\":\"\",\"zerolinecolor\":\"white\",\"gridwidth\":2},\"zaxis\":{\"backgroundcolor\":\"#E5ECF6\",\"gridcolor\":\"white\",\"linecolor\":\"white\",\"showbackground\":true,\"ticks\":\"\",\"zerolinecolor\":\"white\",\"gridwidth\":2}},\"shapedefaults\":{\"line\":{\"color\":\"#2a3f5f\"}},\"annotationdefaults\":{\"arrowcolor\":\"#2a3f5f\",\"arrowhead\":0,\"arrowwidth\":1},\"geo\":{\"bgcolor\":\"white\",\"landcolor\":\"#E5ECF6\",\"subunitcolor\":\"white\",\"showland\":true,\"showlakes\":true,\"lakecolor\":\"white\"},\"title\":{\"x\":0.05},\"mapbox\":{\"style\":\"light\"}}},\"xaxis\":{\"title\":{\"text\":\"Date\"}},\"yaxis\":{\"title\":{\"text\":\"Portfolio Value\"}}},                        {\"responsive\": true}                    ).then(function(){\n                            \nvar gd = document.getElementById('e735ff5d-4dc4-4d6b-9dcd-93f391e93d55');\nvar x = new MutationObserver(function (mutations, observer) {{\n        var display = window.getComputedStyle(gd).display;\n        if (!display || display === 'none') {{\n            console.log([gd, 'removed!']);\n            Plotly.purge(gd);\n            observer.disconnect();\n        }}\n}});\n\n// Listen for the removal of the full notebook cells\nvar notebookContainer = gd.closest('#notebook-container');\nif (notebookContainer) {{\n    x.observe(notebookContainer, {childList: true});\n}}\n\n// Listen for the clearing of the current output cell\nvar outputEl = gd.closest('.output');\nif (outputEl) {{\n    x.observe(outputEl, {childList: true});\n}}\n\n                        })                };                });            </script>        </div>"
     },
     "metadata": {},
     "output_type": "display_data"
    }
   ],
   "source": [
    "fig = go.Figure(\n",
    "    [go.Scatter(x=df_flat_sentiment_stock_prices.index, y=df_flat_sentiment_stock_prices['Current Value'], name='Sentiment Portfolio'),\n",
    "     go.Scatter(x=df_flat_original_stock_prices.index, y=df_flat_original_stock_prices['Current Value'], name='Your Portfolio')]\n",
    ")\n",
    "fig.update_layout(    \n",
    "    xaxis_title='Date',\n",
    "    yaxis_title='Portfolio Value'\n",
    ")\n",
    "fig.show()"
   ],
   "metadata": {
    "collapsed": false,
    "ExecuteTime": {
     "end_time": "2023-11-27T06:55:46.904384400Z",
     "start_time": "2023-11-27T06:55:46.891099600Z"
    }
   },
   "id": "835eea1627727e5f"
  },
  {
   "cell_type": "code",
   "execution_count": null,
   "outputs": [],
   "source": [],
   "metadata": {
    "collapsed": false,
    "ExecuteTime": {
     "start_time": "2023-11-27T06:49:36.542944500Z"
    }
   },
   "id": "326cc8b40a7fc893"
  }
 ],
 "metadata": {
  "kernelspec": {
   "display_name": "Python 3",
   "language": "python",
   "name": "python3"
  },
  "language_info": {
   "codemirror_mode": {
    "name": "ipython",
    "version": 2
   },
   "file_extension": ".py",
   "mimetype": "text/x-python",
   "name": "python",
   "nbconvert_exporter": "python",
   "pygments_lexer": "ipython2",
   "version": "2.7.6"
  }
 },
 "nbformat": 4,
 "nbformat_minor": 5
}
